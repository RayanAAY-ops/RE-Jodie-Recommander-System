{
  "cells": [
    {
      "cell_type": "code",
      "execution_count": 2,
      "metadata": {
        "id": "Xq_u5mj7L8Av",
        "colab": {
          "base_uri": "https://localhost:8080/"
        },
        "outputId": "2120fd2d-3eff-47d3-91cd-5eb4d6bd9901"
      },
      "outputs": [
        {
          "output_type": "execute_result",
          "data": {
            "text/plain": [
              "<torch.autograd.profiler.emit_nvtx at 0x7f2ff7cb2410>"
            ]
          },
          "metadata": {},
          "execution_count": 2
        }
      ],
      "source": [
        "# libraries\n",
        "import pandas as pd\n",
        "import numpy as np\n",
        "import matplotlib.pyplot as plt\n",
        "import time\n",
        "import torch\n",
        "from tqdm import tqdm\n",
        "from preprocessing import PastUserState,extract_data_mooc,PreviousItemInteraction, extractFeatures,extractItemUserId,extractPastItem,extractNextUserState,UserNextInteraction, delta, t_batch_update,train_test_split,train_test_stratified_split\n",
        "from model import RODIE\n",
        "from sklearn.manifold import TSNE\n",
        "from train import dynamic_embedding,train_rodie\n",
        "from  torch import nn\n",
        "from torch.nn import RNNCell\n",
        "from torch.nn.functional import one_hot\n",
        "import math\n",
        "from torch.nn import functional as F\n",
        "from torch.nn import MSELoss, HuberLoss,L1Loss,CrossEntropyLoss\n",
        "from tqdm import tqdm\n",
        "\n",
        "\n",
        "torch.backends.cudnn.benchmark = True\n",
        "torch.autograd.set_detect_anomaly(False)\n",
        "torch.autograd.profiler.profile(False)\n",
        "torch.autograd.profiler.emit_nvtx(False)"
      ]
    },
    {
      "cell_type": "code",
      "execution_count": 2,
      "metadata": {
        "colab": {
          "base_uri": "https://localhost:8080/"
        },
        "id": "a2fs_9WWL8Ax",
        "outputId": "d1ebed95-3d53-42ee-a90b-22258f3dcffc"
      },
      "outputs": [
        {
          "output_type": "stream",
          "name": "stdout",
          "text": [
            "--2022-03-21 15:17:33--  https://snap.stanford.edu/data/act-mooc.tar.gz\n",
            "Resolving snap.stanford.edu (snap.stanford.edu)... 171.64.75.80\n",
            "Connecting to snap.stanford.edu (snap.stanford.edu)|171.64.75.80|:443... connected.\n",
            "HTTP request sent, awaiting response... 200 OK\n",
            "Length: 5378133 (5.1M) [application/x-gzip]\n",
            "Saving to: ‘act-mooc.tar.gz’\n",
            "\n",
            "act-mooc.tar.gz     100%[===================>]   5.13M  15.9MB/s    in 0.3s    \n",
            "\n",
            "2022-03-21 15:17:34 (15.9 MB/s) - ‘act-mooc.tar.gz’ saved [5378133/5378133]\n",
            "\n"
          ]
        }
      ],
      "source": [
        "## Téléchargement des données\n",
        "!wget https://snap.stanford.edu/data/act-mooc.tar.gz\n",
        "!tar -xzf  act-mooc.tar.gz\n",
        "!mkdir data"
      ]
    },
    {
      "cell_type": "code",
      "execution_count": 3,
      "metadata": {
        "id": "4T5CbB9KL8Ax"
      },
      "outputs": [],
      "source": [
        "features = pd.read_csv(\"act-mooc/mooc_action_features.tsv\",sep=\"\\t\")\n",
        "labels = pd.read_csv(\"act-mooc/mooc_action_labels.tsv\",sep=\"\\t\")\n",
        "users = pd.read_csv(\"act-mooc/mooc_actions.tsv\",sep=\"\\t\")"
      ]
    },
    {
      "cell_type": "markdown",
      "metadata": {
        "id": "JLCAaTlZL8Ay"
      },
      "source": [
        "#### Load & Preprocess Data"
      ]
    },
    {
      "cell_type": "code",
      "source": [
        "mooc_data = extract_data_mooc()\n"
      ],
      "metadata": {
        "id": "nkZ91GH-YhI_"
      },
      "execution_count": 4,
      "outputs": []
    },
    {
      "cell_type": "code",
      "source": [
        "delta_u  = delta(mooc_data.copy(),\"user_id\")\n",
        "delta_i  = delta(mooc_data.copy(),\"item_id\")\n",
        "PreviousItemInteraction_ = PreviousItemInteraction(mooc_data.copy()).astype(int)\n",
        "next_state_user = PastUserState(mooc_data.copy()).astype(int)\n",
        "\n",
        "interaction_column_name = \"PreviousItemInteraction\"\n",
        "pastState_column_name =  \"previous_state_label\""
      ],
      "metadata": {
        "colab": {
          "base_uri": "https://localhost:8080/"
        },
        "id": "eq5YHpG3f84_",
        "outputId": "a89e7aa4-adf7-4315-f65a-5ea84f92ad39"
      },
      "execution_count": 5,
      "outputs": [
        {
          "output_type": "stream",
          "name": "stdout",
          "text": [
            "delta user_id\n",
            "delta item_id\n"
          ]
        }
      ]
    },
    {
      "cell_type": "markdown",
      "source": [
        ""
      ],
      "metadata": {
        "id": "-KmIGlEi1dDt"
      }
    },
    {
      "cell_type": "code",
      "execution_count": 6,
      "metadata": {
        "id": "nFoGBgxNL8Az",
        "colab": {
          "base_uri": "https://localhost:8080/",
          "height": 523
        },
        "outputId": "aeaadb96-fbd2-44e1-ad16-e76c765f3a72"
      },
      "outputs": [
        {
          "output_type": "execute_result",
          "data": {
            "text/plain": [
              "          user_id  item_id  timestamp  state_label   delta_u   delta_i  \\\n",
              "ACTIONID                                                                 \n",
              "0               0        0        0.0            0  0.000000  0.000000   \n",
              "1               0        1        6.0            0  0.000064  0.000000   \n",
              "2               0        2       41.0            0  0.000372  0.000000   \n",
              "3               0        1       49.0            0  0.000085  0.007652   \n",
              "4               0        2       51.0            0  0.000021  0.001780   \n",
              "...           ...      ...        ...          ...       ...       ...   \n",
              "411744       7026        8  2572041.0            0  0.511035  0.496339   \n",
              "411745       6842        8  2572043.0            0  0.859978  0.000356   \n",
              "411746       7026        9  2572048.0            0  0.000074  0.075990   \n",
              "411747       6842        5  2572054.0            0  0.000117  1.790307   \n",
              "411748         70       23  2572086.0            0  1.767914  0.371053   \n",
              "\n",
              "          PreviousItemInteraction  previous_state_label        f1        f2  \\\n",
              "ACTIONID                                                                      \n",
              "0                              -1                     0 -0.319991 -0.435701   \n",
              "1                               0                     0 -0.319991 -0.435701   \n",
              "2                               1                     0 -0.319991 -0.435701   \n",
              "3                               2                     0 -0.319991 -0.435701   \n",
              "4                               1                     0 -0.319991 -0.435701   \n",
              "...                           ...                   ...       ...       ...   \n",
              "411744                         71                     0 -0.319991 -0.435701   \n",
              "411745                          8                     0 -0.319991 -0.435701   \n",
              "411746                          8                     0 -0.319991 -0.435701   \n",
              "411747                          9                     0 -0.319991 -0.435701   \n",
              "411748                          5                     0 -0.319991 -0.435701   \n",
              "\n",
              "                f3        f4  \n",
              "ACTIONID                      \n",
              "0         0.106784 -0.067309  \n",
              "1         0.106784 -0.067309  \n",
              "2         0.106784 -0.067309  \n",
              "3         0.106784 -0.067309  \n",
              "4         0.106784 -0.067309  \n",
              "...            ...       ...  \n",
              "411744    0.106784 -0.067309  \n",
              "411745    0.106784 -0.067309  \n",
              "411746    0.106784 -0.067309  \n",
              "411747    0.106784 -0.067309  \n",
              "411748    0.106784 -0.067309  \n",
              "\n",
              "[411749 rows x 12 columns]"
            ],
            "text/html": [
              "\n",
              "  <div id=\"df-91d557b8-6069-4263-89b1-4c65c427c7db\">\n",
              "    <div class=\"colab-df-container\">\n",
              "      <div>\n",
              "<style scoped>\n",
              "    .dataframe tbody tr th:only-of-type {\n",
              "        vertical-align: middle;\n",
              "    }\n",
              "\n",
              "    .dataframe tbody tr th {\n",
              "        vertical-align: top;\n",
              "    }\n",
              "\n",
              "    .dataframe thead th {\n",
              "        text-align: right;\n",
              "    }\n",
              "</style>\n",
              "<table border=\"1\" class=\"dataframe\">\n",
              "  <thead>\n",
              "    <tr style=\"text-align: right;\">\n",
              "      <th></th>\n",
              "      <th>user_id</th>\n",
              "      <th>item_id</th>\n",
              "      <th>timestamp</th>\n",
              "      <th>state_label</th>\n",
              "      <th>delta_u</th>\n",
              "      <th>delta_i</th>\n",
              "      <th>PreviousItemInteraction</th>\n",
              "      <th>previous_state_label</th>\n",
              "      <th>f1</th>\n",
              "      <th>f2</th>\n",
              "      <th>f3</th>\n",
              "      <th>f4</th>\n",
              "    </tr>\n",
              "    <tr>\n",
              "      <th>ACTIONID</th>\n",
              "      <th></th>\n",
              "      <th></th>\n",
              "      <th></th>\n",
              "      <th></th>\n",
              "      <th></th>\n",
              "      <th></th>\n",
              "      <th></th>\n",
              "      <th></th>\n",
              "      <th></th>\n",
              "      <th></th>\n",
              "      <th></th>\n",
              "      <th></th>\n",
              "    </tr>\n",
              "  </thead>\n",
              "  <tbody>\n",
              "    <tr>\n",
              "      <th>0</th>\n",
              "      <td>0</td>\n",
              "      <td>0</td>\n",
              "      <td>0.0</td>\n",
              "      <td>0</td>\n",
              "      <td>0.000000</td>\n",
              "      <td>0.000000</td>\n",
              "      <td>-1</td>\n",
              "      <td>0</td>\n",
              "      <td>-0.319991</td>\n",
              "      <td>-0.435701</td>\n",
              "      <td>0.106784</td>\n",
              "      <td>-0.067309</td>\n",
              "    </tr>\n",
              "    <tr>\n",
              "      <th>1</th>\n",
              "      <td>0</td>\n",
              "      <td>1</td>\n",
              "      <td>6.0</td>\n",
              "      <td>0</td>\n",
              "      <td>0.000064</td>\n",
              "      <td>0.000000</td>\n",
              "      <td>0</td>\n",
              "      <td>0</td>\n",
              "      <td>-0.319991</td>\n",
              "      <td>-0.435701</td>\n",
              "      <td>0.106784</td>\n",
              "      <td>-0.067309</td>\n",
              "    </tr>\n",
              "    <tr>\n",
              "      <th>2</th>\n",
              "      <td>0</td>\n",
              "      <td>2</td>\n",
              "      <td>41.0</td>\n",
              "      <td>0</td>\n",
              "      <td>0.000372</td>\n",
              "      <td>0.000000</td>\n",
              "      <td>1</td>\n",
              "      <td>0</td>\n",
              "      <td>-0.319991</td>\n",
              "      <td>-0.435701</td>\n",
              "      <td>0.106784</td>\n",
              "      <td>-0.067309</td>\n",
              "    </tr>\n",
              "    <tr>\n",
              "      <th>3</th>\n",
              "      <td>0</td>\n",
              "      <td>1</td>\n",
              "      <td>49.0</td>\n",
              "      <td>0</td>\n",
              "      <td>0.000085</td>\n",
              "      <td>0.007652</td>\n",
              "      <td>2</td>\n",
              "      <td>0</td>\n",
              "      <td>-0.319991</td>\n",
              "      <td>-0.435701</td>\n",
              "      <td>0.106784</td>\n",
              "      <td>-0.067309</td>\n",
              "    </tr>\n",
              "    <tr>\n",
              "      <th>4</th>\n",
              "      <td>0</td>\n",
              "      <td>2</td>\n",
              "      <td>51.0</td>\n",
              "      <td>0</td>\n",
              "      <td>0.000021</td>\n",
              "      <td>0.001780</td>\n",
              "      <td>1</td>\n",
              "      <td>0</td>\n",
              "      <td>-0.319991</td>\n",
              "      <td>-0.435701</td>\n",
              "      <td>0.106784</td>\n",
              "      <td>-0.067309</td>\n",
              "    </tr>\n",
              "    <tr>\n",
              "      <th>...</th>\n",
              "      <td>...</td>\n",
              "      <td>...</td>\n",
              "      <td>...</td>\n",
              "      <td>...</td>\n",
              "      <td>...</td>\n",
              "      <td>...</td>\n",
              "      <td>...</td>\n",
              "      <td>...</td>\n",
              "      <td>...</td>\n",
              "      <td>...</td>\n",
              "      <td>...</td>\n",
              "      <td>...</td>\n",
              "    </tr>\n",
              "    <tr>\n",
              "      <th>411744</th>\n",
              "      <td>7026</td>\n",
              "      <td>8</td>\n",
              "      <td>2572041.0</td>\n",
              "      <td>0</td>\n",
              "      <td>0.511035</td>\n",
              "      <td>0.496339</td>\n",
              "      <td>71</td>\n",
              "      <td>0</td>\n",
              "      <td>-0.319991</td>\n",
              "      <td>-0.435701</td>\n",
              "      <td>0.106784</td>\n",
              "      <td>-0.067309</td>\n",
              "    </tr>\n",
              "    <tr>\n",
              "      <th>411745</th>\n",
              "      <td>6842</td>\n",
              "      <td>8</td>\n",
              "      <td>2572043.0</td>\n",
              "      <td>0</td>\n",
              "      <td>0.859978</td>\n",
              "      <td>0.000356</td>\n",
              "      <td>8</td>\n",
              "      <td>0</td>\n",
              "      <td>-0.319991</td>\n",
              "      <td>-0.435701</td>\n",
              "      <td>0.106784</td>\n",
              "      <td>-0.067309</td>\n",
              "    </tr>\n",
              "    <tr>\n",
              "      <th>411746</th>\n",
              "      <td>7026</td>\n",
              "      <td>9</td>\n",
              "      <td>2572048.0</td>\n",
              "      <td>0</td>\n",
              "      <td>0.000074</td>\n",
              "      <td>0.075990</td>\n",
              "      <td>8</td>\n",
              "      <td>0</td>\n",
              "      <td>-0.319991</td>\n",
              "      <td>-0.435701</td>\n",
              "      <td>0.106784</td>\n",
              "      <td>-0.067309</td>\n",
              "    </tr>\n",
              "    <tr>\n",
              "      <th>411747</th>\n",
              "      <td>6842</td>\n",
              "      <td>5</td>\n",
              "      <td>2572054.0</td>\n",
              "      <td>0</td>\n",
              "      <td>0.000117</td>\n",
              "      <td>1.790307</td>\n",
              "      <td>9</td>\n",
              "      <td>0</td>\n",
              "      <td>-0.319991</td>\n",
              "      <td>-0.435701</td>\n",
              "      <td>0.106784</td>\n",
              "      <td>-0.067309</td>\n",
              "    </tr>\n",
              "    <tr>\n",
              "      <th>411748</th>\n",
              "      <td>70</td>\n",
              "      <td>23</td>\n",
              "      <td>2572086.0</td>\n",
              "      <td>0</td>\n",
              "      <td>1.767914</td>\n",
              "      <td>0.371053</td>\n",
              "      <td>5</td>\n",
              "      <td>0</td>\n",
              "      <td>-0.319991</td>\n",
              "      <td>-0.435701</td>\n",
              "      <td>0.106784</td>\n",
              "      <td>-0.067309</td>\n",
              "    </tr>\n",
              "  </tbody>\n",
              "</table>\n",
              "<p>411749 rows × 12 columns</p>\n",
              "</div>\n",
              "      <button class=\"colab-df-convert\" onclick=\"convertToInteractive('df-91d557b8-6069-4263-89b1-4c65c427c7db')\"\n",
              "              title=\"Convert this dataframe to an interactive table.\"\n",
              "              style=\"display:none;\">\n",
              "        \n",
              "  <svg xmlns=\"http://www.w3.org/2000/svg\" height=\"24px\"viewBox=\"0 0 24 24\"\n",
              "       width=\"24px\">\n",
              "    <path d=\"M0 0h24v24H0V0z\" fill=\"none\"/>\n",
              "    <path d=\"M18.56 5.44l.94 2.06.94-2.06 2.06-.94-2.06-.94-.94-2.06-.94 2.06-2.06.94zm-11 1L8.5 8.5l.94-2.06 2.06-.94-2.06-.94L8.5 2.5l-.94 2.06-2.06.94zm10 10l.94 2.06.94-2.06 2.06-.94-2.06-.94-.94-2.06-.94 2.06-2.06.94z\"/><path d=\"M17.41 7.96l-1.37-1.37c-.4-.4-.92-.59-1.43-.59-.52 0-1.04.2-1.43.59L10.3 9.45l-7.72 7.72c-.78.78-.78 2.05 0 2.83L4 21.41c.39.39.9.59 1.41.59.51 0 1.02-.2 1.41-.59l7.78-7.78 2.81-2.81c.8-.78.8-2.07 0-2.86zM5.41 20L4 18.59l7.72-7.72 1.47 1.35L5.41 20z\"/>\n",
              "  </svg>\n",
              "      </button>\n",
              "      \n",
              "  <style>\n",
              "    .colab-df-container {\n",
              "      display:flex;\n",
              "      flex-wrap:wrap;\n",
              "      gap: 12px;\n",
              "    }\n",
              "\n",
              "    .colab-df-convert {\n",
              "      background-color: #E8F0FE;\n",
              "      border: none;\n",
              "      border-radius: 50%;\n",
              "      cursor: pointer;\n",
              "      display: none;\n",
              "      fill: #1967D2;\n",
              "      height: 32px;\n",
              "      padding: 0 0 0 0;\n",
              "      width: 32px;\n",
              "    }\n",
              "\n",
              "    .colab-df-convert:hover {\n",
              "      background-color: #E2EBFA;\n",
              "      box-shadow: 0px 1px 2px rgba(60, 64, 67, 0.3), 0px 1px 3px 1px rgba(60, 64, 67, 0.15);\n",
              "      fill: #174EA6;\n",
              "    }\n",
              "\n",
              "    [theme=dark] .colab-df-convert {\n",
              "      background-color: #3B4455;\n",
              "      fill: #D2E3FC;\n",
              "    }\n",
              "\n",
              "    [theme=dark] .colab-df-convert:hover {\n",
              "      background-color: #434B5C;\n",
              "      box-shadow: 0px 1px 3px 1px rgba(0, 0, 0, 0.15);\n",
              "      filter: drop-shadow(0px 1px 2px rgba(0, 0, 0, 0.3));\n",
              "      fill: #FFFFFF;\n",
              "    }\n",
              "  </style>\n",
              "\n",
              "      <script>\n",
              "        const buttonEl =\n",
              "          document.querySelector('#df-91d557b8-6069-4263-89b1-4c65c427c7db button.colab-df-convert');\n",
              "        buttonEl.style.display =\n",
              "          google.colab.kernel.accessAllowed ? 'block' : 'none';\n",
              "\n",
              "        async function convertToInteractive(key) {\n",
              "          const element = document.querySelector('#df-91d557b8-6069-4263-89b1-4c65c427c7db');\n",
              "          const dataTable =\n",
              "            await google.colab.kernel.invokeFunction('convertToInteractive',\n",
              "                                                     [key], {});\n",
              "          if (!dataTable) return;\n",
              "\n",
              "          const docLinkHtml = 'Like what you see? Visit the ' +\n",
              "            '<a target=\"_blank\" href=https://colab.research.google.com/notebooks/data_table.ipynb>data table notebook</a>'\n",
              "            + ' to learn more about interactive tables.';\n",
              "          element.innerHTML = '';\n",
              "          dataTable['output_type'] = 'display_data';\n",
              "          await google.colab.output.renderOutput(dataTable, element);\n",
              "          const docLink = document.createElement('div');\n",
              "          docLink.innerHTML = docLinkHtml;\n",
              "          element.appendChild(docLink);\n",
              "        }\n",
              "      </script>\n",
              "    </div>\n",
              "  </div>\n",
              "  "
            ]
          },
          "metadata": {},
          "execution_count": 6
        }
      ],
      "source": [
        "mooc_data['delta_u'] = delta_u/np.std(delta_u)\n",
        "mooc_data['delta_i'] = delta_i/np.std(delta_i)\n",
        "mooc_data[interaction_column_name] = PreviousItemInteraction_\n",
        "mooc_data[pastState_column_name] = next_state_user\n",
        "list_moins_un = list(mooc_data[mooc_data[pastState_column_name] == -1].index.values)\n",
        "mooc_data.loc[list_moins_un,pastState_column_name] = 0\n",
        "data = mooc_data.copy()\n",
        "#data = data[data.next_state_user != -1]\n",
        "\n",
        "data = data[['user_id', 'item_id', 'timestamp', 'state_label','delta_u', 'delta_i', interaction_column_name, pastState_column_name,'f1', 'f2', 'f3','f4']].sort_values(['timestamp'])\n",
        "data"
      ]
    },
    {
      "cell_type": "markdown",
      "metadata": {
        "id": "IiCCdNMNL8A0"
      },
      "source": [
        "### T-batches\n",
        "\n",
        "#### Train / Test SPLIT"
      ]
    },
    {
      "cell_type": "code",
      "source": [
        "t_batches_train = t_batch_update(data)\n"
      ],
      "metadata": {
        "id": "D4-z_QuOQfk4",
        "colab": {
          "base_uri": "https://localhost:8080/"
        },
        "outputId": "73054d6f-480e-4a52-c006-d67cd067c783"
      },
      "execution_count": 7,
      "outputs": [
        {
          "output_type": "stream",
          "name": "stdout",
          "text": [
            "T-Batch start...\n",
            "Number of interaction = 411749\n",
            "T-Batch ends !\n"
          ]
        }
      ]
    },
    {
      "cell_type": "code",
      "source": [
        "len(t_batches_train)"
      ],
      "metadata": {
        "colab": {
          "base_uri": "https://localhost:8080/"
        },
        "id": "wZpFc7mbJiaL",
        "outputId": "a7581bf4-7333-4e67-d11d-8e23662b736c"
      },
      "execution_count": 8,
      "outputs": [
        {
          "output_type": "execute_result",
          "data": {
            "text/plain": [
              "63461"
            ]
          },
          "metadata": {},
          "execution_count": 8
        }
      ]
    },
    {
      "cell_type": "markdown",
      "metadata": {
        "id": "PZldOSzFL8A1"
      },
      "source": [
        "##### Initialize Device"
      ]
    },
    {
      "cell_type": "code",
      "execution_count": 9,
      "metadata": {
        "colab": {
          "base_uri": "https://localhost:8080/"
        },
        "id": "7xuMzz5NL8A1",
        "outputId": "4213e6c6-614a-4e01-ec6c-a94c19e9f34b"
      },
      "outputs": [
        {
          "output_type": "stream",
          "name": "stdout",
          "text": [
            "Using device: cuda\n"
          ]
        }
      ],
      "source": [
        "# setting device on GPU if available, else CPU\n",
        "device = torch.device('cuda' if torch.cuda.is_available() else 'cpu')\n",
        "#device = \"cpu\"\n",
        "print('Using device:', device)"
      ]
    },
    {
      "cell_type": "markdown",
      "metadata": {
        "id": "SyoLG1SXL8A2"
      },
      "source": [
        "##### Initialize the model"
      ]
    },
    {
      "cell_type": "code",
      "source": [
        "# Test le modèle sur peu de données\n",
        "import itertools\n",
        "interactions_ = []\n",
        "n_batches = 50000\n",
        "t_batches_ = dict(itertools.islice(t_batches_train.items(), n_batches))\n",
        "number_of_interactions = 0\n",
        "for x,y in t_batches_.items():\n",
        "  number_of_interactions +=(len(y))\n",
        "  interactions_.append(y)\n",
        "interactions = list(itertools.chain(*interactions_)) # Flatten the list of list\n",
        "print(\"Number of interactions in {} batches is equal to {}\".format(n_batches,number_of_interactions))"
      ],
      "metadata": {
        "id": "iGpg_gLLMwoo",
        "colab": {
          "base_uri": "https://localhost:8080/"
        },
        "outputId": "931615a5-6ea6-4bd9-dd2c-acde31509e89"
      },
      "execution_count": 45,
      "outputs": [
        {
          "output_type": "stream",
          "name": "stdout",
          "text": [
            "Number of interactions in 50000 batches is equal to 318977\n"
          ]
        }
      ]
    },
    {
      "cell_type": "code",
      "source": [
        "# Its important to add this to the loss, because the dataset is unbalanced\n",
        "dropout_ratio = len(interactions)/(1.0+ np.sum(data.loc[interactions,'state_label']))\n",
        "weight_ratio = torch.Tensor([1.0,dropout_ratio]).to(device)\n",
        "print(\"Number of dropout in the train data is {}\".format(np.sum(data.loc[interactions,'state_label'])))"
      ],
      "metadata": {
        "colab": {
          "base_uri": "https://localhost:8080/"
        },
        "id": "GUpwh4O8MZo_",
        "outputId": "e44d4f4b-7b83-416f-b1a8-af983cebff1b"
      },
      "execution_count": 48,
      "outputs": [
        {
          "output_type": "stream",
          "name": "stdout",
          "text": [
            "Number of dropout in the train data is 3194\n"
          ]
        }
      ]
    },
    {
      "cell_type": "code",
      "source": [
        "embedding_dim = 32\n",
        "data_torch = torch.from_numpy(data.values.astype(np.float32))\n",
        "model = RODIE(embedding_dim,data_torch,device=device,activation_rnn=\"tanh\").to(device)"
      ],
      "metadata": {
        "colab": {
          "base_uri": "https://localhost:8080/"
        },
        "id": "AJPXwwqWQrMs",
        "outputId": "c86f49ed-46e5-4273-d186-10c31b0392cb"
      },
      "execution_count": 49,
      "outputs": [
        {
          "output_type": "stream",
          "name": "stdout",
          "text": [
            "Number of users of 7047 \n",
            " Number of items 97 \n",
            "\n",
            "Dataset size [411749, 12]\n",
            "Initialisation of static embedding... Done !\n",
            "Static Embedding shape : Users [7047, 7047], \t Items [98, 98]\n",
            "Initialisation of rnn's with tanh activation function... Done !\n",
            "Initialisation of MLP... Done !\n"
          ]
        }
      ]
    },
    {
      "cell_type": "markdown",
      "metadata": {
        "id": "X09xB2eqL8A3"
      },
      "source": [
        "##### Train Loop"
      ]
    },
    {
      "cell_type": "code",
      "source": [
        "\n",
        "from torch.nn import MSELoss, HuberLoss,L1Loss,CrossEntropyLoss\n",
        "from preprocessing import *\n",
        "import torch\n",
        "from  torch import nn\n",
        "from torch.nn import RNNCell\n",
        "from torch.nn.functional import one_hot\n",
        "import math\n",
        "from tqdm import tqdm\n",
        "from torch.nn import MSELoss, HuberLoss,L1Loss,CrossEntropyLoss\n",
        "from torch.nn import functional as F\n",
        "\n",
        "def dynamic_embedding(data,embedding_dim):\n",
        "        num_users = len(torch.unique(data[:,0]))\n",
        "        num_items = len(torch.unique(data[:,1]))\n",
        "        dynamic_users_embedding = F.normalize(torch.randn(embedding_dim).repeat(num_users,1),dim=0)#nn.init.kaiming_uniform_(w, mode='fan_in', nonlinearity='relu')#F.normalize(torch.randn(num_users,embedding_dim))\n",
        "        dynamic_items_embedding = F.normalize(torch.randn(embedding_dim).repeat(num_items+1,1),dim=0)\n",
        "\n",
        "        print(\"Initialisation of dynamic embedding... Done !\")\n",
        "        print(\"Dynamic Embedding shape : Users {}, \\t Items {}\".format(list(dynamic_users_embedding.size()),list(dynamic_items_embedding.size())))\n",
        "\n",
        "        return dynamic_users_embedding,dynamic_items_embedding\n",
        "\n",
        "\n",
        "\n",
        "def regularizer(actual_user_embedding,future_user_embedding,lambda_u,\n",
        "                               actual_item_embedding,future_item_embedding,lambda_i\n",
        "                               ):\n",
        "    u_regularization_loss =  MSELoss()(actual_user_embedding,future_user_embedding)\n",
        "    i_regularization_loss =  MSELoss()(actual_item_embedding,future_item_embedding)\n",
        "    return lambda_u* u_regularization_loss + lambda_i* i_regularization_loss \n",
        "\n",
        "\n",
        "def train_rodie(t_batches,\n",
        "          data,\n",
        "          weight_ratio,\n",
        "          model,\n",
        "          optimizer,\n",
        "          learning_rate,\n",
        "          n_epochs,\n",
        "          lambda_u,\n",
        "          lambda_i,\n",
        "          device,\n",
        "\n",
        "          ):\n",
        "\n",
        "  U,I = dynamic_embedding(data,model.embedding_dim)  # Initial dynamic embedding\n",
        "    \n",
        "  U = U.to(device)\n",
        "  I = I.to(device)\n",
        "  print(\"Training...\")\n",
        " # U_copy = U.clone().detach()\n",
        " # I_copy = I.clone().detach()\n",
        "  #scheduler = torch.optim.lr_scheduler.ReduceLROnPlateau(optimizer, 'min')\n",
        "  for e in range(n_epochs):\n",
        "    l = 0\n",
        "    \n",
        "    for (_,rows),_ in zip(t_batches.items(),tqdm(range(len(t_batches)), position=0, leave=True)):\n",
        "      optimizer.zero_grad()\n",
        "      users_idx,items_idx = extractItemUserId(data,rows)\n",
        "      state_label,delta_u,delta_i,f = extractFeatures(data,rows)\n",
        "      next_item = extractPastItem(data,rows)\n",
        "      u_static, i_static = model.static_users_embedding[users_idx], model.static_items_embedding[items_idx]\n",
        "\n",
        "\n",
        "      user_embedding, item_embedding = U[users_idx], I[items_idx]\n",
        "      next_item_static_embedding, next_item_dynamic_embedding = model.static_items_embedding[[int(x) for x in next_item]], I[[int(x) for x in next_item]]\n",
        "\n",
        "      u_static = u_static.to(device)\n",
        "      i_static = i_static.to(device)\n",
        "      f = f.to(device)\n",
        "      delta_u = delta_u.to(device)\n",
        "      delta_i = delta_i.to(device)\n",
        "      state_label = state_label.type(torch.LongTensor).to(device)\n",
        "      next_item_dynamic_embedding = next_item_dynamic_embedding.to(device)\n",
        "      next_item_static_embedding = next_item_static_embedding.to(device)\n",
        "      \n",
        "      # The forward pass of the model : extract dynamic embeddings (user+item ), and predicted user state and predicted item embedding\n",
        "      future_user_embedding,future_item_embedding,U_pred_state,j_tilde,j_true = model(item_embedding,\n",
        "                user_embedding,\n",
        "                u_static,\n",
        "                i_static,\n",
        "                f,\n",
        "                delta_u,\n",
        "                delta_i,\n",
        "                next_item_dynamic_embedding,\n",
        "                next_item_static_embedding)\n",
        "      # Add the new embedding to the placeholder U and I\n",
        "      U[users_idx] = future_user_embedding.detach()\n",
        "      I[items_idx] = future_item_embedding.detach()\n",
        "      \n",
        "      # Return loss value between the predicted embedding \"j_tilde\" and the real next item embedding j_true\n",
        "      \n",
        "      loss = MSELoss()(j_tilde,j_true)#.detach()\n",
        "      loss += regularizer(user_embedding.detach(),future_user_embedding,lambda_u,\n",
        "                            item_embedding.detach(),future_item_embedding,lambda_i\n",
        "                            )\n",
        "      \n",
        "      loss += CrossEntropyLoss(weight_ratio)(U_pred_state,state_label)\n",
        "      #print(I[0])\n",
        "      loss.backward()\n",
        "      l += loss.item()\n",
        "     # torch.nn.utils.clip_grad_norm_(model.parameters(),max_norm=100.)\n",
        "      optimizer.step()\n",
        "\n",
        "    #scheduler.step(loss)\n",
        "    print(\"Epoch {} Loss {}\".format(e,l))\n",
        "\n",
        "  return model,U,I\n"
      ],
      "metadata": {
        "id": "zHAK4-geD0pW"
      },
      "execution_count": 50,
      "outputs": []
    },
    {
      "cell_type": "code",
      "execution_count": null,
      "metadata": {
        "id": "Zytz5La7L8A3",
        "colab": {
          "base_uri": "https://localhost:8080/"
        },
        "outputId": "48754455-5935-48a4-8e01-658a5e465bad"
      },
      "outputs": [
        {
          "output_type": "stream",
          "name": "stdout",
          "text": [
            "Initialisation of dynamic embedding... Done !\n",
            "Dynamic Embedding shape : Users [7047, 32], \t Items [98, 32]\n",
            "Training...\n"
          ]
        },
        {
          "output_type": "stream",
          "name": "stderr",
          "text": [
            " 13%|█▎        | 6293/50000 [00:31<03:43, 195.66it/s]"
          ]
        }
      ],
      "source": [
        "n_epochs = 10\n",
        "lambda_u = 1\n",
        "lambda_i = 1\n",
        "learning_rate=1e-3\n",
        "optimizer = torch.optim.Adam(model.parameters(),lr=learning_rate,weight_decay=1e-5)\n",
        "\n",
        "model_,U,I = train_rodie(t_batches_,\n",
        "          data_torch,\n",
        "          weight_ratio,\n",
        "          model,\n",
        "          optimizer,\n",
        "          learning_rate,\n",
        "          n_epochs,\n",
        "          lambda_u,\n",
        "          lambda_i,\n",
        "          device\n",
        "          )"
      ]
    },
    {
      "cell_type": "code",
      "source": [
        "dd = list(np.unique(data.loc[interactions,'user_id']))"
      ],
      "metadata": {
        "id": "MfduBB6T5PZd"
      },
      "execution_count": 27,
      "outputs": []
    },
    {
      "cell_type": "code",
      "source": [
        "len(dd)"
      ],
      "metadata": {
        "colab": {
          "base_uri": "https://localhost:8080/"
        },
        "id": "wKvIO37cGOMl",
        "outputId": "83287db8-5a3e-4aaf-a244-ee3d62037029"
      },
      "execution_count": 28,
      "outputs": [
        {
          "output_type": "execute_result",
          "data": {
            "text/plain": [
              "3137"
            ]
          },
          "metadata": {},
          "execution_count": 28
        }
      ]
    },
    {
      "cell_type": "markdown",
      "source": [
        "## TSNE"
      ],
      "metadata": {
        "id": "0TnL3bTCZp8P"
      }
    },
    {
      "cell_type": "code",
      "source": [
        "dd = sum(interactions_, [])\n",
        "new_df = data.iloc[interactions,:].copy()\n",
        "list_of_change = new_df[new_df['state_label'] == 1]['user_id'].values\n",
        "data_  = (U.detach().cpu().clone()).numpy()\n",
        "df = pd.DataFrame(data_)\n",
        "df['label'] = np.zeros((7047,1))\n",
        "for index, row in df.iterrows():\n",
        "    for d in list_of_change:\n",
        "      if index == d:\n",
        "        df.iloc[index,-1] = 1\n",
        "\n",
        "len(list_of_change)"
      ],
      "metadata": {
        "id": "s6UpfGj9A11W",
        "colab": {
          "base_uri": "https://localhost:8080/"
        },
        "outputId": "fdf95004-6291-438d-d820-bd4f9175b83e"
      },
      "execution_count": 29,
      "outputs": [
        {
          "output_type": "execute_result",
          "data": {
            "text/plain": [
              "571"
            ]
          },
          "metadata": {},
          "execution_count": 29
        }
      ]
    },
    {
      "cell_type": "code",
      "source": [
        "tsne = TSNE(2)\n",
        "data_tsne = tsne.fit_transform(data_)"
      ],
      "metadata": {
        "id": "pb3fEAXsleGN",
        "colab": {
          "base_uri": "https://localhost:8080/"
        },
        "outputId": "d54664ca-4a07-4b31-8766-6a2b4cd39abe"
      },
      "execution_count": 30,
      "outputs": [
        {
          "output_type": "stream",
          "name": "stderr",
          "text": [
            "/usr/local/lib/python3.7/dist-packages/sklearn/manifold/_t_sne.py:783: FutureWarning: The default initialization in TSNE will change from 'random' to 'pca' in 1.2.\n",
            "  FutureWarning,\n",
            "/usr/local/lib/python3.7/dist-packages/sklearn/manifold/_t_sne.py:793: FutureWarning: The default learning rate in TSNE will change from 200.0 to 'auto' in 1.2.\n",
            "  FutureWarning,\n"
          ]
        }
      ]
    },
    {
      "cell_type": "code",
      "source": [
        "dd = list(np.unique(data.loc[dd,'user_id']))"
      ],
      "metadata": {
        "id": "ONTdxTnq-G-P"
      },
      "execution_count": 31,
      "outputs": []
    },
    {
      "cell_type": "code",
      "source": [
        "df[['t1','t2']] = data_tsne\n",
        "dff = df.loc[dd]"
      ],
      "metadata": {
        "id": "l9Hrx1wYzibv"
      },
      "execution_count": 32,
      "outputs": []
    },
    {
      "cell_type": "code",
      "source": [
        "import seaborn as sns\n",
        "sns.scatterplot(data=dff, x=\"t1\", y=\"t2\", hue=\"label\",style=\"label\")"
      ],
      "metadata": {
        "colab": {
          "base_uri": "https://localhost:8080/",
          "height": 316
        },
        "id": "22RqvgToydgW",
        "outputId": "cfb70f4d-9cfe-4ca4-ba79-e13a7da9317e"
      },
      "execution_count": 33,
      "outputs": [
        {
          "output_type": "execute_result",
          "data": {
            "text/plain": [
              "<matplotlib.axes._subplots.AxesSubplot at 0x7f2fec036ad0>"
            ]
          },
          "metadata": {},
          "execution_count": 33
        },
        {
          "output_type": "display_data",
          "data": {
            "text/plain": [
              "<Figure size 432x288 with 1 Axes>"
            ],
            "image/png": "[encoded data removed]"
          },
          "metadata": {
            "needs_background": "light"
          }
        }
      ]
    },
    {
      "cell_type": "code",
      "source": [
        "tsne = TSNE(2)\n",
        "n_items = list(np.unique(data.loc[interactions,'item_id']))\n",
        "data_tsne = tsne.fit_transform(I.detach().cpu().clone())\n",
        "plt.scatter(data_tsne[n_items,0],data_tsne[n_items,1])"
      ],
      "metadata": {
        "id": "9JDOUyGy0tZE"
      },
      "execution_count": null,
      "outputs": []
    },
    {
      "cell_type": "code",
      "source": [
        ""
      ],
      "metadata": {
        "id": "JBLZEqtxP1za"
      },
      "execution_count": null,
      "outputs": []
    }
  ],
  "metadata": {
    "interpreter": {
      "hash": "bef1584e9c6af06ba1c2e66d205bd6622ae056162fc057ef1acd3cc06b90e6ba"
    },
    "kernelspec": {
      "display_name": "Python 3.8.8 ('base')",
      "language": "python",
      "name": "python3"
    },
    "language_info": {
      "codemirror_mode": {
        "name": "ipython",
        "version": 3
      },
      "file_extension": ".py",
      "mimetype": "text/x-python",
      "name": "python",
      "nbconvert_exporter": "python",
      "pygments_lexer": "ipython3",
      "version": "3.8.8"
    },
    "orig_nbformat": 4,
    "colab": {
      "name": "main.ipynb",
      "provenance": [],
      "collapsed_sections": []
    },
    "accelerator": "GPU"
  },
  "nbformat": 4,
  "nbformat_minor": 0
}