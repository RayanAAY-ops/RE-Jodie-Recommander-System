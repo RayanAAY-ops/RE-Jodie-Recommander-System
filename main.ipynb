{
  "cells": [
    {
      "cell_type": "code",
      "execution_count": 2,
      "metadata": {
        "id": "Xq_u5mj7L8Av",
        "colab": {
          "base_uri": "https://localhost:8080/"
        },
        "outputId": "2120fd2d-3eff-47d3-91cd-5eb4d6bd9901"
      },
      "outputs": [
        {
          "output_type": "execute_result",
          "data": {
            "text/plain": [
              "<torch.autograd.profiler.emit_nvtx at 0x7f2ff7cb2410>"
            ]
          },
          "metadata": {},
          "execution_count": 2
        }
      ],
      "source": [
        "# libraries\n",
        "import pandas as pd\n",
        "import numpy as np\n",
        "import matplotlib.pyplot as plt\n",
        "import time\n",
        "import torch\n",
        "from tqdm import tqdm\n",
        "from preprocessing import PastUserState,extract_data_mooc,PreviousItemInteraction, extractFeatures,extractItemUserId,extractPastItem,extractNextUserState,UserNextInteraction, delta, t_batch_update,train_test_split,train_test_stratified_split\n",
        "from model import RODIE\n",
        "from sklearn.manifold import TSNE\n",
        "from train import dynamic_embedding,train_rodie\n",
        "from  torch import nn\n",
        "from torch.nn import RNNCell\n",
        "from torch.nn.functional import one_hot\n",
        "import math\n",
        "from torch.nn import functional as F\n",
        "from torch.nn import MSELoss, HuberLoss,L1Loss,CrossEntropyLoss\n",
        "from tqdm import tqdm\n",
        "\n",
        "\n",
        "torch.backends.cudnn.benchmark = True\n",
        "torch.autograd.set_detect_anomaly(False)\n",
        "torch.autograd.profiler.profile(False)\n",
        "torch.autograd.profiler.emit_nvtx(False)"
      ]
    },
    {
      "cell_type": "code",
      "execution_count": 2,
      "metadata": {
        "colab": {
          "base_uri": "https://localhost:8080/"
        },
        "id": "a2fs_9WWL8Ax",
        "outputId": "d1ebed95-3d53-42ee-a90b-22258f3dcffc"
      },
      "outputs": [
        {
          "output_type": "stream",
          "name": "stdout",
          "text": [
            "--2022-03-21 15:17:33--  https://snap.stanford.edu/data/act-mooc.tar.gz\n",
            "Resolving snap.stanford.edu (snap.stanford.edu)... 171.64.75.80\n",
            "Connecting to snap.stanford.edu (snap.stanford.edu)|171.64.75.80|:443... connected.\n",
            "HTTP request sent, awaiting response... 200 OK\n",
            "Length: 5378133 (5.1M) [application/x-gzip]\n",
            "Saving to: ‘act-mooc.tar.gz’\n",
            "\n",
            "act-mooc.tar.gz     100%[===================>]   5.13M  15.9MB/s    in 0.3s    \n",
            "\n",
            "2022-03-21 15:17:34 (15.9 MB/s) - ‘act-mooc.tar.gz’ saved [5378133/5378133]\n",
            "\n"
          ]
        }
      ],
      "source": [
        "## Téléchargement des données\n",
        "!wget https://snap.stanford.edu/data/act-mooc.tar.gz\n",
        "!tar -xzf  act-mooc.tar.gz\n",
        "!mkdir data"
      ]
    },
    {
      "cell_type": "code",
      "execution_count": 86,
      "metadata": {
        "id": "4T5CbB9KL8Ax"
      },
      "outputs": [],
      "source": [
        "features = pd.read_csv(\"act-mooc/mooc_action_features.tsv\",sep=\"\\t\")\n",
        "labels = pd.read_csv(\"act-mooc/mooc_action_labels.tsv\",sep=\"\\t\")\n",
        "users = pd.read_csv(\"act-mooc/mooc_actions.tsv\",sep=\"\\t\")"
      ]
    },
    {
      "cell_type": "markdown",
      "metadata": {
        "id": "JLCAaTlZL8Ay"
      },
      "source": [
        "#### Load & Preprocess Data"
      ]
    },
    {
      "cell_type": "code",
      "source": [
        "mooc_data = extract_data_mooc()\n"
      ],
      "metadata": {
        "id": "nkZ91GH-YhI_"
      },
      "execution_count": 87,
      "outputs": []
    },
    {
      "cell_type": "code",
      "source": [
        "delta_u  = delta(mooc_data.copy(),\"user_id\")\n",
        "delta_i  = delta(mooc_data.copy(),\"item_id\")\n",
        "PreviousItemInteraction_ = PreviousItemInteraction(mooc_data.copy()).astype(int)\n",
        "next_state_user = PastUserState(mooc_data.copy()).astype(int)\n",
        "\n",
        "interaction_column_name = \"PreviousItemInteraction\"\n",
        "pastState_column_name =  \"previous_state_label\""
      ],
      "metadata": {
        "colab": {
          "base_uri": "https://localhost:8080/"
        },
        "id": "eq5YHpG3f84_",
        "outputId": "5abc05c7-56dd-4158-8244-db85622e5f52"
      },
      "execution_count": 88,
      "outputs": [
        {
          "output_type": "stream",
          "name": "stdout",
          "text": [
            "delta user_id\n",
            "delta item_id\n"
          ]
        }
      ]
    },
    {
      "cell_type": "markdown",
      "source": [
        ""
      ],
      "metadata": {
        "id": "-KmIGlEi1dDt"
      }
    },
    {
      "cell_type": "code",
      "execution_count": null,
      "metadata": {
        "id": "nFoGBgxNL8Az"
      },
      "outputs": [],
      "source": [
        "mooc_data['delta_u'] = delta_u/np.std(delta_u)\n",
        "mooc_data['delta_i'] = delta_i/np.std(delta_i)\n",
        "mooc_data[interaction_column_name] = PreviousItemInteraction_\n",
        "mooc_data[pastState_column_name] = next_state_user\n",
        "list_moins_un = list(mooc_data[mooc_data[pastState_column_name] == -1].index.values)\n",
        "mooc_data.loc[list_moins_un,pastState_column_name] = 0\n",
        "data = mooc_data.copy()\n",
        "#data = data[data.next_state_user != -1]\n",
        "\n",
        "data = data[['user_id', 'item_id', 'timestamp', 'state_label','delta_u', 'delta_i', interaction_column_name, pastState_column_name,'f1', 'f2', 'f3','f4']].sort_values(['timestamp'])\n",
        "data"
      ]
    },
    {
      "cell_type": "markdown",
      "metadata": {
        "id": "IiCCdNMNL8A0"
      },
      "source": [
        "### T-batches\n",
        "\n",
        "#### Train / Test SPLIT"
      ]
    },
    {
      "cell_type": "code",
      "source": [
        "t_batches_train = t_batch_update(data)\n"
      ],
      "metadata": {
        "id": "D4-z_QuOQfk4",
        "colab": {
          "base_uri": "https://localhost:8080/"
        },
        "outputId": "cda20083-1f43-4f80-9bec-f97e9cd9cde6"
      },
      "execution_count": 90,
      "outputs": [
        {
          "output_type": "stream",
          "name": "stdout",
          "text": [
            "T-Batch start...\n",
            "Number of interaction = 411749\n",
            "T-Batch ends !\n"
          ]
        }
      ]
    },
    {
      "cell_type": "code",
      "source": [
        "len(t_batches_train)"
      ],
      "metadata": {
        "colab": {
          "base_uri": "https://localhost:8080/"
        },
        "id": "wZpFc7mbJiaL",
        "outputId": "6a8eab16-5c1f-4b61-fa98-7ef064cd93f4"
      },
      "execution_count": 91,
      "outputs": [
        {
          "output_type": "execute_result",
          "data": {
            "text/plain": [
              "63461"
            ]
          },
          "metadata": {},
          "execution_count": 91
        }
      ]
    },
    {
      "cell_type": "markdown",
      "metadata": {
        "id": "PZldOSzFL8A1"
      },
      "source": [
        "##### Initialize Device"
      ]
    },
    {
      "cell_type": "code",
      "execution_count": 92,
      "metadata": {
        "colab": {
          "base_uri": "https://localhost:8080/"
        },
        "id": "7xuMzz5NL8A1",
        "outputId": "ced1755b-5788-4ed7-c94f-990b38860c77"
      },
      "outputs": [
        {
          "output_type": "stream",
          "name": "stdout",
          "text": [
            "Using device: cuda\n"
          ]
        }
      ],
      "source": [
        "# setting device on GPU if available, else CPU\n",
        "device = torch.device('cuda' if torch.cuda.is_available() else 'cpu')\n",
        "#device = \"cpu\"\n",
        "print('Using device:', device)"
      ]
    },
    {
      "cell_type": "markdown",
      "metadata": {
        "id": "SyoLG1SXL8A2"
      },
      "source": [
        "##### Initialize the model"
      ]
    },
    {
      "cell_type": "code",
      "source": [
        "# Test le modèle sur peu de données\n",
        "import itertools\n",
        "interactions_ = []\n",
        "n_batches = 10000\n",
        "t_batches_ = dict(itertools.islice(t_batches_train.items(), n_batches))\n",
        "number_of_interactions = 0\n",
        "for x,y in t_batches_.items():\n",
        "  number_of_interactions +=(len(y))\n",
        "  interactions_.append(y)\n",
        "interactions = list(itertools.chain(*interactions_)) # Flatten the list of list\n",
        "print(\"Number of interactions in {} batches is equal to {}\".format(n_batches,number_of_interactions))"
      ],
      "metadata": {
        "id": "iGpg_gLLMwoo",
        "colab": {
          "base_uri": "https://localhost:8080/"
        },
        "outputId": "a40b9e94-a853-4ea0-e1a4-7d04ca100094"
      },
      "execution_count": 109,
      "outputs": [
        {
          "output_type": "stream",
          "name": "stdout",
          "text": [
            "Number of interactions in 10000 batches is equal to 50205\n"
          ]
        }
      ]
    },
    {
      "cell_type": "code",
      "source": [
        "# Its important to add this to the loss, because the dataset is unbalanced\n",
        "dropout_ratio = len(interactions)/(1.0+ np.sum(data.loc[interactions,'state_label']))\n",
        "weight_ratio = torch.Tensor([1.0,dropout_ratio]).to(device)\n",
        "print(\"Number of dropout in the train data is {}\".format(np.sum(data.loc[interactions,'state_label'])))"
      ],
      "metadata": {
        "colab": {
          "base_uri": "https://localhost:8080/"
        },
        "id": "GUpwh4O8MZo_",
        "outputId": "35d76038-4cd2-423b-8716-5827ccafb708"
      },
      "execution_count": 110,
      "outputs": [
        {
          "output_type": "stream",
          "name": "stdout",
          "text": [
            "Number of dropout in the train data is 499\n"
          ]
        }
      ]
    },
    {
      "cell_type": "markdown",
      "metadata": {
        "id": "X09xB2eqL8A3"
      },
      "source": [
        "##### Train Loop"
      ]
    },
    {
      "cell_type": "code",
      "source": [
        "embedding_dim = 32\n",
        "data_torch = torch.from_numpy(data.values.astype(np.float32))\n",
        "model = RODIE(embedding_dim,data_torch,device=device,activation_rnn=\"relu\").to(device)"
      ],
      "metadata": {
        "colab": {
          "base_uri": "https://localhost:8080/"
        },
        "id": "AJPXwwqWQrMs",
        "outputId": "4f4e89b5-ab16-437c-efe1-5442c2e8e279"
      },
      "execution_count": 145,
      "outputs": [
        {
          "output_type": "stream",
          "name": "stdout",
          "text": [
            "Number of users of 7047 \n",
            " Number of items 97 \n",
            "\n",
            "Dataset size [411749, 12]\n",
            "Initialisation of static embedding... Done !\n",
            "Static Embedding shape : Users [7047, 7047], \t Items [98, 98]\n",
            "Initialisation of rnn's with relu activation function... Done !\n",
            "Initialisation of MLP... Done !\n"
          ]
        }
      ]
    },
    {
      "cell_type": "code",
      "execution_count": 146,
      "metadata": {
        "id": "Zytz5La7L8A3",
        "colab": {
          "base_uri": "https://localhost:8080/"
        },
        "outputId": "cd220588-efce-4d83-be93-1c78b7495527"
      },
      "outputs": [
        {
          "output_type": "stream",
          "name": "stdout",
          "text": [
            "Initialisation of dynamic embedding... Done !\n",
            "Dynamic Embedding shape : Users [7047, 32], \t Items [98, 32]\n",
            "Training...\n"
          ]
        },
        {
          "output_type": "stream",
          "name": "stderr",
          "text": [
            "100%|█████████▉| 9999/10000 [00:50<00:00, 196.72it/s]\n"
          ]
        },
        {
          "output_type": "stream",
          "name": "stdout",
          "text": [
            "tensor([[ 0.0091,  0.0111,  0.0149,  ...,  0.0081, -0.0011,  0.0139],\n",
            "        [ 0.0018, -0.0032,  0.0026,  ...,  0.0032, -0.0044,  0.0097],\n",
            "        [ 0.0212,  0.0096,  0.0101,  ...,  0.0158, -0.0062,  0.0098],\n",
            "        ...,\n",
            "        [ 0.0057,  0.0154, -0.0003,  ...,  0.0047, -0.0039, -0.0026],\n",
            "        [-0.0061, -0.0180, -0.0219,  ...,  0.0319,  0.0124, -0.0192],\n",
            "        [ 0.0180, -0.0037,  0.0040,  ..., -0.0120,  0.0059, -0.0091]])\n",
            "Epoch 0 Loss 2165.1262849140912\n"
          ]
        },
        {
          "output_type": "stream",
          "name": "stderr",
          "text": [
            "100%|█████████▉| 9999/10000 [00:51<00:00, 195.69it/s]\n"
          ]
        },
        {
          "output_type": "stream",
          "name": "stdout",
          "text": [
            "tensor([[ 0.0091,  0.0111,  0.0149,  ...,  0.0081, -0.0011,  0.0139],\n",
            "        [ 0.0018, -0.0032,  0.0026,  ...,  0.0032, -0.0044,  0.0097],\n",
            "        [ 0.0212,  0.0096,  0.0101,  ...,  0.0158, -0.0062,  0.0098],\n",
            "        ...,\n",
            "        [ 0.0057,  0.0154, -0.0003,  ...,  0.0047, -0.0039, -0.0026],\n",
            "        [-0.0061, -0.0180, -0.0219,  ...,  0.0319,  0.0124, -0.0192],\n",
            "        [ 0.0180, -0.0037,  0.0040,  ..., -0.0120,  0.0059, -0.0091]])\n",
            "Epoch 1 Loss 1822.2783913929015\n"
          ]
        },
        {
          "output_type": "stream",
          "name": "stderr",
          "text": [
            "100%|█████████▉| 9999/10000 [00:50<00:00, 196.26it/s]\n"
          ]
        },
        {
          "output_type": "stream",
          "name": "stdout",
          "text": [
            "tensor([[ 0.0091,  0.0111,  0.0149,  ...,  0.0081, -0.0011,  0.0139],\n",
            "        [ 0.0018, -0.0032,  0.0026,  ...,  0.0032, -0.0044,  0.0097],\n",
            "        [ 0.0212,  0.0096,  0.0101,  ...,  0.0158, -0.0062,  0.0098],\n",
            "        ...,\n",
            "        [ 0.0057,  0.0154, -0.0003,  ...,  0.0047, -0.0039, -0.0026],\n",
            "        [-0.0061, -0.0180, -0.0219,  ...,  0.0319,  0.0124, -0.0192],\n",
            "        [ 0.0180, -0.0037,  0.0040,  ..., -0.0120,  0.0059, -0.0091]])\n",
            "Epoch 2 Loss 1802.5838928110898\n"
          ]
        },
        {
          "output_type": "stream",
          "name": "stderr",
          "text": [
            "100%|█████████▉| 9999/10000 [00:50<00:00, 197.05it/s]\n"
          ]
        },
        {
          "output_type": "stream",
          "name": "stdout",
          "text": [
            "tensor([[ 0.0091,  0.0111,  0.0149,  ...,  0.0081, -0.0011,  0.0139],\n",
            "        [ 0.0018, -0.0032,  0.0026,  ...,  0.0032, -0.0044,  0.0097],\n",
            "        [ 0.0212,  0.0096,  0.0101,  ...,  0.0158, -0.0062,  0.0098],\n",
            "        ...,\n",
            "        [ 0.0057,  0.0154, -0.0003,  ...,  0.0047, -0.0039, -0.0026],\n",
            "        [-0.0061, -0.0180, -0.0219,  ...,  0.0319,  0.0124, -0.0192],\n",
            "        [ 0.0180, -0.0037,  0.0040,  ..., -0.0120,  0.0059, -0.0091]])\n",
            "Epoch 3 Loss 1785.9864370124415\n"
          ]
        },
        {
          "output_type": "stream",
          "name": "stderr",
          "text": [
            "100%|█████████▉| 9999/10000 [00:51<00:00, 195.85it/s]\n"
          ]
        },
        {
          "output_type": "stream",
          "name": "stdout",
          "text": [
            "tensor([[ 0.0091,  0.0111,  0.0149,  ...,  0.0081, -0.0011,  0.0139],\n",
            "        [ 0.0018, -0.0032,  0.0026,  ...,  0.0032, -0.0044,  0.0097],\n",
            "        [ 0.0212,  0.0096,  0.0101,  ...,  0.0158, -0.0062,  0.0098],\n",
            "        ...,\n",
            "        [ 0.0057,  0.0154, -0.0003,  ...,  0.0047, -0.0039, -0.0026],\n",
            "        [-0.0061, -0.0180, -0.0219,  ...,  0.0319,  0.0124, -0.0192],\n",
            "        [ 0.0180, -0.0037,  0.0040,  ..., -0.0120,  0.0059, -0.0091]])\n",
            "Epoch 4 Loss 1774.652548062615\n"
          ]
        },
        {
          "output_type": "stream",
          "name": "stderr",
          "text": [
            "100%|█████████▉| 9999/10000 [00:50<00:00, 196.94it/s]\n"
          ]
        },
        {
          "output_type": "stream",
          "name": "stdout",
          "text": [
            "tensor([[ 0.0091,  0.0111,  0.0149,  ...,  0.0081, -0.0011,  0.0139],\n",
            "        [ 0.0018, -0.0032,  0.0026,  ...,  0.0032, -0.0044,  0.0097],\n",
            "        [ 0.0212,  0.0096,  0.0101,  ...,  0.0158, -0.0062,  0.0098],\n",
            "        ...,\n",
            "        [ 0.0057,  0.0154, -0.0003,  ...,  0.0047, -0.0039, -0.0026],\n",
            "        [-0.0061, -0.0180, -0.0219,  ...,  0.0319,  0.0124, -0.0192],\n",
            "        [ 0.0180, -0.0037,  0.0040,  ..., -0.0120,  0.0059, -0.0091]])\n",
            "Epoch 5 Loss 1766.6167433513328\n"
          ]
        },
        {
          "output_type": "stream",
          "name": "stderr",
          "text": [
            "100%|█████████▉| 9999/10000 [00:50<00:00, 197.08it/s]\n"
          ]
        },
        {
          "output_type": "stream",
          "name": "stdout",
          "text": [
            "tensor([[ 0.0091,  0.0111,  0.0149,  ...,  0.0081, -0.0011,  0.0139],\n",
            "        [ 0.0018, -0.0032,  0.0026,  ...,  0.0032, -0.0044,  0.0097],\n",
            "        [ 0.0212,  0.0096,  0.0101,  ...,  0.0158, -0.0062,  0.0098],\n",
            "        ...,\n",
            "        [ 0.0057,  0.0154, -0.0003,  ...,  0.0047, -0.0039, -0.0026],\n",
            "        [-0.0061, -0.0180, -0.0219,  ...,  0.0319,  0.0124, -0.0192],\n",
            "        [ 0.0180, -0.0037,  0.0040,  ..., -0.0120,  0.0059, -0.0091]])\n",
            "Epoch 6 Loss 1763.5185028770939\n"
          ]
        },
        {
          "output_type": "stream",
          "name": "stderr",
          "text": [
            "100%|█████████▉| 9999/10000 [00:50<00:00, 197.25it/s]\n"
          ]
        },
        {
          "output_type": "stream",
          "name": "stdout",
          "text": [
            "tensor([[ 0.0091,  0.0111,  0.0149,  ...,  0.0081, -0.0011,  0.0139],\n",
            "        [ 0.0018, -0.0032,  0.0026,  ...,  0.0032, -0.0044,  0.0097],\n",
            "        [ 0.0212,  0.0096,  0.0101,  ...,  0.0158, -0.0062,  0.0098],\n",
            "        ...,\n",
            "        [ 0.0057,  0.0154, -0.0003,  ...,  0.0047, -0.0039, -0.0026],\n",
            "        [-0.0061, -0.0180, -0.0219,  ...,  0.0319,  0.0124, -0.0192],\n",
            "        [ 0.0180, -0.0037,  0.0040,  ..., -0.0120,  0.0059, -0.0091]])\n",
            "Epoch 7 Loss 1758.7070478638634\n"
          ]
        },
        {
          "output_type": "stream",
          "name": "stderr",
          "text": [
            "100%|█████████▉| 9999/10000 [00:50<00:00, 196.63it/s]\n"
          ]
        },
        {
          "output_type": "stream",
          "name": "stdout",
          "text": [
            "tensor([[ 0.0091,  0.0111,  0.0149,  ...,  0.0081, -0.0011,  0.0139],\n",
            "        [ 0.0018, -0.0032,  0.0026,  ...,  0.0032, -0.0044,  0.0097],\n",
            "        [ 0.0212,  0.0096,  0.0101,  ...,  0.0158, -0.0062,  0.0098],\n",
            "        ...,\n",
            "        [ 0.0057,  0.0154, -0.0003,  ...,  0.0047, -0.0039, -0.0026],\n",
            "        [-0.0061, -0.0180, -0.0219,  ...,  0.0319,  0.0124, -0.0192],\n",
            "        [ 0.0180, -0.0037,  0.0040,  ..., -0.0120,  0.0059, -0.0091]])\n",
            "Epoch 8 Loss 1754.0959543148056\n"
          ]
        },
        {
          "output_type": "stream",
          "name": "stderr",
          "text": [
            "100%|█████████▉| 9999/10000 [00:51<00:00, 195.94it/s]"
          ]
        },
        {
          "output_type": "stream",
          "name": "stdout",
          "text": [
            "tensor([[ 0.0091,  0.0111,  0.0149,  ...,  0.0081, -0.0011,  0.0139],\n",
            "        [ 0.0018, -0.0032,  0.0026,  ...,  0.0032, -0.0044,  0.0097],\n",
            "        [ 0.0212,  0.0096,  0.0101,  ...,  0.0158, -0.0062,  0.0098],\n",
            "        ...,\n",
            "        [ 0.0057,  0.0154, -0.0003,  ...,  0.0047, -0.0039, -0.0026],\n",
            "        [-0.0061, -0.0180, -0.0219,  ...,  0.0319,  0.0124, -0.0192],\n",
            "        [ 0.0180, -0.0037,  0.0040,  ..., -0.0120,  0.0059, -0.0091]])\n",
            "Epoch 9 Loss 1753.8556462703273\n"
          ]
        },
        {
          "output_type": "stream",
          "name": "stderr",
          "text": [
            "\n"
          ]
        }
      ],
      "source": [
        "n_epochs = 10\n",
        "lambda_u = 1\n",
        "lambda_i = 1\n",
        "learning_rate=1e-4\n",
        "optimizer = torch.optim.Adam(model.parameters(),lr=learning_rate,weight_decay=1e-5)\n",
        "\n",
        "model_,U,I = train_rodie(t_batches_,\n",
        "          data_torch,\n",
        "          weight_ratio,\n",
        "          model,\n",
        "          optimizer,\n",
        "          learning_rate,\n",
        "          n_epochs,\n",
        "          lambda_u,\n",
        "          lambda_i,\n",
        "          device\n",
        "          )"
      ]
    },
    {
      "cell_type": "code",
      "source": [
        "dd = list(np.unique(data.loc[interactions,'user_id']))"
      ],
      "metadata": {
        "id": "MfduBB6T5PZd"
      },
      "execution_count": 151,
      "outputs": []
    },
    {
      "cell_type": "markdown",
      "source": [
        "## TSNE"
      ],
      "metadata": {
        "id": "0TnL3bTCZp8P"
      }
    },
    {
      "cell_type": "code",
      "source": [
        "dd = sum(interactions_, [])\n",
        "new_df = data.iloc[interactions,:].copy()\n",
        "list_of_change = new_df[new_df['state_label'] == 1]['user_id'].values\n",
        "data_  = (U.detach().cpu().clone()).numpy()\n",
        "df = pd.DataFrame(data_)\n",
        "df['label'] = np.zeros((7047,1))\n",
        "for index, row in df.iterrows():\n",
        "    for d in list_of_change:\n",
        "      if index == d:\n",
        "        df.iloc[index,-1] = 1\n",
        "\n",
        "len(list_of_change)"
      ],
      "metadata": {
        "id": "s6UpfGj9A11W",
        "colab": {
          "base_uri": "https://localhost:8080/"
        },
        "outputId": "45b0e008-1edb-48a5-97f8-a4d06db79415"
      },
      "execution_count": 152,
      "outputs": [
        {
          "output_type": "execute_result",
          "data": {
            "text/plain": [
              "499"
            ]
          },
          "metadata": {},
          "execution_count": 152
        }
      ]
    },
    {
      "cell_type": "code",
      "source": [
        "tsne = TSNE(2)\n",
        "data_tsne = tsne.fit_transform(data_)"
      ],
      "metadata": {
        "id": "pb3fEAXsleGN",
        "colab": {
          "base_uri": "https://localhost:8080/"
        },
        "outputId": "d0a6f245-9220-4696-c59c-b9289b80597a"
      },
      "execution_count": 153,
      "outputs": [
        {
          "output_type": "stream",
          "name": "stderr",
          "text": [
            "/usr/local/lib/python3.7/dist-packages/sklearn/manifold/_t_sne.py:783: FutureWarning: The default initialization in TSNE will change from 'random' to 'pca' in 1.2.\n",
            "  FutureWarning,\n",
            "/usr/local/lib/python3.7/dist-packages/sklearn/manifold/_t_sne.py:793: FutureWarning: The default learning rate in TSNE will change from 200.0 to 'auto' in 1.2.\n",
            "  FutureWarning,\n"
          ]
        }
      ]
    },
    {
      "cell_type": "code",
      "source": [
        "dd = list(np.unique(data.loc[dd,'user_id']))"
      ],
      "metadata": {
        "id": "ONTdxTnq-G-P"
      },
      "execution_count": 154,
      "outputs": []
    },
    {
      "cell_type": "code",
      "source": [
        "df[['t1','t2']] = data_tsne\n",
        "dff = df.loc[dd]"
      ],
      "metadata": {
        "id": "l9Hrx1wYzibv"
      },
      "execution_count": 155,
      "outputs": []
    },
    {
      "cell_type": "code",
      "source": [
        "import seaborn as sns\n",
        "sns.scatterplot(data=dff, x=\"t1\", y=\"t2\", hue=\"label\",style=\"label\")"
      ],
      "metadata": {
        "colab": {
          "base_uri": "https://localhost:8080/",
          "height": 320
        },
        "id": "22RqvgToydgW",
        "outputId": "8ba19ad0-542e-4824-a2df-4f56fd8ca78f"
      },
      "execution_count": 156,
      "outputs": [
        {
          "output_type": "execute_result",
          "data": {
            "text/plain": [
              "<matplotlib.axes._subplots.AxesSubplot at 0x7f2f78626d10>"
            ]
          },
          "metadata": {},
          "execution_count": 156
        },
        {
          "output_type": "display_data",
          "data": {
            "text/plain": [
              "<Figure size 432x288 with 1 Axes>"
            ],
            "image/png": "[encoded data removed]"
          },
          "metadata": {
            "needs_background": "light"
          }
        }
      ]
    },
    {
      "cell_type": "code",
      "source": [
        "tsne = TSNE(2)\n",
        "n_items = list(np.unique(data.loc[interactions,'item_id']))\n",
        "data_tsne = tsne.fit_transform(I.detach().cpu().clone())\n",
        "plt.scatter(data_tsne[n_items,0],data_tsne[n_items,1])"
      ],
      "metadata": {
        "id": "9JDOUyGy0tZE",
        "colab": {
          "base_uri": "https://localhost:8080/",
          "height": 373
        },
        "outputId": "5aa2800c-b254-4246-c6dd-88406cb76a29"
      },
      "execution_count": 148,
      "outputs": [
        {
          "output_type": "stream",
          "name": "stderr",
          "text": [
            "/usr/local/lib/python3.7/dist-packages/sklearn/manifold/_t_sne.py:783: FutureWarning: The default initialization in TSNE will change from 'random' to 'pca' in 1.2.\n",
            "  FutureWarning,\n",
            "/usr/local/lib/python3.7/dist-packages/sklearn/manifold/_t_sne.py:793: FutureWarning: The default learning rate in TSNE will change from 200.0 to 'auto' in 1.2.\n",
            "  FutureWarning,\n"
          ]
        },
        {
          "output_type": "execute_result",
          "data": {
            "text/plain": [
              "<matplotlib.collections.PathCollection at 0x7f2ff6fad9d0>"
            ]
          },
          "metadata": {},
          "execution_count": 148
        },
        {
          "output_type": "display_data",
          "data": {
            "text/plain": [
              "<Figure size 432x288 with 1 Axes>"
            ],
            "image/png": "[encoded data removed]"
          },
          "metadata": {
            "needs_background": "light"
          }
        }
      ]
    },
    {
      "cell_type": "code",
      "source": [
        "len(n_items)"
      ],
      "metadata": {
        "colab": {
          "base_uri": "https://localhost:8080/"
        },
        "id": "JBLZEqtxP1za",
        "outputId": "3e0dcd68-4583-4bf4-a58e-a9060b812a6a"
      },
      "execution_count": 133,
      "outputs": [
        {
          "output_type": "execute_result",
          "data": {
            "text/plain": [
              "27"
            ]
          },
          "metadata": {},
          "execution_count": 133
        }
      ]
    },
    {
      "cell_type": "code",
      "source": [
        ""
      ],
      "metadata": {
        "id": "l76wfAVOqsjE"
      },
      "execution_count": null,
      "outputs": []
    }
  ],
  "metadata": {
    "interpreter": {
      "hash": "bef1584e9c6af06ba1c2e66d205bd6622ae056162fc057ef1acd3cc06b90e6ba"
    },
    "kernelspec": {
      "display_name": "Python 3.8.8 ('base')",
      "language": "python",
      "name": "python3"
    },
    "language_info": {
      "codemirror_mode": {
        "name": "ipython",
        "version": 3
      },
      "file_extension": ".py",
      "mimetype": "text/x-python",
      "name": "python",
      "nbconvert_exporter": "python",
      "pygments_lexer": "ipython3",
      "version": "3.8.8"
    },
    "orig_nbformat": 4,
    "colab": {
      "name": "main.ipynb",
      "provenance": [],
      "collapsed_sections": []
    },
    "accelerator": "GPU"
  },
  "nbformat": 4,
  "nbformat_minor": 0
}