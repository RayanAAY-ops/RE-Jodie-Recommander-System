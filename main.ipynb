{
  "cells": [
    {
      "cell_type": "code",
      "execution_count": 47,
      "metadata": {
        "id": "Xq_u5mj7L8Av",
        "colab": {
          "base_uri": "https://localhost:8080/"
        },
        "outputId": "63f4a8ab-b5db-49de-86f3-a1452b365e1a"
      },
      "outputs": [
        {
          "output_type": "execute_result",
          "data": {
            "text/plain": [
              "<torch.autograd.profiler.emit_nvtx at 0x7fa3a0b07150>"
            ]
          },
          "metadata": {},
          "execution_count": 47
        }
      ],
      "source": [
        "# libraries\n",
        "import pandas as pd\n",
        "import numpy as np\n",
        "import matplotlib.pyplot as plt\n",
        "import time\n",
        "import math\n",
        "import torch\n",
        "from evaluate_classif import plot_tsne, test_rodie\n",
        "from tqdm import tqdm\n",
        "from preprocessing import *\n",
        "from model import RODIE\n",
        "from sklearn.manifold import TSNE\n",
        "from train import dynamic_embedding ,train_rodie\n",
        "from  torch import nn\n",
        "from torch.nn import RNNCell\n",
        "from torch.nn.functional import one_hot\n",
        "from torch.nn import functional as F\n",
        "from torch.nn import MSELoss, HuberLoss,L1Loss,CrossEntropyLoss\n",
        "from tqdm import tqdm\n",
        "## Those settings speed up the training process on GPU\n",
        "torch.backends.cudnn.benchmark = True\n",
        "torch.autograd.set_detect_anomaly(False)\n",
        "torch.autograd.profiler.profile(False)\n",
        "torch.autograd.profiler.emit_nvtx(False)"
      ]
    },
    {
      "cell_type": "code",
      "execution_count": 2,
      "metadata": {
        "id": "a2fs_9WWL8Ax",
        "colab": {
          "base_uri": "https://localhost:8080/"
        },
        "outputId": "7d92fd1c-fa24-4b9b-de30-2b5ba23b3d8b"
      },
      "outputs": [
        {
          "output_type": "stream",
          "name": "stdout",
          "text": [
            "--2022-03-22 17:01:58--  https://snap.stanford.edu/data/act-mooc.tar.gz\n",
            "Resolving snap.stanford.edu (snap.stanford.edu)... 171.64.75.80\n",
            "Connecting to snap.stanford.edu (snap.stanford.edu)|171.64.75.80|:443... connected.\n",
            "HTTP request sent, awaiting response... 200 OK\n",
            "Length: 5378133 (5.1M) [application/x-gzip]\n",
            "Saving to: ‘act-mooc.tar.gz’\n",
            "\n",
            "act-mooc.tar.gz     100%[===================>]   5.13M  4.46MB/s    in 1.1s    \n",
            "\n",
            "2022-03-22 17:01:59 (4.46 MB/s) - ‘act-mooc.tar.gz’ saved [5378133/5378133]\n",
            "\n"
          ]
        }
      ],
      "source": [
        "## Download data\n",
        "!wget https://snap.stanford.edu/data/act-mooc.tar.gz\n",
        "!tar -xzf  act-mooc.tar.gz\n",
        "!mkdir data"
      ]
    },
    {
      "cell_type": "code",
      "execution_count": 3,
      "metadata": {
        "id": "4T5CbB9KL8Ax"
      },
      "outputs": [],
      "source": [
        "features = pd.read_csv(\"act-mooc/mooc_action_features.tsv\",sep=\"\\t\")\n",
        "labels = pd.read_csv(\"act-mooc/mooc_action_labels.tsv\",sep=\"\\t\")\n",
        "users = pd.read_csv(\"act-mooc/mooc_actions.tsv\",sep=\"\\t\")"
      ]
    },
    {
      "cell_type": "markdown",
      "metadata": {
        "id": "JLCAaTlZL8Ay"
      },
      "source": [
        "#### Load & Preprocess Data"
      ]
    },
    {
      "cell_type": "code",
      "source": [
        "mooc_data = extract_data_mooc()"
      ],
      "metadata": {
        "id": "nkZ91GH-YhI_"
      },
      "execution_count": 4,
      "outputs": []
    },
    {
      "cell_type": "code",
      "source": [
        "## Extract time diffs for both users and items interactions\n",
        "delta_u  = delta(mooc_data.copy(),\"user_id\")\n",
        "delta_i  = delta(mooc_data.copy(),\"item_id\")\n",
        "## Standardize the columns\n",
        "mooc_data['delta_u'] = delta_u/np.std(delta_u)\n",
        "mooc_data['delta_i'] = delta_i/np.std(delta_i)"
      ],
      "metadata": {
        "id": "eq5YHpG3f84_"
      },
      "execution_count": 5,
      "outputs": []
    },
    {
      "cell_type": "code",
      "source": [
        "## Extract previous item interactions and past user state\n",
        "PreviousItemInteraction_ = PreviousItemInteraction(mooc_data.copy()).astype(int)\n",
        "next_state_user = PastUserState(mooc_data.copy()).astype(int)\n",
        "interaction_column_name = \"PreviousItemInteraction\"\n",
        "pastState_column_name =  \"previous_state_label\"\n",
        "mooc_data[interaction_column_name] = PreviousItemInteraction_\n",
        "mooc_data[pastState_column_name] = next_state_user\n",
        "list_moins_un = list(mooc_data[mooc_data[pastState_column_name] == -1].index.values)\n",
        "mooc_data.loc[list_moins_un,pastState_column_name] = 0"
      ],
      "metadata": {
        "id": "c14Ojs_LeL-g"
      },
      "execution_count": 6,
      "outputs": []
    },
    {
      "cell_type": "code",
      "execution_count": 7,
      "metadata": {
        "id": "nFoGBgxNL8Az",
        "colab": {
          "base_uri": "https://localhost:8080/",
          "height": 252
        },
        "outputId": "49a505c4-3397-45c8-f60e-e982b74b4e1f"
      },
      "outputs": [
        {
          "output_type": "execute_result",
          "data": {
            "text/plain": [
              "          user_id  item_id  timestamp  state_label   delta_u   delta_i  \\\n",
              "ACTIONID                                                                 \n",
              "0               0        0        0.0            0  0.000000  0.000000   \n",
              "1               0        1        6.0            0  0.000064  0.000000   \n",
              "2               0        2       41.0            0  0.000372  0.000000   \n",
              "3               0        1       49.0            0  0.000085  0.007652   \n",
              "4               0        2       51.0            0  0.000021  0.001780   \n",
              "\n",
              "          PreviousItemInteraction  previous_state_label        f1        f2  \\\n",
              "ACTIONID                                                                      \n",
              "0                              -1                     0 -0.319991 -0.435701   \n",
              "1                               0                     0 -0.319991 -0.435701   \n",
              "2                               1                     0 -0.319991 -0.435701   \n",
              "3                               2                     0 -0.319991 -0.435701   \n",
              "4                               1                     0 -0.319991 -0.435701   \n",
              "\n",
              "                f3        f4  \n",
              "ACTIONID                      \n",
              "0         0.106784 -0.067309  \n",
              "1         0.106784 -0.067309  \n",
              "2         0.106784 -0.067309  \n",
              "3         0.106784 -0.067309  \n",
              "4         0.106784 -0.067309  "
            ],
            "text/html": [
              "\n",
              "  <div id=\"df-e053001e-2d91-4e79-b0d2-5a304b4d23f2\">\n",
              "    <div class=\"colab-df-container\">\n",
              "      <div>\n",
              "<style scoped>\n",
              "    .dataframe tbody tr th:only-of-type {\n",
              "        vertical-align: middle;\n",
              "    }\n",
              "\n",
              "    .dataframe tbody tr th {\n",
              "        vertical-align: top;\n",
              "    }\n",
              "\n",
              "    .dataframe thead th {\n",
              "        text-align: right;\n",
              "    }\n",
              "</style>\n",
              "<table border=\"1\" class=\"dataframe\">\n",
              "  <thead>\n",
              "    <tr style=\"text-align: right;\">\n",
              "      <th></th>\n",
              "      <th>user_id</th>\n",
              "      <th>item_id</th>\n",
              "      <th>timestamp</th>\n",
              "      <th>state_label</th>\n",
              "      <th>delta_u</th>\n",
              "      <th>delta_i</th>\n",
              "      <th>PreviousItemInteraction</th>\n",
              "      <th>previous_state_label</th>\n",
              "      <th>f1</th>\n",
              "      <th>f2</th>\n",
              "      <th>f3</th>\n",
              "      <th>f4</th>\n",
              "    </tr>\n",
              "    <tr>\n",
              "      <th>ACTIONID</th>\n",
              "      <th></th>\n",
              "      <th></th>\n",
              "      <th></th>\n",
              "      <th></th>\n",
              "      <th></th>\n",
              "      <th></th>\n",
              "      <th></th>\n",
              "      <th></th>\n",
              "      <th></th>\n",
              "      <th></th>\n",
              "      <th></th>\n",
              "      <th></th>\n",
              "    </tr>\n",
              "  </thead>\n",
              "  <tbody>\n",
              "    <tr>\n",
              "      <th>0</th>\n",
              "      <td>0</td>\n",
              "      <td>0</td>\n",
              "      <td>0.0</td>\n",
              "      <td>0</td>\n",
              "      <td>0.000000</td>\n",
              "      <td>0.000000</td>\n",
              "      <td>-1</td>\n",
              "      <td>0</td>\n",
              "      <td>-0.319991</td>\n",
              "      <td>-0.435701</td>\n",
              "      <td>0.106784</td>\n",
              "      <td>-0.067309</td>\n",
              "    </tr>\n",
              "    <tr>\n",
              "      <th>1</th>\n",
              "      <td>0</td>\n",
              "      <td>1</td>\n",
              "      <td>6.0</td>\n",
              "      <td>0</td>\n",
              "      <td>0.000064</td>\n",
              "      <td>0.000000</td>\n",
              "      <td>0</td>\n",
              "      <td>0</td>\n",
              "      <td>-0.319991</td>\n",
              "      <td>-0.435701</td>\n",
              "      <td>0.106784</td>\n",
              "      <td>-0.067309</td>\n",
              "    </tr>\n",
              "    <tr>\n",
              "      <th>2</th>\n",
              "      <td>0</td>\n",
              "      <td>2</td>\n",
              "      <td>41.0</td>\n",
              "      <td>0</td>\n",
              "      <td>0.000372</td>\n",
              "      <td>0.000000</td>\n",
              "      <td>1</td>\n",
              "      <td>0</td>\n",
              "      <td>-0.319991</td>\n",
              "      <td>-0.435701</td>\n",
              "      <td>0.106784</td>\n",
              "      <td>-0.067309</td>\n",
              "    </tr>\n",
              "    <tr>\n",
              "      <th>3</th>\n",
              "      <td>0</td>\n",
              "      <td>1</td>\n",
              "      <td>49.0</td>\n",
              "      <td>0</td>\n",
              "      <td>0.000085</td>\n",
              "      <td>0.007652</td>\n",
              "      <td>2</td>\n",
              "      <td>0</td>\n",
              "      <td>-0.319991</td>\n",
              "      <td>-0.435701</td>\n",
              "      <td>0.106784</td>\n",
              "      <td>-0.067309</td>\n",
              "    </tr>\n",
              "    <tr>\n",
              "      <th>4</th>\n",
              "      <td>0</td>\n",
              "      <td>2</td>\n",
              "      <td>51.0</td>\n",
              "      <td>0</td>\n",
              "      <td>0.000021</td>\n",
              "      <td>0.001780</td>\n",
              "      <td>1</td>\n",
              "      <td>0</td>\n",
              "      <td>-0.319991</td>\n",
              "      <td>-0.435701</td>\n",
              "      <td>0.106784</td>\n",
              "      <td>-0.067309</td>\n",
              "    </tr>\n",
              "  </tbody>\n",
              "</table>\n",
              "</div>\n",
              "      <button class=\"colab-df-convert\" onclick=\"convertToInteractive('df-e053001e-2d91-4e79-b0d2-5a304b4d23f2')\"\n",
              "              title=\"Convert this dataframe to an interactive table.\"\n",
              "              style=\"display:none;\">\n",
              "        \n",
              "  <svg xmlns=\"http://www.w3.org/2000/svg\" height=\"24px\"viewBox=\"0 0 24 24\"\n",
              "       width=\"24px\">\n",
              "    <path d=\"M0 0h24v24H0V0z\" fill=\"none\"/>\n",
              "    <path d=\"M18.56 5.44l.94 2.06.94-2.06 2.06-.94-2.06-.94-.94-2.06-.94 2.06-2.06.94zm-11 1L8.5 8.5l.94-2.06 2.06-.94-2.06-.94L8.5 2.5l-.94 2.06-2.06.94zm10 10l.94 2.06.94-2.06 2.06-.94-2.06-.94-.94-2.06-.94 2.06-2.06.94z\"/><path d=\"M17.41 7.96l-1.37-1.37c-.4-.4-.92-.59-1.43-.59-.52 0-1.04.2-1.43.59L10.3 9.45l-7.72 7.72c-.78.78-.78 2.05 0 2.83L4 21.41c.39.39.9.59 1.41.59.51 0 1.02-.2 1.41-.59l7.78-7.78 2.81-2.81c.8-.78.8-2.07 0-2.86zM5.41 20L4 18.59l7.72-7.72 1.47 1.35L5.41 20z\"/>\n",
              "  </svg>\n",
              "      </button>\n",
              "      \n",
              "  <style>\n",
              "    .colab-df-container {\n",
              "      display:flex;\n",
              "      flex-wrap:wrap;\n",
              "      gap: 12px;\n",
              "    }\n",
              "\n",
              "    .colab-df-convert {\n",
              "      background-color: #E8F0FE;\n",
              "      border: none;\n",
              "      border-radius: 50%;\n",
              "      cursor: pointer;\n",
              "      display: none;\n",
              "      fill: #1967D2;\n",
              "      height: 32px;\n",
              "      padding: 0 0 0 0;\n",
              "      width: 32px;\n",
              "    }\n",
              "\n",
              "    .colab-df-convert:hover {\n",
              "      background-color: #E2EBFA;\n",
              "      box-shadow: 0px 1px 2px rgba(60, 64, 67, 0.3), 0px 1px 3px 1px rgba(60, 64, 67, 0.15);\n",
              "      fill: #174EA6;\n",
              "    }\n",
              "\n",
              "    [theme=dark] .colab-df-convert {\n",
              "      background-color: #3B4455;\n",
              "      fill: #D2E3FC;\n",
              "    }\n",
              "\n",
              "    [theme=dark] .colab-df-convert:hover {\n",
              "      background-color: #434B5C;\n",
              "      box-shadow: 0px 1px 3px 1px rgba(0, 0, 0, 0.15);\n",
              "      filter: drop-shadow(0px 1px 2px rgba(0, 0, 0, 0.3));\n",
              "      fill: #FFFFFF;\n",
              "    }\n",
              "  </style>\n",
              "\n",
              "      <script>\n",
              "        const buttonEl =\n",
              "          document.querySelector('#df-e053001e-2d91-4e79-b0d2-5a304b4d23f2 button.colab-df-convert');\n",
              "        buttonEl.style.display =\n",
              "          google.colab.kernel.accessAllowed ? 'block' : 'none';\n",
              "\n",
              "        async function convertToInteractive(key) {\n",
              "          const element = document.querySelector('#df-e053001e-2d91-4e79-b0d2-5a304b4d23f2');\n",
              "          const dataTable =\n",
              "            await google.colab.kernel.invokeFunction('convertToInteractive',\n",
              "                                                     [key], {});\n",
              "          if (!dataTable) return;\n",
              "\n",
              "          const docLinkHtml = 'Like what you see? Visit the ' +\n",
              "            '<a target=\"_blank\" href=https://colab.research.google.com/notebooks/data_table.ipynb>data table notebook</a>'\n",
              "            + ' to learn more about interactive tables.';\n",
              "          element.innerHTML = '';\n",
              "          dataTable['output_type'] = 'display_data';\n",
              "          await google.colab.output.renderOutput(dataTable, element);\n",
              "          const docLink = document.createElement('div');\n",
              "          docLink.innerHTML = docLinkHtml;\n",
              "          element.appendChild(docLink);\n",
              "        }\n",
              "      </script>\n",
              "    </div>\n",
              "  </div>\n",
              "  "
            ]
          },
          "metadata": {},
          "execution_count": 7
        }
      ],
      "source": [
        "data = mooc_data.copy()\n",
        "data = data[['user_id', 'item_id', 'timestamp', 'state_label','delta_u', 'delta_i', interaction_column_name, pastState_column_name,'f1', 'f2', 'f3','f4']].sort_values(['timestamp'])\n",
        "data.head()"
      ]
    },
    {
      "cell_type": "markdown",
      "metadata": {
        "id": "IiCCdNMNL8A0"
      },
      "source": [
        "### T-batches\n",
        "\n",
        "#### Train / Test SPLIT"
      ]
    },
    {
      "cell_type": "code",
      "source": [
        "t_batches = t_batch_update(data)"
      ],
      "metadata": {
        "id": "D4-z_QuOQfk4",
        "colab": {
          "base_uri": "https://localhost:8080/"
        },
        "outputId": "d0e1d35d-f70a-4b6a-ff2d-4ddcc7c24438"
      },
      "execution_count": 8,
      "outputs": [
        {
          "output_type": "stream",
          "name": "stdout",
          "text": [
            "T-Batch start...\n",
            "Number of interaction = 411749\n",
            "Number of batch = 63461\n",
            "T-Batch ends !\n"
          ]
        }
      ]
    },
    {
      "cell_type": "code",
      "source": [
        "t_batch_train, test, train_interactions, test_interactions = t_batch_train_test(data,t_batches,51500)"
      ],
      "metadata": {
        "colab": {
          "base_uri": "https://localhost:8080/"
        },
        "id": "sco-Sdg52YFL",
        "outputId": "38ae22cd-e299-4942-eccd-c6bfcf06504b"
      },
      "execution_count": 35,
      "outputs": [
        {
          "output_type": "stream",
          "name": "stdout",
          "text": [
            "Train : Number of interactions in 51500 batches is equal to 330286\n",
            "Test : Number of interactions is equal to 81463\n"
          ]
        }
      ]
    },
    {
      "cell_type": "markdown",
      "metadata": {
        "id": "PZldOSzFL8A1"
      },
      "source": [
        "##### Initialize Device"
      ]
    },
    {
      "cell_type": "code",
      "execution_count": 36,
      "metadata": {
        "colab": {
          "base_uri": "https://localhost:8080/"
        },
        "id": "7xuMzz5NL8A1",
        "outputId": "726f78b2-e4f6-4da7-996d-d1cd70ec5678"
      },
      "outputs": [
        {
          "output_type": "stream",
          "name": "stdout",
          "text": [
            "Using device: cuda\n"
          ]
        }
      ],
      "source": [
        "# setting device on GPU if available, else CPU\n",
        "device = torch.device('cuda' if torch.cuda.is_available() else 'cpu')\n",
        "#device = \"cpu\"\n",
        "print('Using device:', device)"
      ]
    },
    {
      "cell_type": "markdown",
      "metadata": {
        "id": "SyoLG1SXL8A2"
      },
      "source": [
        "##### Initialize the model"
      ]
    },
    {
      "cell_type": "code",
      "source": [
        "# Its important to add this to the loss, because the dataset is unbalanced\n",
        "dropout_ratio_train = len(train_interactions)/(1.0+ np.sum(data.loc[train_interactions,'state_label']))\n",
        "weight_ratio_train = torch.Tensor([1.0,dropout_ratio_train]).to(device)\n",
        "print(\"Number of dropout in the train data is {}\".format(np.sum(data.loc[train_interactions,'state_label'])))\n",
        "\n",
        "int_test = test.index.values.tolist()\n",
        "dropout_ratio_test = len(int_test)/(1.0+ np.sum(data.loc[int_test,'state_label']))\n",
        "print(\"Number of dropout in the test data is {}\".format(np.sum(data.loc[test_interactions,'state_label'])))\n"
      ],
      "metadata": {
        "colab": {
          "base_uri": "https://localhost:8080/"
        },
        "id": "GUpwh4O8MZo_",
        "outputId": "fa2987ff-5f25-4b56-808e-de4187c63afb"
      },
      "execution_count": 42,
      "outputs": [
        {
          "output_type": "stream",
          "name": "stdout",
          "text": [
            "Number of dropout in the train data is 3292\n",
            "Number of dropout in the test data is 774\n"
          ]
        }
      ]
    },
    {
      "cell_type": "markdown",
      "metadata": {
        "id": "X09xB2eqL8A3"
      },
      "source": [
        "##### Train Loop"
      ]
    },
    {
      "cell_type": "code",
      "source": [
        "embedding_dim = 32\n",
        "data_torch = torch.from_numpy(data.values.astype(np.float32))\n",
        "model = RODIE(embedding_dim,data_torch,device=device,activation_rnn=\"relu\").to(device)"
      ],
      "metadata": {
        "colab": {
          "base_uri": "https://localhost:8080/"
        },
        "id": "AJPXwwqWQrMs",
        "outputId": "3a47d0bd-3584-43bd-b50b-edb3bffc8cdd"
      },
      "execution_count": 43,
      "outputs": [
        {
          "output_type": "stream",
          "name": "stdout",
          "text": [
            "Number of users of 7047 \n",
            " Number of items 97 \n",
            "\n",
            "Dataset size [411749, 12]\n",
            "Initialisation of static embedding... Done !\n",
            "Static Embedding shape : Users [7047, 7047], \t Items [98, 98]\n",
            "Initialisation of rnn's with relu activation function... Done !\n",
            "Initialisation of MLP... Done !\n"
          ]
        }
      ]
    },
    {
      "cell_type": "code",
      "source": [
        "def dynamic_embedding(data,embedding_dim):\n",
        "        num_users = len(torch.unique(data[:,0]))\n",
        "        num_items = len(torch.unique(data[:,1]))\n",
        "        dynamic_users_embedding = F.normalize(torch.rand(embedding_dim),dim=0).repeat(num_users,1)\n",
        "        dynamic_items_embedding = F.normalize(torch.rand(embedding_dim),dim=0).repeat(num_items+1,1)\n",
        "\n",
        "        print(\"Initialisation of dynamic embedding... Done !\")\n",
        "        print(\"Dynamic Embedding shape : Users {}, \\t Items {}\".format(list(dynamic_users_embedding.size()),list(dynamic_items_embedding.size())))\n",
        "\n",
        "        return dynamic_users_embedding,dynamic_items_embedding\n",
        "\n",
        "\n",
        "def train_rodie(t_batches,\n",
        "          data,\n",
        "          weight_ratio,\n",
        "          model,\n",
        "          optimizer,\n",
        "          learning_rate,\n",
        "          n_epochs,\n",
        "          lambda_u,\n",
        "          lambda_i,\n",
        "          device,\n",
        "\n",
        "          ):\n",
        "  print(\"Training...\")\n",
        "  scheduler = torch.optim.lr_scheduler.ReduceLROnPlateau(optimizer,min_lr=1e-4,mode='min',patience=2)\n",
        "  for e in range(n_epochs):\n",
        "    U,I = dynamic_embedding(data,model.embedding_dim)  # Initial dynamic embedding\n",
        "    #U_copy,I_copy = U.clone(), I.clone()\n",
        "    U = U.to(device)\n",
        "    I = I.to(device)\n",
        "    l = 0\n",
        "\n",
        "    for (_,rows),_ in zip(t_batches.items(),tqdm(range(len(t_batches)), position=0, leave=True)):\n",
        "      optimizer.zero_grad()\n",
        "      users_idx,items_idx = extractItemUserId(data,rows)\n",
        "      state_label,delta_u,delta_i,f = extractFeatures(data,rows)\n",
        "      past_item = extractPastItem(data,rows)\n",
        "      u_static, i_static = model.static_users_embedding[users_idx], model.static_items_embedding[items_idx]\n",
        "\n",
        "\n",
        "      user_embedding, item_embedding = U[users_idx], I[items_idx]\n",
        "      past_item_static_embedding, past_item_dynamic_embedding = model.static_items_embedding[[int(x) for x in past_item]], I[[int(x) for x in past_item]]\n",
        "\n",
        "      u_static = u_static.to(device)\n",
        "      i_static = i_static.to(device)\n",
        "      f = f.to(device)\n",
        "      delta_u = delta_u.to(device)\n",
        "      delta_i = delta_i.to(device)\n",
        "      state_label = state_label.type(torch.LongTensor).to(device)\n",
        "      past_item_dynamic_embedding = past_item_dynamic_embedding.to(device)\n",
        "      past_item_static_embedding = past_item_static_embedding.to(device)\n",
        "      \n",
        "      # The forward pass of the model : extract dynamic embeddings (user+item ), and predicted user state and predicted item embedding\n",
        "      future_user_embedding,future_item_embedding,U_pred_state,j_tilde,j_true = model(item_embedding,\n",
        "                user_embedding,\n",
        "                u_static,\n",
        "                i_static,\n",
        "                f,\n",
        "                delta_u,\n",
        "                delta_i,\n",
        "                past_item_dynamic_embedding,\n",
        "                past_item_static_embedding)\n",
        "      # Add the new embedding to the placeholder U and I\n",
        "      U[users_idx] = future_user_embedding.detach()\n",
        "      I[items_idx] = future_item_embedding.detach()\n",
        "      \n",
        "      # Return loss value between the predicted embedding \"j_tilde\" and the real past item embedding j_true\n",
        "      \n",
        "      loss = MSELoss()(j_tilde,j_true)#.detach()\n",
        "      loss += regularizer(user_embedding.detach(),future_user_embedding,lambda_u,\n",
        "                            item_embedding.detach(),future_item_embedding,lambda_i\n",
        "                            )\n",
        "      \n",
        "      loss += CrossEntropyLoss(weight_ratio)(U_pred_state,state_label)\n",
        "      #print(I[0])\n",
        "      loss.backward()\n",
        "      l += loss.item()\n",
        "      optimizer.step()\n",
        "    \n",
        "   # scheduler.step(loss)\n",
        "    print(\"\\n\",U)\n",
        "    print(\"Epoch {} Loss {}\".format(e,l))\n",
        "    #if e != n_epochs-1:\n",
        "    #  U,I = U_copy.to(device).clone(),I_copy.to(device).clone()\n",
        "\n",
        "    if e%2 ==0:\n",
        "      torch.save(model.state_dict(), \"model_ep{}\".format(e))\n",
        "\n",
        "    print(\"Saving the model ...\")\n",
        "    torch.save(model.state_dict(), \"modelFinal_ep{}\".format(e))\n",
        "  return model,U,I\n",
        "\n",
        "\n"
      ],
      "metadata": {
        "id": "tGYtcQiil7Zr"
      },
      "execution_count": 44,
      "outputs": []
    },
    {
      "cell_type": "code",
      "execution_count": 45,
      "metadata": {
        "id": "Zytz5La7L8A3",
        "colab": {
          "base_uri": "https://localhost:8080/"
        },
        "outputId": "54940e15-f84c-4c67-bc14-8c116f130f39"
      },
      "outputs": [
        {
          "metadata": {
            "tags": null
          },
          "name": "stdout",
          "output_type": "stream",
          "text": [
            "Training...\n",
            "Initialisation of dynamic embedding... Done !\n",
            "Dynamic Embedding shape : Users [7047, 32], \t Items [98, 32]\n"
          ]
        },
        {
          "metadata": {
            "tags": null
          },
          "name": "stderr",
          "output_type": "stream",
          "text": [
            "100%|█████████▉| 51499/51500 [06:39<00:00, 128.83it/s]\n"
          ]
        },
        {
          "metadata": {
            "tags": null
          },
          "name": "stdout",
          "output_type": "stream",
          "text": [
            "\n",
            " tensor([[3.3199e-01, 0.0000e+00, 4.4767e-02,  ..., 0.0000e+00, 2.3324e-01,\n",
            "         3.9447e-02],\n",
            "        [3.0896e-01, 0.0000e+00, 1.2524e-01,  ..., 0.0000e+00, 2.1537e-01,\n",
            "         1.2161e-01],\n",
            "        [2.4392e-01, 0.0000e+00, 0.0000e+00,  ..., 4.7452e-06, 1.2879e-01,\n",
            "         2.1583e-03],\n",
            "        ...,\n",
            "        [2.8454e-01, 8.0210e-02, 1.4318e-01,  ..., 1.0486e-01, 2.2315e-01,\n",
            "         1.6941e-01],\n",
            "        [2.8454e-01, 8.0210e-02, 1.4318e-01,  ..., 1.0486e-01, 2.2315e-01,\n",
            "         1.6941e-01],\n",
            "        [2.8454e-01, 8.0210e-02, 1.4318e-01,  ..., 1.0486e-01, 2.2315e-01,\n",
            "         1.6941e-01]], device='cuda:0')\n",
            "Epoch 0 Loss 11225.401286185719\n",
            "Saving the model ...\n",
            "Initialisation of dynamic embedding... Done !\n",
            "Dynamic Embedding shape : Users [7047, 32], \t Items [98, 32]\n"
          ]
        },
        {
          "output_type": "stream",
          "name": "stderr",
          "text": [
            "100%|█████████▉| 51499/51500 [06:38<00:00, 129.17it/s]\n"
          ]
        },
        {
          "output_type": "stream",
          "name": "stdout",
          "text": [
            "\n",
            " tensor([[0.2439, 0.0000, 0.0454,  ..., 0.0163, 0.2370, 0.0190],\n",
            "        [0.2316, 0.0420, 0.0951,  ..., 0.0105, 0.2206, 0.0702],\n",
            "        [0.1950, 0.0000, 0.0000,  ..., 0.0000, 0.1851, 0.0255],\n",
            "        ...,\n",
            "        [0.2626, 0.0140, 0.1720,  ..., 0.1546, 0.3154, 0.0742],\n",
            "        [0.2626, 0.0140, 0.1720,  ..., 0.1546, 0.3154, 0.0742],\n",
            "        [0.2626, 0.0140, 0.1720,  ..., 0.1546, 0.3154, 0.0742]],\n",
            "       device='cuda:0')\n",
            "Epoch 1 Loss 11096.76758336369\n",
            "Saving the model ...\n",
            "Initialisation of dynamic embedding... Done !\n",
            "Dynamic Embedding shape : Users [7047, 32], \t Items [98, 32]\n"
          ]
        },
        {
          "output_type": "stream",
          "name": "stderr",
          "text": [
            "100%|█████████▉| 51499/51500 [06:41<00:00, 128.16it/s]\n"
          ]
        },
        {
          "output_type": "stream",
          "name": "stdout",
          "text": [
            "\n",
            " tensor([[0.1502, 0.0000, 0.0629,  ..., 0.0000, 0.1661, 0.0194],\n",
            "        [0.1334, 0.0000, 0.0841,  ..., 0.0326, 0.1421, 0.0018],\n",
            "        [0.1462, 0.1547, 0.0000,  ..., 0.0000, 0.1563, 0.0223],\n",
            "        ...,\n",
            "        [0.0157, 0.0730, 0.1559,  ..., 0.1223, 0.1511, 0.2945],\n",
            "        [0.0157, 0.0730, 0.1559,  ..., 0.1223, 0.1511, 0.2945],\n",
            "        [0.0157, 0.0730, 0.1559,  ..., 0.1223, 0.1511, 0.2945]],\n",
            "       device='cuda:0')\n",
            "Epoch 2 Loss 11047.404547354672\n",
            "Saving the model ...\n",
            "Initialisation of dynamic embedding... Done !\n",
            "Dynamic Embedding shape : Users [7047, 32], \t Items [98, 32]\n"
          ]
        },
        {
          "output_type": "stream",
          "name": "stderr",
          "text": [
            "100%|█████████▉| 51499/51500 [06:42<00:00, 128.10it/s]\n"
          ]
        },
        {
          "output_type": "stream",
          "name": "stdout",
          "text": [
            "\n",
            " tensor([[0.0984, 0.0813, 0.0329,  ..., 0.0000, 0.1186, 0.0000],\n",
            "        [0.0754, 0.0669, 0.0835,  ..., 0.0125, 0.0883, 0.0377],\n",
            "        [0.0963, 0.0621, 0.0000,  ..., 0.0000, 0.0941, 0.0000],\n",
            "        ...,\n",
            "        [0.0605, 0.2742, 0.1803,  ..., 0.0840, 0.1211, 0.0442],\n",
            "        [0.0605, 0.2742, 0.1803,  ..., 0.0840, 0.1211, 0.0442],\n",
            "        [0.0605, 0.2742, 0.1803,  ..., 0.0840, 0.1211, 0.0442]],\n",
            "       device='cuda:0')\n",
            "Epoch 3 Loss 11016.077003709506\n",
            "Saving the model ...\n",
            "Initialisation of dynamic embedding... Done !\n",
            "Dynamic Embedding shape : Users [7047, 32], \t Items [98, 32]\n"
          ]
        },
        {
          "output_type": "stream",
          "name": "stderr",
          "text": [
            "100%|█████████▉| 51499/51500 [06:41<00:00, 128.12it/s]"
          ]
        },
        {
          "output_type": "stream",
          "name": "stdout",
          "text": [
            "\n",
            " tensor([[0.1131, 0.0000, 0.0463,  ..., 0.0000, 0.1175, 0.0415],\n",
            "        [0.0829, 0.0000, 0.0774,  ..., 0.0000, 0.0891, 0.0830],\n",
            "        [0.1089, 0.0000, 0.0000,  ..., 0.0000, 0.1143, 0.0000],\n",
            "        ...,\n",
            "        [0.2797, 0.0458, 0.1671,  ..., 0.1308, 0.2346, 0.2118],\n",
            "        [0.2797, 0.0458, 0.1671,  ..., 0.1308, 0.2346, 0.2118],\n",
            "        [0.2797, 0.0458, 0.1671,  ..., 0.1308, 0.2346, 0.2118]],\n",
            "       device='cuda:0')\n",
            "Epoch 4 Loss 11029.675662736408\n",
            "Saving the model ...\n"
          ]
        },
        {
          "output_type": "stream",
          "name": "stderr",
          "text": [
            "\n"
          ]
        }
      ],
      "source": [
        "n_epochs = 5\n",
        "lambda_u = 1\n",
        "lambda_i = 1\n",
        "learning_rate=1e-3\n",
        "optimizer = torch.optim.Adam(model.parameters(),lr=learning_rate,weight_decay=1e-5)\n",
        "\n",
        "model_,U,I = train_rodie(t_batch_train,\n",
        "          data_torch,\n",
        "          weight_ratio_train,\n",
        "          model,\n",
        "          optimizer,\n",
        "          learning_rate,\n",
        "          n_epochs,\n",
        "          lambda_u,\n",
        "          lambda_i,\n",
        "          device\n",
        "          )"
      ]
    },
    {
      "cell_type": "markdown",
      "source": [
        "## TSNE"
      ],
      "metadata": {
        "id": "0TnL3bTCZp8P"
      }
    },
    {
      "cell_type": "code",
      "source": [
        "tsne_embedding_users = plot_tsne(data,U,train_interactions,\"user_id\")\n"
      ],
      "metadata": {
        "id": "kShfFwOIbI45",
        "colab": {
          "base_uri": "https://localhost:8080/",
          "height": 366
        },
        "outputId": "fcc080be-30a3-40f3-ae00-3c69db1008a2"
      },
      "execution_count": 198,
      "outputs": [
        {
          "output_type": "stream",
          "name": "stderr",
          "text": [
            "/usr/local/lib/python3.7/dist-packages/sklearn/manifold/_t_sne.py:783: FutureWarning: The default initialization in TSNE will change from 'random' to 'pca' in 1.2.\n",
            "  FutureWarning,\n",
            "/usr/local/lib/python3.7/dist-packages/sklearn/manifold/_t_sne.py:793: FutureWarning: The default learning rate in TSNE will change from 200.0 to 'auto' in 1.2.\n",
            "  FutureWarning,\n"
          ]
        },
        {
          "output_type": "display_data",
          "data": {
            "text/plain": [
              "<Figure size 432x288 with 1 Axes>"
            ],
            "image/png": "[encoded data removed]"
          },
          "metadata": {
            "needs_background": "light"
          }
        }
      ]
    },
    {
      "cell_type": "code",
      "source": [
        "tsne_embedding_items = plot_tsne(data,I,test_interactions,\"item_id\")"
      ],
      "metadata": {
        "colab": {
          "base_uri": "https://localhost:8080/",
          "height": 366
        },
        "id": "CBlheqJ0xKpy",
        "outputId": "63eeb602-62c0-4fe5-bf37-538b4457f24b"
      },
      "execution_count": 199,
      "outputs": [
        {
          "output_type": "stream",
          "name": "stderr",
          "text": [
            "/usr/local/lib/python3.7/dist-packages/sklearn/manifold/_t_sne.py:783: FutureWarning: The default initialization in TSNE will change from 'random' to 'pca' in 1.2.\n",
            "  FutureWarning,\n",
            "/usr/local/lib/python3.7/dist-packages/sklearn/manifold/_t_sne.py:793: FutureWarning: The default learning rate in TSNE will change from 200.0 to 'auto' in 1.2.\n",
            "  FutureWarning,\n"
          ]
        },
        {
          "output_type": "display_data",
          "data": {
            "text/plain": [
              "<Figure size 432x288 with 1 Axes>"
            ],
            "image/png": "[encoded data removed]"
          },
          "metadata": {
            "needs_background": "light"
          }
        }
      ]
    },
    {
      "cell_type": "markdown",
      "source": [
        "# Testing"
      ],
      "metadata": {
        "id": "ehuVELpdbSeV"
      }
    },
    {
      "cell_type": "code",
      "source": [
        "y, pred,auc = test_rodie(test, U, I, data_torch, model_, device)"
      ],
      "metadata": {
        "id": "llG73rcSrPUg",
        "colab": {
          "base_uri": "https://localhost:8080/"
        },
        "outputId": "bae0467f-6634-496d-a219-fdd6ae211b8e"
      },
      "execution_count": 197,
      "outputs": [
        {
          "output_type": "stream",
          "name": "stdout",
          "text": [
            "Testing...\n"
          ]
        },
        {
          "output_type": "stream",
          "name": "stderr",
          "text": [
            " 99%|█████████▉| 159/160 [00:03<00:00, 52.02it/s]\n"
          ]
        },
        {
          "output_type": "stream",
          "name": "stdout",
          "text": [
            "\n",
            " AUC Score = 0.6696094341617189\n"
          ]
        }
      ]
    }
  ],
  "metadata": {
    "interpreter": {
      "hash": "bef1584e9c6af06ba1c2e66d205bd6622ae056162fc057ef1acd3cc06b90e6ba"
    },
    "kernelspec": {
      "display_name": "Python 3.8.8 ('base')",
      "language": "python",
      "name": "python3"
    },
    "language_info": {
      "codemirror_mode": {
        "name": "ipython",
        "version": 3
      },
      "file_extension": ".py",
      "mimetype": "text/x-python",
      "name": "python",
      "nbconvert_exporter": "python",
      "pygments_lexer": "ipython3",
      "version": "3.8.8"
    },
    "orig_nbformat": 4,
    "colab": {
      "name": "main.ipynb",
      "provenance": [],
      "collapsed_sections": []
    },
    "accelerator": "GPU"
  },
  "nbformat": 4,
  "nbformat_minor": 0
}