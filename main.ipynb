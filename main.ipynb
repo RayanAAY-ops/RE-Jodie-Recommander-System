{
 "cells": [
  {
   "cell_type": "code",
   "execution_count": 1,
   "metadata": {},
   "outputs": [],
   "source": [
    "# libraries\n",
    "import pandas as pd\n",
    "import numpy as np\n",
    "import time\n",
    "import torch\n",
    "from tqdm import tqdm\n",
    "from preprocessing import extract_data_mooc, extractFeatures,extractItemUserId,extractNextStateItem,extractNextUserState,UserNextInteraction, delta, t_batch_update\n",
    "from model import RODIE,dynamic_embedding\n",
    "from train import train_rodie"
   ]
  },
  {
   "cell_type": "code",
   "execution_count": null,
   "metadata": {},
   "outputs": [],
   "source": [
    "## Téléchargement des données\n",
    "!wget https://snap.stanford.edu/data/act-mooc.tar.gz\n",
    "!tar -xzf  act-mooc.tar.gz\n",
    "!mkdir data"
   ]
  },
  {
   "cell_type": "code",
   "execution_count": null,
   "metadata": {},
   "outputs": [],
   "source": [
    "features = pd.read_csv(\"act-mooc/mooc_action_features.tsv\",sep=\"\\t\")\n",
    "labels = pd.read_csv(\"act-mooc/mooc_action_labels.tsv\",sep=\"\\t\")\n",
    "users = pd.read_csv(\"act-mooc/mooc_actions.tsv\",sep=\"\\t\")"
   ]
  },
  {
   "cell_type": "markdown",
   "metadata": {},
   "source": [
    "#### Load & Preprocess Data"
   ]
  },
  {
   "cell_type": "code",
   "execution_count": null,
   "metadata": {},
   "outputs": [],
   "source": [
    "mooc_data = extract_data_mooc()\n",
    "\n",
    "delta_u  = delta(mooc_data.copy(),\"user_id\")\n",
    "delta_i  = delta(mooc_data.copy(),\"item_id\")\n",
    "nextItemInteraction = UserNextInteraction(mooc_data.copy())\n",
    "next_state_user = extractNextUserState(mooc_data.copy())\n",
    "\n",
    "\n",
    "mooc_data['delta_u'] = delta_u\n",
    "mooc_data['delta_i'] = delta_i\n",
    "mooc_data['nextItemInteraction'] = nextItemInteraction\n",
    "mooc_data['next_state_user'] = next_state_user\n",
    "\n",
    "data = mooc_data.copy()\n",
    "data = data[ (data.nextItemInteraction != -1) | (data.next_state_user != -1)  ]\n",
    "\n",
    "data = data[['user_id', 'item_id', 'timestamp', 'state_label','delta_u', 'delta_i', 'nextItemInteraction', 'next_state_user','f1', 'f2', 'f3','f4']]\n",
    "data.head()"
   ]
  },
  {
   "cell_type": "markdown",
   "metadata": {},
   "source": [
    "#### T-batches"
   ]
  },
  {
   "cell_type": "code",
   "execution_count": null,
   "metadata": {},
   "outputs": [],
   "source": [
    "t_batches = t_batch_update(data.reset_index())"
   ]
  },
  {
   "cell_type": "markdown",
   "metadata": {},
   "source": [
    "##### Initialize Device"
   ]
  },
  {
   "cell_type": "code",
   "execution_count": null,
   "metadata": {},
   "outputs": [],
   "source": [
    "# setting device on GPU if available, else CPU\n",
    "device = torch.device('cuda' if torch.cuda.is_available() else 'cpu')\n",
    "#device = \"cpu\"\n",
    "print('Using device:', device)"
   ]
  },
  {
   "cell_type": "markdown",
   "metadata": {},
   "source": [
    "##### Initialize the model"
   ]
  },
  {
   "cell_type": "code",
   "execution_count": null,
   "metadata": {},
   "outputs": [],
   "source": [
    "embedding_dim = 32\n",
    "data_torch = torch.from_numpy(data.values.astype(np.float32))\n",
    "U_dynamic,I_dynamic = dynamic_embedding(data_torch)  # Initial dynamic embedding\n",
    "    \n",
    "U_dynamic = U_dynamic.to(device)\n",
    "I_dynamic = I_dynamic.to(device)\n",
    "\n",
    "model = RODIE(embedding_dim,data_torch).to(device)"
   ]
  },
  {
   "cell_type": "markdown",
   "metadata": {},
   "source": [
    "##### Train Loop"
   ]
  },
  {
   "cell_type": "code",
   "execution_count": null,
   "metadata": {},
   "outputs": [],
   "source": [
    "n_epochs = 3\n",
    "lambda_u = 1e-3\n",
    "lambda_i = 1e-3\n",
    "optimizer = torch.nn.Adam(model.parameters(),lr=1e-3)\n",
    "\n",
    "model_ = train_rodie(t_batches,\n",
    "          U_dynamic,\n",
    "          I_dynamic,\n",
    "          optimizer,\n",
    "          n_epochs,\n",
    "          lambda_u,\n",
    "          lambda_i\n",
    "          )"
   ]
  }
 ],
 "metadata": {
  "interpreter": {
   "hash": "bef1584e9c6af06ba1c2e66d205bd6622ae056162fc057ef1acd3cc06b90e6ba"
  },
  "kernelspec": {
   "display_name": "Python 3.8.8 ('base')",
   "language": "python",
   "name": "python3"
  },
  "language_info": {
   "codemirror_mode": {
    "name": "ipython",
    "version": 3
   },
   "file_extension": ".py",
   "mimetype": "text/x-python",
   "name": "python",
   "nbconvert_exporter": "python",
   "pygments_lexer": "ipython3",
   "version": "3.8.8"
  },
  "orig_nbformat": 4
 },
 "nbformat": 4,
 "nbformat_minor": 2
}
