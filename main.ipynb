{
  "cells": [
    {
      "cell_type": "code",
      "execution_count": 16,
      "metadata": {
        "id": "Xq_u5mj7L8Av",
        "colab": {
          "base_uri": "https://localhost:8080/"
        },
        "outputId": "a3a24d0a-416f-448c-dad3-2e05cdb9a377"
      },
      "outputs": [
        {
          "output_type": "execute_result",
          "data": {
            "text/plain": [
              "<torch.autograd.profiler.emit_nvtx at 0x7fea6e644650>"
            ]
          },
          "metadata": {},
          "execution_count": 16
        }
      ],
      "source": [
        "# libraries\n",
        "import pandas as pd\n",
        "import numpy as np\n",
        "import matplotlib.pyplot as plt\n",
        "import time\n",
        "import math\n",
        "import torch\n",
        "from tqdm import tqdm\n",
        "from preprocessing import *\n",
        "from model import RODIE\n",
        "from sklearn.manifold import TSNE\n",
        "from train import dynamic_embedding ,train_rodie\n",
        "from  torch import nn\n",
        "from torch.nn import RNNCell\n",
        "from torch.nn.functional import one_hot\n",
        "from torch.nn import functional as F\n",
        "from torch.nn import MSELoss, HuberLoss,L1Loss,CrossEntropyLoss\n",
        "from tqdm import tqdm\n",
        "## Those settings speed up the training process on GPU\n",
        "torch.backends.cudnn.benchmark = True\n",
        "torch.autograd.set_detect_anomaly(False)\n",
        "torch.autograd.profiler.profile(False)\n",
        "torch.autograd.profiler.emit_nvtx(False)"
      ]
    },
    {
      "cell_type": "code",
      "execution_count": null,
      "metadata": {
        "id": "a2fs_9WWL8Ax"
      },
      "outputs": [],
      "source": [
        "## Download data\n",
        "!wget https://snap.stanford.edu/data/act-mooc.tar.gz\n",
        "!tar -xzf  act-mooc.tar.gz\n",
        "!mkdir data"
      ]
    },
    {
      "cell_type": "code",
      "execution_count": 17,
      "metadata": {
        "id": "4T5CbB9KL8Ax"
      },
      "outputs": [],
      "source": [
        "features = pd.read_csv(\"act-mooc/mooc_action_features.tsv\",sep=\"\\t\")\n",
        "labels = pd.read_csv(\"act-mooc/mooc_action_labels.tsv\",sep=\"\\t\")\n",
        "users = pd.read_csv(\"act-mooc/mooc_actions.tsv\",sep=\"\\t\")"
      ]
    },
    {
      "cell_type": "markdown",
      "metadata": {
        "id": "JLCAaTlZL8Ay"
      },
      "source": [
        "#### Load & Preprocess Data"
      ]
    },
    {
      "cell_type": "code",
      "source": [
        "mooc_data = extract_data_mooc()"
      ],
      "metadata": {
        "id": "nkZ91GH-YhI_"
      },
      "execution_count": 18,
      "outputs": []
    },
    {
      "cell_type": "code",
      "source": [
        "## Extract time diffs for both users and items interactions\n",
        "delta_u  = delta(mooc_data.copy(),\"user_id\")\n",
        "delta_i  = delta(mooc_data.copy(),\"item_id\")\n",
        "## Standardize the columns\n",
        "mooc_data['delta_u'] = delta_u/np.std(delta_u)\n",
        "mooc_data['delta_i'] = delta_i/np.std(delta_i)"
      ],
      "metadata": {
        "id": "eq5YHpG3f84_"
      },
      "execution_count": null,
      "outputs": []
    },
    {
      "cell_type": "code",
      "source": [
        "## Extract previous item interactions and past user state\n",
        "PreviousItemInteraction_ = PreviousItemInteraction(mooc_data.copy()).astype(int)\n",
        "next_state_user = PastUserState(mooc_data.copy()).astype(int)\n",
        "interaction_column_name = \"PreviousItemInteraction\"\n",
        "pastState_column_name =  \"previous_state_label\"\n",
        "mooc_data[interaction_column_name] = PreviousItemInteraction_\n",
        "mooc_data[pastState_column_name] = next_state_user\n",
        "list_moins_un = list(mooc_data[mooc_data[pastState_column_name] == -1].index.values)\n",
        "mooc_data.loc[list_moins_un,pastState_column_name] = 0"
      ],
      "metadata": {
        "id": "c14Ojs_LeL-g"
      },
      "execution_count": null,
      "outputs": []
    },
    {
      "cell_type": "code",
      "execution_count": null,
      "metadata": {
        "id": "nFoGBgxNL8Az"
      },
      "outputs": [],
      "source": [
        "data = mooc_data.copy()\n",
        "data = data[['user_id', 'item_id', 'timestamp', 'state_label','delta_u', 'delta_i', interaction_column_name, pastState_column_name,'f1', 'f2', 'f3','f4']].sort_values(['timestamp'])\n",
        "data.head()"
      ]
    },
    {
      "cell_type": "markdown",
      "metadata": {
        "id": "IiCCdNMNL8A0"
      },
      "source": [
        "### T-batches\n",
        "\n",
        "#### Train / Test SPLIT"
      ]
    },
    {
      "cell_type": "code",
      "source": [
        "t_batches = t_batch_update(data)\n"
      ],
      "metadata": {
        "id": "D4-z_QuOQfk4",
        "colab": {
          "base_uri": "https://localhost:8080/"
        },
        "outputId": "3b323804-bbc8-4c33-881d-140998374a98"
      },
      "execution_count": 21,
      "outputs": [
        {
          "output_type": "stream",
          "name": "stdout",
          "text": [
            "T-Batch start...\n",
            "Number of interaction = 411749\n",
            "T-Batch ends !\n"
          ]
        }
      ]
    },
    {
      "cell_type": "markdown",
      "metadata": {
        "id": "PZldOSzFL8A1"
      },
      "source": [
        "##### Initialize Device"
      ]
    },
    {
      "cell_type": "code",
      "execution_count": 22,
      "metadata": {
        "colab": {
          "base_uri": "https://localhost:8080/"
        },
        "id": "7xuMzz5NL8A1",
        "outputId": "ac6d66fb-a4c6-43f5-fe63-7dbb7ac8003e"
      },
      "outputs": [
        {
          "output_type": "stream",
          "name": "stdout",
          "text": [
            "Using device: cpu\n"
          ]
        }
      ],
      "source": [
        "# setting device on GPU if available, else CPU\n",
        "device = torch.device('cuda' if torch.cuda.is_available() else 'cpu')\n",
        "#device = \"cpu\"\n",
        "print('Using device:', device)"
      ]
    },
    {
      "cell_type": "markdown",
      "metadata": {
        "id": "SyoLG1SXL8A2"
      },
      "source": [
        "##### Initialize the model"
      ]
    },
    {
      "cell_type": "code",
      "source": [
        "t_batch_train, test, train_interactions, test_interactions = t_batch_train_test(data, 1000)"
      ],
      "metadata": {
        "colab": {
          "base_uri": "https://localhost:8080/"
        },
        "id": "sco-Sdg52YFL",
        "outputId": "2a743ac6-e8bb-42bf-9690-01de661351fe"
      },
      "execution_count": 24,
      "outputs": [
        {
          "output_type": "stream",
          "name": "stdout",
          "text": [
            "Train : Number of interactions in 1000 batches is equal to 3967\n",
            "Test : Number of interactions is equal to 407782\n"
          ]
        }
      ]
    },
    {
      "cell_type": "code",
      "source": [
        "# Its important to add this to the loss, because the dataset is unbalanced\n",
        "dropout_ratio_train = len(train_interactions)/(1.0+ np.sum(data.loc[train_interactions,'state_label']))\n",
        "weight_ratio_train = torch.Tensor([1.0,dropout_ratio_train]).to(device)\n",
        "print(\"Number of dropout in the train data is {}\".format(np.sum(data.loc[train_interactions,'state_label'])))\n",
        "\n",
        "int_test = test.index.values.tolist()\n",
        "dropout_ratio_test = len(int_test)/(1.0+ np.sum(data.loc[int_test,'state_label']))\n",
        "print(\"Number of dropout in the test data is {}\".format(np.sum(data.loc[test_interactions,'state_label'])))\n"
      ],
      "metadata": {
        "colab": {
          "base_uri": "https://localhost:8080/"
        },
        "id": "GUpwh4O8MZo_",
        "outputId": "07807079-36f9-42e7-e035-1098e2ad7709"
      },
      "execution_count": 25,
      "outputs": [
        {
          "output_type": "stream",
          "name": "stdout",
          "text": [
            "Number of dropout in the train data is 21\n",
            "Number of dropout in the test data is 4045\n"
          ]
        }
      ]
    },
    {
      "cell_type": "markdown",
      "metadata": {
        "id": "X09xB2eqL8A3"
      },
      "source": [
        "##### Train Loop"
      ]
    },
    {
      "cell_type": "code",
      "source": [
        "embedding_dim = 32\n",
        "data_torch = torch.from_numpy(data.values.astype(np.float32))\n",
        "model = RODIE(embedding_dim,data_torch,device=device,activation_rnn=\"relu\").to(device)"
      ],
      "metadata": {
        "colab": {
          "base_uri": "https://localhost:8080/"
        },
        "id": "AJPXwwqWQrMs",
        "outputId": "7da62d29-2af4-4d6b-e1b0-5385af30af62"
      },
      "execution_count": 26,
      "outputs": [
        {
          "output_type": "stream",
          "name": "stdout",
          "text": [
            "Number of users of 7047 \n",
            " Number of items 97 \n",
            "\n",
            "Dataset size [411749, 12]\n",
            "Initialisation of static embedding... Done !\n",
            "Static Embedding shape : Users [7047, 7047], \t Items [98, 98]\n",
            "Initialisation of rnn's with relu activation function... Done !\n",
            "Initialisation of MLP... Done !\n"
          ]
        }
      ]
    },
    {
      "cell_type": "code",
      "execution_count": 27,
      "metadata": {
        "id": "Zytz5La7L8A3",
        "colab": {
          "base_uri": "https://localhost:8080/"
        },
        "outputId": "192efa4f-b582-4ac0-835d-761f5ef97583"
      },
      "outputs": [
        {
          "output_type": "stream",
          "name": "stdout",
          "text": [
            "Initialisation of dynamic embedding... Done !\n",
            "Dynamic Embedding shape : Users [7047, 32], \t Items [690606, 32]\n",
            "Training...\n"
          ]
        },
        {
          "output_type": "stream",
          "name": "stderr",
          "text": [
            "100%|█████████▉| 999/1000 [00:15<00:00, 64.27it/s]"
          ]
        },
        {
          "output_type": "stream",
          "name": "stdout",
          "text": [
            "tensor([[0.0686, 0.1067, 0.1597,  ..., 0.0224, 0.1768, 0.2082],\n",
            "        [0.0686, 0.1067, 0.1597,  ..., 0.0224, 0.1768, 0.2082],\n",
            "        [0.0686, 0.1067, 0.1597,  ..., 0.0224, 0.1768, 0.2082],\n",
            "        ...,\n",
            "        [0.0686, 0.1067, 0.1597,  ..., 0.0224, 0.1768, 0.2082],\n",
            "        [0.0686, 0.1067, 0.1597,  ..., 0.0224, 0.1768, 0.2082],\n",
            "        [0.0686, 0.1067, 0.1597,  ..., 0.0224, 0.1768, 0.2082]])\n",
            "Epoch 0 Loss 333.73341443389654\n"
          ]
        },
        {
          "output_type": "stream",
          "name": "stderr",
          "text": [
            "\n"
          ]
        }
      ],
      "source": [
        "n_epochs = 1\n",
        "lambda_u = 1\n",
        "lambda_i = 1\n",
        "learning_rate=1e-4\n",
        "optimizer = torch.optim.Adam(model.parameters(),lr=learning_rate,weight_decay=1e-5)\n",
        "\n",
        "model_,U,I = train_rodie(t_batch_train,\n",
        "          data_torch,\n",
        "          weight_ratio_train,\n",
        "          model,\n",
        "          optimizer,\n",
        "          learning_rate,\n",
        "          n_epochs,\n",
        "          lambda_u,\n",
        "          lambda_i,\n",
        "          device\n",
        "          )"
      ]
    },
    {
      "cell_type": "markdown",
      "source": [
        "## TSNE"
      ],
      "metadata": {
        "id": "0TnL3bTCZp8P"
      }
    },
    {
      "cell_type": "code",
      "source": [
        "tsne_embedding_users = plot_tsne(data,embedding,interactions,\"user_id\")\n",
        "tsne_embedding_items = plot_tsne(data,embedding,interactions,\"item_id\")"
      ],
      "metadata": {
        "id": "kShfFwOIbI45"
      },
      "execution_count": null,
      "outputs": []
    },
    {
      "cell_type": "markdown",
      "source": [
        "# Testing"
      ],
      "metadata": {
        "id": "ehuVELpdbSeV"
      }
    },
    {
      "cell_type": "code",
      "source": [
        "y, pred,auc = test_rodie(test, U, I, data_torch, model_, device)"
      ],
      "metadata": {
        "id": "llG73rcSrPUg"
      },
      "execution_count": null,
      "outputs": []
    }
  ],
  "metadata": {
    "interpreter": {
      "hash": "bef1584e9c6af06ba1c2e66d205bd6622ae056162fc057ef1acd3cc06b90e6ba"
    },
    "kernelspec": {
      "display_name": "Python 3.8.8 ('base')",
      "language": "python",
      "name": "python3"
    },
    "language_info": {
      "codemirror_mode": {
        "name": "ipython",
        "version": 3
      },
      "file_extension": ".py",
      "mimetype": "text/x-python",
      "name": "python",
      "nbconvert_exporter": "python",
      "pygments_lexer": "ipython3",
      "version": "3.8.8"
    },
    "orig_nbformat": 4,
    "colab": {
      "name": "main.ipynb",
      "provenance": [],
      "collapsed_sections": []
    },
    "accelerator": "GPU"
  },
  "nbformat": 4,
  "nbformat_minor": 0
}