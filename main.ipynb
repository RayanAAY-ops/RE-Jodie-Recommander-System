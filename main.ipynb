{
  "cells": [
    {
      "cell_type": "code",
      "execution_count": 144,
      "metadata": {
        "id": "Xq_u5mj7L8Av",
        "colab": {
          "base_uri": "https://localhost:8080/"
        },
        "outputId": "8f423ed7-e8f1-4b76-cd8d-73ec60a9a0d6"
      },
      "outputs": [
        {
          "output_type": "execute_result",
          "data": {
            "text/plain": [
              "<torch.autograd.profiler.emit_nvtx at 0x7fce87214dd0>"
            ]
          },
          "metadata": {},
          "execution_count": 144
        }
      ],
      "source": [
        "# libraries\n",
        "import pandas as pd\n",
        "import numpy as np\n",
        "import matplotlib.pyplot as plt\n",
        "import time\n",
        "import torch\n",
        "from tqdm import tqdm\n",
        "from preprocessing import PastUserState,extract_data_mooc,PreviousItemInteraction, extractFeatures,extractItemUserId,extractNextStateItem,extractNextUserState,UserNextInteraction, delta, t_batch_update,train_test_split,train_test_stratified_split\n",
        "from model import RODIE\n",
        "from sklearn.manifold import TSNE\n",
        "from train import dynamic_embedding,train_rodie\n",
        "from  torch import nn\n",
        "from torch.nn import RNNCell\n",
        "from torch.nn.functional import one_hot\n",
        "import math\n",
        "from torch.nn import functional as F\n",
        "from torch.nn import MSELoss, HuberLoss,L1Loss,CrossEntropyLoss\n",
        "from tqdm import tqdm\n",
        "\n",
        "\n",
        "torch.backends.cudnn.benchmark = True\n",
        "torch.autograd.set_detect_anomaly(False)\n",
        "torch.autograd.profiler.profile(False)\n",
        "torch.autograd.profiler.emit_nvtx(False)"
      ]
    },
    {
      "cell_type": "code",
      "execution_count": null,
      "metadata": {
        "colab": {
          "base_uri": "https://localhost:8080/"
        },
        "id": "a2fs_9WWL8Ax",
        "outputId": "78af5a96-609d-4d39-e597-966899e9c9c8"
      },
      "outputs": [
        {
          "output_type": "stream",
          "name": "stdout",
          "text": [
            "--2022-03-21 12:46:43--  https://snap.stanford.edu/data/act-mooc.tar.gz\n",
            "Resolving snap.stanford.edu (snap.stanford.edu)... 171.64.75.80\n",
            "Connecting to snap.stanford.edu (snap.stanford.edu)|171.64.75.80|:443... connected.\n",
            "HTTP request sent, awaiting response... 200 OK\n",
            "Length: 5378133 (5.1M) [application/x-gzip]\n",
            "Saving to: ‘act-mooc.tar.gz’\n",
            "\n",
            "act-mooc.tar.gz     100%[===================>]   5.13M  4.75MB/s    in 1.1s    \n",
            "\n",
            "2022-03-21 12:46:44 (4.75 MB/s) - ‘act-mooc.tar.gz’ saved [5378133/5378133]\n",
            "\n"
          ]
        }
      ],
      "source": [
        "## Téléchargement des données\n",
        "!wget https://snap.stanford.edu/data/act-mooc.tar.gz\n",
        "!tar -xzf  act-mooc.tar.gz\n",
        "!mkdir data"
      ]
    },
    {
      "cell_type": "code",
      "execution_count": 145,
      "metadata": {
        "id": "4T5CbB9KL8Ax"
      },
      "outputs": [],
      "source": [
        "features = pd.read_csv(\"act-mooc/mooc_action_features.tsv\",sep=\"\\t\")\n",
        "labels = pd.read_csv(\"act-mooc/mooc_action_labels.tsv\",sep=\"\\t\")\n",
        "users = pd.read_csv(\"act-mooc/mooc_actions.tsv\",sep=\"\\t\")"
      ]
    },
    {
      "cell_type": "markdown",
      "metadata": {
        "id": "JLCAaTlZL8Ay"
      },
      "source": [
        "#### Load & Preprocess Data"
      ]
    },
    {
      "cell_type": "code",
      "source": [
        "mooc_data = extract_data_mooc()\n"
      ],
      "metadata": {
        "id": "nkZ91GH-YhI_"
      },
      "execution_count": 146,
      "outputs": []
    },
    {
      "cell_type": "code",
      "source": [
        "delta_u  = delta(mooc_data.copy(),\"user_id\")\n",
        "delta_i  = delta(mooc_data.copy(),\"item_id\")\n",
        "PreviousItemInteraction_ = PreviousItemInteraction(mooc_data.copy()).astype(int)\n",
        "next_state_user = PastUserState(mooc_data.copy()).astype(int)\n",
        "\n",
        "interaction_column_name = \"PreviousItemInteraction\"\n",
        "pastState_column_name =  \"previous_state_label\""
      ],
      "metadata": {
        "colab": {
          "base_uri": "https://localhost:8080/"
        },
        "id": "eq5YHpG3f84_",
        "outputId": "9c6831a0-7866-4fea-b476-c7fec1b7913d"
      },
      "execution_count": 147,
      "outputs": [
        {
          "output_type": "stream",
          "name": "stdout",
          "text": [
            "delta user_id\n",
            "delta item_id\n"
          ]
        }
      ]
    },
    {
      "cell_type": "markdown",
      "source": [
        ""
      ],
      "metadata": {
        "id": "-KmIGlEi1dDt"
      }
    },
    {
      "cell_type": "code",
      "execution_count": null,
      "metadata": {
        "id": "nFoGBgxNL8Az"
      },
      "outputs": [],
      "source": [
        "mooc_data['delta_u'] = delta_u/np.std(delta_u)\n",
        "mooc_data['delta_i'] = delta_i/np.std(delta_i)\n",
        "mooc_data[interaction_column_name] = PreviousItemInteraction_\n",
        "mooc_data[pastState_column_name] = next_state_user\n",
        "list_moins_un = list(mooc_data[mooc_data[pastState_column_name] == -1].index.values)\n",
        "mooc_data.loc[list_moins_un,pastState_column_name] = 0\n",
        "data = mooc_data.copy()\n",
        "#data = data[data.next_state_user != -1]\n",
        "\n",
        "data = data[['user_id', 'item_id', 'timestamp', 'state_label','delta_u', 'delta_i', interaction_column_name, pastState_column_name,'f1', 'f2', 'f3','f4']].sort_values(['timestamp'])\n",
        "data"
      ]
    },
    {
      "cell_type": "markdown",
      "metadata": {
        "id": "IiCCdNMNL8A0"
      },
      "source": [
        "### T-batches\n",
        "\n",
        "#### Train / Test SPLIT"
      ]
    },
    {
      "cell_type": "code",
      "source": [
        "t_batches_train = t_batch_update(data)\n"
      ],
      "metadata": {
        "id": "D4-z_QuOQfk4",
        "colab": {
          "base_uri": "https://localhost:8080/"
        },
        "outputId": "af1d20ae-948b-42e9-95e7-405e34ea96bb"
      },
      "execution_count": 161,
      "outputs": [
        {
          "output_type": "stream",
          "name": "stdout",
          "text": [
            "T-Batch start...\n",
            "Number of interaction = 411749\n",
            "T-Batch ends !\n"
          ]
        }
      ]
    },
    {
      "cell_type": "code",
      "source": [
        "len(t_batches_train)"
      ],
      "metadata": {
        "colab": {
          "base_uri": "https://localhost:8080/"
        },
        "id": "wZpFc7mbJiaL",
        "outputId": "d89097c1-67b3-4446-c8af-789d65eddc85"
      },
      "execution_count": 162,
      "outputs": [
        {
          "output_type": "execute_result",
          "data": {
            "text/plain": [
              "63461"
            ]
          },
          "metadata": {},
          "execution_count": 162
        }
      ]
    },
    {
      "cell_type": "markdown",
      "metadata": {
        "id": "PZldOSzFL8A1"
      },
      "source": [
        "##### Initialize Device"
      ]
    },
    {
      "cell_type": "code",
      "execution_count": 163,
      "metadata": {
        "colab": {
          "base_uri": "https://localhost:8080/"
        },
        "id": "7xuMzz5NL8A1",
        "outputId": "100a66c9-5c6a-4597-9e2a-c249a171957c"
      },
      "outputs": [
        {
          "output_type": "stream",
          "name": "stdout",
          "text": [
            "Using device: cuda\n"
          ]
        }
      ],
      "source": [
        "# setting device on GPU if available, else CPU\n",
        "device = torch.device('cuda' if torch.cuda.is_available() else 'cpu')\n",
        "#device = \"cpu\"\n",
        "print('Using device:', device)"
      ]
    },
    {
      "cell_type": "markdown",
      "metadata": {
        "id": "SyoLG1SXL8A2"
      },
      "source": [
        "##### Initialize the model"
      ]
    },
    {
      "cell_type": "code",
      "source": [
        "# Test le modèle sur peu de données\n",
        "import itertools\n",
        "interactions_ = []\n",
        "n_batches = 11500\n",
        "t_batches_ = dict(itertools.islice(t_batches_train.items(), n_batches))\n",
        "number_of_interactions = 0\n",
        "for x,y in t_batches_.items():\n",
        "  number_of_interactions +=(len(y))\n",
        "  interactions_.append(y)\n",
        "interactions = list(itertools.chain(*interactions_)) # Flatten the list of list\n",
        "print(\"Number of interactions in {} batches is equal to {}\".format(n_batches,number_of_interactions))"
      ],
      "metadata": {
        "id": "iGpg_gLLMwoo",
        "colab": {
          "base_uri": "https://localhost:8080/"
        },
        "outputId": "d35a9a4b-dfe2-414a-e605-405556844057"
      },
      "execution_count": 197,
      "outputs": [
        {
          "output_type": "stream",
          "name": "stdout",
          "text": [
            "Number of interactions in 11500 batches is equal to 57363\n"
          ]
        }
      ]
    },
    {
      "cell_type": "code",
      "source": [
        "# Its important to add this to the loss, because the dataset is unbalanced\n",
        "dropout_ratio = len(interactions)/(1.0+ np.sum(data.loc[interactions,'state_label']))\n",
        "weight_ratio = torch.Tensor([1.0,dropout_ratio]).to(device)\n",
        "print(\"Number of dropout in the train data is {}\".format(np.sum(data.loc[interactions,'state_label'])))"
      ],
      "metadata": {
        "colab": {
          "base_uri": "https://localhost:8080/"
        },
        "id": "GUpwh4O8MZo_",
        "outputId": "abe08daa-b809-4b6b-ebbe-5478b11e6539"
      },
      "execution_count": 198,
      "outputs": [
        {
          "output_type": "stream",
          "name": "stdout",
          "text": [
            "Number of dropout in the train data is 572\n"
          ]
        }
      ]
    },
    {
      "cell_type": "code",
      "source": [
        "embedding_dim = 8\n",
        "data_torch = torch.from_numpy(data.values.astype(np.float32))\n",
        "model = RODIE(embedding_dim,data_torch,device=device,activation_rnn=\"tanh\").to(device)"
      ],
      "metadata": {
        "colab": {
          "base_uri": "https://localhost:8080/"
        },
        "id": "AJPXwwqWQrMs",
        "outputId": "fd6e3c31-6cf1-4894-87de-c9766683d3be"
      },
      "execution_count": 199,
      "outputs": [
        {
          "output_type": "stream",
          "name": "stdout",
          "text": [
            "Number of users of 7047 \n",
            " Number of items 97 \n",
            "\n",
            "Dataset size [411749, 12]\n",
            "Initialisation of static embedding... Done !\n",
            "Static Embedding shape : Users [7047, 7047], \t Items [98, 98]\n",
            "Initialisation of rnn's with tanh activation function... Done !\n",
            "Initialisation of MLP... Done !\n"
          ]
        }
      ]
    },
    {
      "cell_type": "markdown",
      "metadata": {
        "id": "X09xB2eqL8A3"
      },
      "source": [
        "##### Train Loop"
      ]
    },
    {
      "cell_type": "code",
      "execution_count": 216,
      "metadata": {
        "id": "Zytz5La7L8A3",
        "colab": {
          "base_uri": "https://localhost:8080/"
        },
        "outputId": "2085674e-2378-49e9-9ed8-ea031c365b67"
      },
      "outputs": [
        {
          "output_type": "stream",
          "name": "stdout",
          "text": [
            "Initialisation of dynamic embedding... Done !\n",
            "Dynamic Embedding shape : Users [7047, 8], \t Items [98, 8]\n",
            "Training...\n"
          ]
        },
        {
          "output_type": "stream",
          "name": "stderr",
          "text": [
            "100%|█████████▉| 11499/11500 [01:29<00:00, 128.56it/s]\n"
          ]
        },
        {
          "output_type": "stream",
          "name": "stdout",
          "text": [
            "tensor([-0.0651,  0.7296,  0.1638,  0.0634,  0.2287,  0.4130,  0.2216, -0.4008],\n",
            "       device='cuda:0') tensor([-0.0612, -0.3933,  0.4455,  0.3657,  0.0136, -0.5762, -0.2869, -0.3080],\n",
            "       device='cuda:0')\n",
            "Epoch 0 Loss 2253.409471509047\n"
          ]
        },
        {
          "output_type": "stream",
          "name": "stderr",
          "text": [
            "100%|█████████▉| 11499/11500 [01:27<00:00, 131.87it/s]\n"
          ]
        },
        {
          "output_type": "stream",
          "name": "stdout",
          "text": [
            "tensor([ 0.0182,  0.6179,  0.2106, -0.0219,  0.3027,  0.3903,  0.3004, -0.4887],\n",
            "       device='cuda:0') tensor([ 0.0058, -0.4225,  0.3741,  0.4260, -0.0512, -0.4877, -0.3673, -0.3531],\n",
            "       device='cuda:0')\n",
            "Epoch 1 Loss 2201.7532369084656\n"
          ]
        },
        {
          "output_type": "stream",
          "name": "stderr",
          "text": [
            "100%|█████████▉| 11499/11500 [01:27<00:00, 131.49it/s]\n"
          ]
        },
        {
          "output_type": "stream",
          "name": "stdout",
          "text": [
            "tensor([-0.0081,  0.6025,  0.2245, -0.0377,  0.3440,  0.4253,  0.3451, -0.4084],\n",
            "       device='cuda:0') tensor([ 0.3510, -0.3678, -0.3245,  0.3712, -0.3524,  0.3150, -0.3744, -0.3672],\n",
            "       device='cuda:0')\n",
            "Epoch 2 Loss 2196.5553723268677\n"
          ]
        },
        {
          "output_type": "stream",
          "name": "stderr",
          "text": [
            "100%|█████████▉| 11499/11500 [01:27<00:00, 132.16it/s]\n"
          ]
        },
        {
          "output_type": "stream",
          "name": "stdout",
          "text": [
            "tensor([ 0.1266,  0.5852,  0.1882,  0.0377,  0.3427,  0.4171,  0.3392, -0.4452],\n",
            "       device='cuda:0') tensor([ 0.3511, -0.3723, -0.3158,  0.3758, -0.3515,  0.3074, -0.3754, -0.3718],\n",
            "       device='cuda:0')\n",
            "Epoch 3 Loss 2190.0644325725734\n"
          ]
        },
        {
          "output_type": "stream",
          "name": "stderr",
          "text": [
            "100%|█████████▉| 11499/11500 [01:29<00:00, 128.26it/s]\n"
          ]
        },
        {
          "output_type": "stream",
          "name": "stdout",
          "text": [
            "tensor([ 0.1379,  0.5901,  0.1834,  0.0126,  0.3341,  0.4008,  0.3411, -0.4586],\n",
            "       device='cuda:0') tensor([ 0.3525, -0.3579, -0.3439,  0.3587, -0.3524,  0.3399, -0.3633, -0.3592],\n",
            "       device='cuda:0')\n",
            "Epoch 4 Loss 2186.313209053129\n"
          ]
        },
        {
          "output_type": "stream",
          "name": "stderr",
          "text": [
            "100%|█████████▉| 11499/11500 [01:27<00:00, 131.49it/s]\n"
          ]
        },
        {
          "output_type": "stream",
          "name": "stdout",
          "text": [
            "tensor([ 0.1521,  0.5588,  0.1776,  0.0602,  0.3498,  0.3982,  0.3433, -0.4802],\n",
            "       device='cuda:0') tensor([ 0.3542, -0.3563, -0.3439,  0.3586, -0.3529,  0.3400, -0.3628, -0.3592],\n",
            "       device='cuda:0')\n",
            "Epoch 5 Loss 2189.1884494517\n"
          ]
        },
        {
          "output_type": "stream",
          "name": "stderr",
          "text": [
            "100%|█████████▉| 11499/11500 [01:29<00:00, 128.15it/s]\n"
          ]
        },
        {
          "output_type": "stream",
          "name": "stdout",
          "text": [
            "tensor([ 0.1730,  0.5256,  0.1901,  0.0571,  0.3409,  0.4245,  0.3565, -0.4806],\n",
            "       device='cuda:0') tensor([ 0.3539, -0.3625, -0.3347,  0.3648, -0.3542,  0.3272, -0.3674, -0.3617],\n",
            "       device='cuda:0')\n",
            "Epoch 6 Loss 2184.001758951228\n"
          ]
        },
        {
          "output_type": "stream",
          "name": "stderr",
          "text": [
            "100%|█████████▉| 11499/11500 [01:29<00:00, 128.88it/s]\n"
          ]
        },
        {
          "output_type": "stream",
          "name": "stdout",
          "text": [
            "tensor([ 0.1921,  0.4964,  0.2329,  0.0930,  0.3786,  0.4084,  0.3698, -0.4548],\n",
            "       device='cuda:0') tensor([ 0.3516, -0.3627, -0.3335,  0.3655, -0.3551,  0.3264, -0.3669, -0.3643],\n",
            "       device='cuda:0')\n",
            "Epoch 7 Loss 2184.1193003673106\n"
          ]
        },
        {
          "output_type": "stream",
          "name": "stderr",
          "text": [
            "100%|█████████▉| 11499/11500 [01:29<00:00, 128.46it/s]\n"
          ]
        },
        {
          "output_type": "stream",
          "name": "stdout",
          "text": [
            "tensor([ 0.2304,  0.4807,  0.2432,  0.0330,  0.3942,  0.3815,  0.4033, -0.4381],\n",
            "       device='cuda:0') tensor([ 0.3533, -0.3627, -0.3350,  0.3646, -0.3539,  0.3281, -0.3664, -0.3623],\n",
            "       device='cuda:0')\n",
            "Epoch 8 Loss 2185.0546468906105\n"
          ]
        },
        {
          "output_type": "stream",
          "name": "stderr",
          "text": [
            "100%|█████████▉| 11499/11500 [01:28<00:00, 129.40it/s]"
          ]
        },
        {
          "output_type": "stream",
          "name": "stdout",
          "text": [
            "tensor([ 0.2443,  0.4565,  0.2735, -0.0095,  0.3730,  0.4397,  0.3848, -0.4202],\n",
            "       device='cuda:0') tensor([ 0.3523, -0.3665, -0.3295,  0.3681, -0.3540,  0.3210, -0.3688, -0.3649],\n",
            "       device='cuda:0')\n",
            "Epoch 9 Loss 2184.8179422179237\n"
          ]
        },
        {
          "output_type": "stream",
          "name": "stderr",
          "text": [
            "\n"
          ]
        }
      ],
      "source": [
        "n_epochs = 10\n",
        "lambda_u = 1e-1\n",
        "lambda_i = 1e-1\n",
        "learning_rate=1e-3\n",
        "optimizer = torch.optim.Adam(model.parameters(),lr=learning_rate,weight_decay=1e-5)\n",
        "\n",
        "model_,U,I = train_rodie(t_batches_,\n",
        "          data_torch,\n",
        "          weight_ratio,\n",
        "          model,\n",
        "          optimizer,\n",
        "          learning_rate,\n",
        "          n_epochs,\n",
        "          lambda_u,\n",
        "          lambda_i,\n",
        "          device\n",
        "          )"
      ]
    },
    {
      "cell_type": "code",
      "source": [
        "dd = list(np.unique(data.loc[interactions,'user_id']))"
      ],
      "metadata": {
        "id": "MfduBB6T5PZd"
      },
      "execution_count": 202,
      "outputs": []
    },
    {
      "cell_type": "markdown",
      "source": [
        "## TSNE"
      ],
      "metadata": {
        "id": "0TnL3bTCZp8P"
      }
    },
    {
      "cell_type": "code",
      "source": [
        "dd = sum(interactions_, [])\n",
        "new_df = data.iloc[interactions,:].copy()\n",
        "list_of_change = new_df[new_df['state_label'] == 1]['user_id'].values\n",
        "data_  = (U.detach().cpu().clone()).numpy()\n",
        "df = pd.DataFrame(data_)\n",
        "df['label'] = np.zeros((7047,1))\n",
        "for index, row in df.iterrows():\n",
        "    for d in list_of_change:\n",
        "      if index == d:\n",
        "        df.iloc[index,-1] = 1\n",
        "\n",
        "len(list_of_change)"
      ],
      "metadata": {
        "id": "s6UpfGj9A11W",
        "colab": {
          "base_uri": "https://localhost:8080/"
        },
        "outputId": "fa98b7f2-5e24-4ae3-ad0c-531da49f5a65"
      },
      "execution_count": 208,
      "outputs": [
        {
          "output_type": "execute_result",
          "data": {
            "text/plain": [
              "571"
            ]
          },
          "metadata": {},
          "execution_count": 208
        }
      ]
    },
    {
      "cell_type": "code",
      "source": [
        "from sklearn.decomposition import KernelPCA,PCA\n",
        "tsne = TSNE(2)\n",
        "data_tsne = tsne.fit_transform(data_)"
      ],
      "metadata": {
        "id": "pb3fEAXsleGN",
        "colab": {
          "base_uri": "https://localhost:8080/"
        },
        "outputId": "97f9c8b1-f893-48e6-c671-11ca71024a89"
      },
      "execution_count": 205,
      "outputs": [
        {
          "output_type": "stream",
          "name": "stderr",
          "text": [
            "/usr/local/lib/python3.7/dist-packages/sklearn/manifold/_t_sne.py:783: FutureWarning: The default initialization in TSNE will change from 'random' to 'pca' in 1.2.\n",
            "  FutureWarning,\n",
            "/usr/local/lib/python3.7/dist-packages/sklearn/manifold/_t_sne.py:793: FutureWarning: The default learning rate in TSNE will change from 200.0 to 'auto' in 1.2.\n",
            "  FutureWarning,\n"
          ]
        }
      ]
    },
    {
      "cell_type": "code",
      "source": [
        "dd = list(np.unique(data.loc[dd,'user_id']))"
      ],
      "metadata": {
        "id": "ONTdxTnq-G-P"
      },
      "execution_count": 210,
      "outputs": []
    },
    {
      "cell_type": "code",
      "source": [
        "np.max(dd)"
      ],
      "metadata": {
        "colab": {
          "base_uri": "https://localhost:8080/"
        },
        "id": "hjv6DeBf-Pym",
        "outputId": "ea90c603-feb8-488a-ba04-ba605f21cfe5"
      },
      "execution_count": 214,
      "outputs": [
        {
          "output_type": "execute_result",
          "data": {
            "text/plain": [
              "5904"
            ]
          },
          "metadata": {},
          "execution_count": 214
        }
      ]
    },
    {
      "cell_type": "code",
      "source": [
        "df[['t1','t2']] = data_tsne\n",
        "dff = df.loc[dd]"
      ],
      "metadata": {
        "id": "l9Hrx1wYzibv"
      },
      "execution_count": 211,
      "outputs": []
    },
    {
      "cell_type": "code",
      "source": [
        "import seaborn as sns\n",
        "sns.scatterplot(data=dff, x=\"t1\", y=\"t2\", hue=\"label\",style=\"label\")"
      ],
      "metadata": {
        "colab": {
          "base_uri": "https://localhost:8080/",
          "height": 316
        },
        "id": "22RqvgToydgW",
        "outputId": "17e4c346-7356-4e1d-a730-ca2be0afc728"
      },
      "execution_count": 212,
      "outputs": [
        {
          "output_type": "execute_result",
          "data": {
            "text/plain": [
              "<matplotlib.axes._subplots.AxesSubplot at 0x7fce85dcb390>"
            ]
          },
          "metadata": {},
          "execution_count": 212
        },
        {
          "output_type": "display_data",
          "data": {
            "text/plain": [
              "<Figure size 432x288 with 1 Axes>"
            ],
            "image/png": "[encoded data removed]"
          },
          "metadata": {
            "needs_background": "light"
          }
        }
      ]
    },
    {
      "cell_type": "code",
      "source": [
        "l"
      ],
      "metadata": {
        "id": "9JDOUyGy0tZE"
      },
      "execution_count": null,
      "outputs": []
    }
  ],
  "metadata": {
    "interpreter": {
      "hash": "bef1584e9c6af06ba1c2e66d205bd6622ae056162fc057ef1acd3cc06b90e6ba"
    },
    "kernelspec": {
      "display_name": "Python 3.8.8 ('base')",
      "language": "python",
      "name": "python3"
    },
    "language_info": {
      "codemirror_mode": {
        "name": "ipython",
        "version": 3
      },
      "file_extension": ".py",
      "mimetype": "text/x-python",
      "name": "python",
      "nbconvert_exporter": "python",
      "pygments_lexer": "ipython3",
      "version": "3.8.8"
    },
    "orig_nbformat": 4,
    "colab": {
      "name": "main.ipynb",
      "provenance": [],
      "collapsed_sections": []
    },
    "accelerator": "GPU"
  },
  "nbformat": 4,
  "nbformat_minor": 0
}