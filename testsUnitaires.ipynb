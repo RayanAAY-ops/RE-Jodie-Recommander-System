{
  "cells": [
    {
      "cell_type": "code",
      "execution_count": 2,
      "metadata": {
        "id": "Xq_u5mj7L8Av"
      },
      "outputs": [],
      "source": [
        "# libraries\n",
        "import pandas as pd\n",
        "import numpy as np\n",
        "import matplotlib.pyplot as plt\n",
        "import time\n",
        "import torch\n",
        "from tqdm import tqdm\n",
        "from preprocessing import extract_data_mooc,PreviousItemInteraction, extractFeatures,extractItemUserId,extractNextStateItem,extractNextUserState,UserNextInteraction, delta, t_batch_update,train_test_split,train_test_stratified_split\n",
        "from model import RODIE,dynamic_embedding\n",
        "from sklearn.manifold import TSNE\n",
        "from train import train_rodie"
      ]
    },
    {
      "cell_type": "code",
      "execution_count": 3,
      "metadata": {
        "colab": {
          "base_uri": "https://localhost:8080/"
        },
        "id": "a2fs_9WWL8Ax",
        "outputId": "46ad514c-3cec-423e-8193-70eb0bd8076b"
      },
      "outputs": [
        {
          "output_type": "stream",
          "name": "stdout",
          "text": [
            "--2022-03-20 15:43:08--  https://snap.stanford.edu/data/act-mooc.tar.gz\n",
            "Resolving snap.stanford.edu (snap.stanford.edu)... 171.64.75.80\n",
            "Connecting to snap.stanford.edu (snap.stanford.edu)|171.64.75.80|:443... connected.\n",
            "HTTP request sent, awaiting response... 200 OK\n",
            "Length: 5378133 (5.1M) [application/x-gzip]\n",
            "Saving to: ‘act-mooc.tar.gz’\n",
            "\n",
            "act-mooc.tar.gz     100%[===================>]   5.13M  1.30MB/s    in 3.9s    \n",
            "\n",
            "2022-03-20 15:43:13 (1.30 MB/s) - ‘act-mooc.tar.gz’ saved [5378133/5378133]\n",
            "\n"
          ]
        }
      ],
      "source": [
        "## Téléchargement des données\n",
        "!wget https://snap.stanford.edu/data/act-mooc.tar.gz\n",
        "!tar -xzf  act-mooc.tar.gz\n",
        "!mkdir data"
      ]
    },
    {
      "cell_type": "code",
      "execution_count": 4,
      "metadata": {
        "id": "4T5CbB9KL8Ax"
      },
      "outputs": [],
      "source": [
        "features = pd.read_csv(\"act-mooc/mooc_action_features.tsv\",sep=\"\\t\")\n",
        "labels = pd.read_csv(\"act-mooc/mooc_action_labels.tsv\",sep=\"\\t\")\n",
        "users = pd.read_csv(\"act-mooc/mooc_actions.tsv\",sep=\"\\t\")"
      ]
    },
    {
      "cell_type": "markdown",
      "metadata": {
        "id": "JLCAaTlZL8Ay"
      },
      "source": [
        "#### Load & Preprocess Data"
      ]
    },
    {
      "cell_type": "code",
      "source": [
        "mooc_data = extract_data_mooc()\n",
        "\n",
        "delta_u  = delta(mooc_data.copy(),\"user_id\")\n",
        "delta_i  = delta(mooc_data.copy(),\"item_id\")\n",
        "PreviousItemInteraction = PreviousItemInteraction(mooc_data.copy())\n",
        "next_state_user = extractNextUserState(mooc_data.copy())"
      ],
      "metadata": {
        "colab": {
          "base_uri": "https://localhost:8080/"
        },
        "id": "eq5YHpG3f84_",
        "outputId": "024d214f-563c-4968-9580-334bacb8fde3"
      },
      "execution_count": 98,
      "outputs": [
        {
          "output_type": "stream",
          "name": "stdout",
          "text": [
            "delta user_id\n",
            "delta item_id\n"
          ]
        }
      ]
    },
    {
      "cell_type": "code",
      "source": [
        "interaction_column_name = \"PreviousItemInteraction\""
      ],
      "metadata": {
        "id": "h3glmV4tuiMK"
      },
      "execution_count": 99,
      "outputs": []
    },
    {
      "cell_type": "code",
      "execution_count": 100,
      "metadata": {
        "colab": {
          "base_uri": "https://localhost:8080/",
          "height": 282
        },
        "id": "nFoGBgxNL8Az",
        "outputId": "825f3533-32c3-4b80-fe43-cd155268e74f"
      },
      "outputs": [
        {
          "output_type": "execute_result",
          "data": {
            "text/plain": [
              "          user_id  item_id  timestamp  state_label   delta_u   delta_i  \\\n",
              "ACTIONID                                                                 \n",
              "0               0        0        0.0            0  0.000000  0.000000   \n",
              "1               0        1        6.0            0  0.000064  0.000000   \n",
              "2               0        2       41.0            0  0.000372  0.000000   \n",
              "3               0        1       49.0            0  0.000085  0.007652   \n",
              "4               0        2       51.0            0  0.000021  0.001780   \n",
              "\n",
              "          PreviousItemInteraction  next_state_user        f1        f2  \\\n",
              "ACTIONID                                                                 \n",
              "0                            -1.0                0 -0.319991 -0.435701   \n",
              "1                             0.0                0 -0.319991 -0.435701   \n",
              "2                             1.0                0 -0.319991 -0.435701   \n",
              "3                             2.0                0 -0.319991 -0.435701   \n",
              "4                             1.0                0 -0.319991 -0.435701   \n",
              "\n",
              "                f3        f4  \n",
              "ACTIONID                      \n",
              "0         0.106784 -0.067309  \n",
              "1         0.106784 -0.067309  \n",
              "2         0.106784 -0.067309  \n",
              "3         0.106784 -0.067309  \n",
              "4         0.106784 -0.067309  "
            ],
            "text/html": [
              "\n",
              "  <div id=\"df-5ba1c826-d278-41a9-8e4e-c729679edc2c\">\n",
              "    <div class=\"colab-df-container\">\n",
              "      <div>\n",
              "<style scoped>\n",
              "    .dataframe tbody tr th:only-of-type {\n",
              "        vertical-align: middle;\n",
              "    }\n",
              "\n",
              "    .dataframe tbody tr th {\n",
              "        vertical-align: top;\n",
              "    }\n",
              "\n",
              "    .dataframe thead th {\n",
              "        text-align: right;\n",
              "    }\n",
              "</style>\n",
              "<table border=\"1\" class=\"dataframe\">\n",
              "  <thead>\n",
              "    <tr style=\"text-align: right;\">\n",
              "      <th></th>\n",
              "      <th>user_id</th>\n",
              "      <th>item_id</th>\n",
              "      <th>timestamp</th>\n",
              "      <th>state_label</th>\n",
              "      <th>delta_u</th>\n",
              "      <th>delta_i</th>\n",
              "      <th>PreviousItemInteraction</th>\n",
              "      <th>next_state_user</th>\n",
              "      <th>f1</th>\n",
              "      <th>f2</th>\n",
              "      <th>f3</th>\n",
              "      <th>f4</th>\n",
              "    </tr>\n",
              "    <tr>\n",
              "      <th>ACTIONID</th>\n",
              "      <th></th>\n",
              "      <th></th>\n",
              "      <th></th>\n",
              "      <th></th>\n",
              "      <th></th>\n",
              "      <th></th>\n",
              "      <th></th>\n",
              "      <th></th>\n",
              "      <th></th>\n",
              "      <th></th>\n",
              "      <th></th>\n",
              "      <th></th>\n",
              "    </tr>\n",
              "  </thead>\n",
              "  <tbody>\n",
              "    <tr>\n",
              "      <th>0</th>\n",
              "      <td>0</td>\n",
              "      <td>0</td>\n",
              "      <td>0.0</td>\n",
              "      <td>0</td>\n",
              "      <td>0.000000</td>\n",
              "      <td>0.000000</td>\n",
              "      <td>-1.0</td>\n",
              "      <td>0</td>\n",
              "      <td>-0.319991</td>\n",
              "      <td>-0.435701</td>\n",
              "      <td>0.106784</td>\n",
              "      <td>-0.067309</td>\n",
              "    </tr>\n",
              "    <tr>\n",
              "      <th>1</th>\n",
              "      <td>0</td>\n",
              "      <td>1</td>\n",
              "      <td>6.0</td>\n",
              "      <td>0</td>\n",
              "      <td>0.000064</td>\n",
              "      <td>0.000000</td>\n",
              "      <td>0.0</td>\n",
              "      <td>0</td>\n",
              "      <td>-0.319991</td>\n",
              "      <td>-0.435701</td>\n",
              "      <td>0.106784</td>\n",
              "      <td>-0.067309</td>\n",
              "    </tr>\n",
              "    <tr>\n",
              "      <th>2</th>\n",
              "      <td>0</td>\n",
              "      <td>2</td>\n",
              "      <td>41.0</td>\n",
              "      <td>0</td>\n",
              "      <td>0.000372</td>\n",
              "      <td>0.000000</td>\n",
              "      <td>1.0</td>\n",
              "      <td>0</td>\n",
              "      <td>-0.319991</td>\n",
              "      <td>-0.435701</td>\n",
              "      <td>0.106784</td>\n",
              "      <td>-0.067309</td>\n",
              "    </tr>\n",
              "    <tr>\n",
              "      <th>3</th>\n",
              "      <td>0</td>\n",
              "      <td>1</td>\n",
              "      <td>49.0</td>\n",
              "      <td>0</td>\n",
              "      <td>0.000085</td>\n",
              "      <td>0.007652</td>\n",
              "      <td>2.0</td>\n",
              "      <td>0</td>\n",
              "      <td>-0.319991</td>\n",
              "      <td>-0.435701</td>\n",
              "      <td>0.106784</td>\n",
              "      <td>-0.067309</td>\n",
              "    </tr>\n",
              "    <tr>\n",
              "      <th>4</th>\n",
              "      <td>0</td>\n",
              "      <td>2</td>\n",
              "      <td>51.0</td>\n",
              "      <td>0</td>\n",
              "      <td>0.000021</td>\n",
              "      <td>0.001780</td>\n",
              "      <td>1.0</td>\n",
              "      <td>0</td>\n",
              "      <td>-0.319991</td>\n",
              "      <td>-0.435701</td>\n",
              "      <td>0.106784</td>\n",
              "      <td>-0.067309</td>\n",
              "    </tr>\n",
              "  </tbody>\n",
              "</table>\n",
              "</div>\n",
              "      <button class=\"colab-df-convert\" onclick=\"convertToInteractive('df-5ba1c826-d278-41a9-8e4e-c729679edc2c')\"\n",
              "              title=\"Convert this dataframe to an interactive table.\"\n",
              "              style=\"display:none;\">\n",
              "        \n",
              "  <svg xmlns=\"http://www.w3.org/2000/svg\" height=\"24px\"viewBox=\"0 0 24 24\"\n",
              "       width=\"24px\">\n",
              "    <path d=\"M0 0h24v24H0V0z\" fill=\"none\"/>\n",
              "    <path d=\"M18.56 5.44l.94 2.06.94-2.06 2.06-.94-2.06-.94-.94-2.06-.94 2.06-2.06.94zm-11 1L8.5 8.5l.94-2.06 2.06-.94-2.06-.94L8.5 2.5l-.94 2.06-2.06.94zm10 10l.94 2.06.94-2.06 2.06-.94-2.06-.94-.94-2.06-.94 2.06-2.06.94z\"/><path d=\"M17.41 7.96l-1.37-1.37c-.4-.4-.92-.59-1.43-.59-.52 0-1.04.2-1.43.59L10.3 9.45l-7.72 7.72c-.78.78-.78 2.05 0 2.83L4 21.41c.39.39.9.59 1.41.59.51 0 1.02-.2 1.41-.59l7.78-7.78 2.81-2.81c.8-.78.8-2.07 0-2.86zM5.41 20L4 18.59l7.72-7.72 1.47 1.35L5.41 20z\"/>\n",
              "  </svg>\n",
              "      </button>\n",
              "      \n",
              "  <style>\n",
              "    .colab-df-container {\n",
              "      display:flex;\n",
              "      flex-wrap:wrap;\n",
              "      gap: 12px;\n",
              "    }\n",
              "\n",
              "    .colab-df-convert {\n",
              "      background-color: #E8F0FE;\n",
              "      border: none;\n",
              "      border-radius: 50%;\n",
              "      cursor: pointer;\n",
              "      display: none;\n",
              "      fill: #1967D2;\n",
              "      height: 32px;\n",
              "      padding: 0 0 0 0;\n",
              "      width: 32px;\n",
              "    }\n",
              "\n",
              "    .colab-df-convert:hover {\n",
              "      background-color: #E2EBFA;\n",
              "      box-shadow: 0px 1px 2px rgba(60, 64, 67, 0.3), 0px 1px 3px 1px rgba(60, 64, 67, 0.15);\n",
              "      fill: #174EA6;\n",
              "    }\n",
              "\n",
              "    [theme=dark] .colab-df-convert {\n",
              "      background-color: #3B4455;\n",
              "      fill: #D2E3FC;\n",
              "    }\n",
              "\n",
              "    [theme=dark] .colab-df-convert:hover {\n",
              "      background-color: #434B5C;\n",
              "      box-shadow: 0px 1px 3px 1px rgba(0, 0, 0, 0.15);\n",
              "      filter: drop-shadow(0px 1px 2px rgba(0, 0, 0, 0.3));\n",
              "      fill: #FFFFFF;\n",
              "    }\n",
              "  </style>\n",
              "\n",
              "      <script>\n",
              "        const buttonEl =\n",
              "          document.querySelector('#df-5ba1c826-d278-41a9-8e4e-c729679edc2c button.colab-df-convert');\n",
              "        buttonEl.style.display =\n",
              "          google.colab.kernel.accessAllowed ? 'block' : 'none';\n",
              "\n",
              "        async function convertToInteractive(key) {\n",
              "          const element = document.querySelector('#df-5ba1c826-d278-41a9-8e4e-c729679edc2c');\n",
              "          const dataTable =\n",
              "            await google.colab.kernel.invokeFunction('convertToInteractive',\n",
              "                                                     [key], {});\n",
              "          if (!dataTable) return;\n",
              "\n",
              "          const docLinkHtml = 'Like what you see? Visit the ' +\n",
              "            '<a target=\"_blank\" href=https://colab.research.google.com/notebooks/data_table.ipynb>data table notebook</a>'\n",
              "            + ' to learn more about interactive tables.';\n",
              "          element.innerHTML = '';\n",
              "          dataTable['output_type'] = 'display_data';\n",
              "          await google.colab.output.renderOutput(dataTable, element);\n",
              "          const docLink = document.createElement('div');\n",
              "          docLink.innerHTML = docLinkHtml;\n",
              "          element.appendChild(docLink);\n",
              "        }\n",
              "      </script>\n",
              "    </div>\n",
              "  </div>\n",
              "  "
            ]
          },
          "metadata": {},
          "execution_count": 100
        }
      ],
      "source": [
        "mooc_data['delta_u'] = delta_u/np.std(delta_u)\n",
        "mooc_data['delta_i'] = delta_i/np.std(delta_i)\n",
        "mooc_data[interaction_column_name] = PreviousItemInteraction\n",
        "mooc_data['next_state_user'] = next_state_user\n",
        "\n",
        "data = mooc_data.copy()\n",
        "data = data[data.next_state_user != -1]\n",
        "\n",
        "data = data[['user_id', 'item_id', 'timestamp', 'state_label','delta_u', 'delta_i', interaction_column_name, 'next_state_user','f1', 'f2', 'f3','f4']]\n",
        "data.head()"
      ]
    },
    {
      "cell_type": "markdown",
      "metadata": {
        "id": "IiCCdNMNL8A0"
      },
      "source": [
        "### T-batches\n",
        "\n",
        "#### Train / Test SPLIT"
      ]
    },
    {
      "cell_type": "code",
      "source": [
        "df_train1,df_test1 = train_test_stratified_split(data,interaction_column_name)\n",
        "df_train2,df_test2 = train_test_stratified_split(df_test1,interaction_column_name)\n",
        "df_train3,df_test = train_test_stratified_split(df_test2,interaction_column_name)"
      ],
      "metadata": {
        "colab": {
          "base_uri": "https://localhost:8080/"
        },
        "id": "wie0TKqkWHVE",
        "outputId": "63ad556d-cc6c-4ab8-f521-c1ded6d721aa"
      },
      "execution_count": 102,
      "outputs": [
        {
          "output_type": "stream",
          "name": "stdout",
          "text": [
            "StratifiedKFold(n_splits=2, random_state=None, shuffle=False)\n",
            "StratifiedKFold(n_splits=2, random_state=None, shuffle=False)\n",
            "StratifiedKFold(n_splits=2, random_state=None, shuffle=False)\n"
          ]
        }
      ]
    },
    {
      "cell_type": "code",
      "source": [
        "df_train = pd.concat([df_train1],axis=0)\n",
        "df_train.shape,df_test.shape"
      ],
      "metadata": {
        "colab": {
          "base_uri": "https://localhost:8080/"
        },
        "id": "Ky7PRw8iWP7R",
        "outputId": "60460326-2184-436c-8ba8-44c46c18ac6d"
      },
      "execution_count": 103,
      "outputs": [
        {
          "output_type": "execute_result",
          "data": {
            "text/plain": [
              "((202351, 12), (50587, 12))"
            ]
          },
          "metadata": {},
          "execution_count": 103
        }
      ]
    },
    {
      "cell_type": "code",
      "source": [
        "plt.plot(df_train['timestamp'])\n",
        "plt.plot(np.arange(202351,202351+50587,1),df_test['timestamp'])"
      ],
      "metadata": {
        "colab": {
          "base_uri": "https://localhost:8080/",
          "height": 294
        },
        "id": "LBSTh8dKa6XI",
        "outputId": "cd331550-a647-4590-8632-db1c5871877d"
      },
      "execution_count": 104,
      "outputs": [
        {
          "output_type": "execute_result",
          "data": {
            "text/plain": [
              "[<matplotlib.lines.Line2D at 0x7fe533ac8e90>]"
            ]
          },
          "metadata": {},
          "execution_count": 104
        },
        {
          "output_type": "display_data",
          "data": {
            "text/plain": [
              "<Figure size 432x288 with 1 Axes>"
            ],
            "image/png": "[encoded data removed]"
          },
          "metadata": {
            "needs_background": "light"
          }
        }
      ]
    },
    {
      "cell_type": "code",
      "source": [
        "print(\"Proportion of dropout user in :\\n Train data = {:.1f}%\\n Test Data= {:.1f}%\".format(100*np.sum(df_train['next_state_user'])/df_train.shape[0],100*np.sum(df_test['next_state_user'])/df_test.shape[0]))"
      ],
      "metadata": {
        "colab": {
          "base_uri": "https://localhost:8080/"
        },
        "id": "tK28dwsxXA8J",
        "outputId": "49269b3b-7f03-4226-9aa3-82f3bdf8d542"
      },
      "execution_count": 105,
      "outputs": [
        {
          "output_type": "stream",
          "name": "stdout",
          "text": [
            "Proportion of dropout user in :\n",
            " Train data = 1.0%\n",
            " Test Data= 1.0%\n"
          ]
        }
      ]
    },
    {
      "cell_type": "code",
      "source": [
        "t_batches_train = t_batch_update(df_train)\n",
        "t_batches_test = t_batch_update(df_test)"
      ],
      "metadata": {
        "colab": {
          "base_uri": "https://localhost:8080/"
        },
        "id": "D4-z_QuOQfk4",
        "outputId": "3cb9188b-dfbb-4186-d8fc-e9ee1b1b1258"
      },
      "execution_count": 106,
      "outputs": [
        {
          "output_type": "stream",
          "name": "stdout",
          "text": [
            "T-Batch start...\n",
            "Number of interaction = 202351\n",
            "T-Batch ends !\n",
            "T-Batch start...\n",
            "Number of interaction = 50587\n",
            "T-Batch ends !\n"
          ]
        }
      ]
    },
    {
      "cell_type": "markdown",
      "metadata": {
        "id": "PZldOSzFL8A1"
      },
      "source": [
        "##### Initialize Device"
      ]
    },
    {
      "cell_type": "code",
      "execution_count": 107,
      "metadata": {
        "colab": {
          "base_uri": "https://localhost:8080/"
        },
        "id": "7xuMzz5NL8A1",
        "outputId": "19c849fe-079e-43dd-a753-e42fb72f4595"
      },
      "outputs": [
        {
          "output_type": "stream",
          "name": "stdout",
          "text": [
            "Using device: cuda\n"
          ]
        }
      ],
      "source": [
        "# setting device on GPU if available, else CPU\n",
        "device = torch.device('cuda' if torch.cuda.is_available() else 'cpu')\n",
        "#device = \"cpu\"\n",
        "print('Using device:', device)"
      ]
    },
    {
      "cell_type": "markdown",
      "metadata": {
        "id": "SyoLG1SXL8A2"
      },
      "source": [
        "##### Initialize the model"
      ]
    },
    {
      "cell_type": "code",
      "source": [
        "# Its important to add this to the loss, because the dataset is unbalanced\n",
        "dropout_ratio = len(df_train['next_state_user'])/(1+np.sum(df_train['next_state_user']))\n",
        "weight_ratio = torch.Tensor([1,dropout_ratio]).to(device)\n",
        "print(weight_ratio)"
      ],
      "metadata": {
        "colab": {
          "base_uri": "https://localhost:8080/"
        },
        "id": "GUpwh4O8MZo_",
        "outputId": "9fdda3ba-a40e-4bce-c497-7115aff320ef"
      },
      "execution_count": 108,
      "outputs": [
        {
          "output_type": "stream",
          "name": "stdout",
          "text": [
            "tensor([ 1.0000, 99.4843], device='cuda:0')\n"
          ]
        }
      ]
    },
    {
      "cell_type": "markdown",
      "metadata": {
        "id": "X09xB2eqL8A3"
      },
      "source": [
        "##### Train Loop"
      ]
    },
    {
      "cell_type": "code",
      "source": [
        "import torch\n",
        "from  torch import nn\n",
        "from torch.nn import RNNCell\n",
        "from torch.nn.functional import one_hot\n",
        "import math\n",
        "from torch.nn import functional as F\n",
        "\n",
        "def dynamic_embedding(data,embedding_dim):\n",
        "        num_users = len(torch.unique(data[:,0]))\n",
        "        num_items = len(torch.unique(data[:,1]))\n",
        "        dynamic_users_embedding = F.normalize(torch.randn(num_users,embedding_dim),dim=0)#nn.init.kaiming_uniform_(w, mode='fan_in', nonlinearity='relu')#F.normalize(torch.randn(num_users,embedding_dim))\n",
        "        dynamic_items_embedding = F.normalize(torch.randn(num_items,embedding_dim),dim=0)\n",
        "\n",
        "        print(\"Initialisation of dynamic embedding... Done !\")\n",
        "        print(\"Dynamic Embedding shape : Users {}, \\t Items {}\".format(list(dynamic_users_embedding.size()),list(dynamic_items_embedding.size())))\n",
        "\n",
        "        return dynamic_users_embedding,dynamic_items_embedding\n",
        "\n",
        "## This custom class of Linear, enables to initialize the weights of the layer to belong to a normal distribution ##\n",
        "\n",
        "class NormalLinear(nn.Linear):\n",
        "    def reset_parameters(self):\n",
        "        stdv = 1. / math.sqrt(self.weight.size(1))\n",
        "        self.weight.data.normal_(0, stdv)\n",
        "        if self.bias is not None:\n",
        "            self.bias.data.normal_(0, stdv)\n",
        "\n",
        "## This function enables to create the dynamic embedding of each node ##\n",
        "      \n",
        "\n",
        "class RODIE(torch.nn.Module):\n",
        "\n",
        "    def __init__(self,embedding_dim,data,device,activation_rnn=\"tanh\",MLP_h_dim=50,option=\"user_state\"):\n",
        "        super(RODIE, self).__init__()\n",
        "        self.option = option\n",
        "        self.embedding_dim = embedding_dim\n",
        "        self.activation_rnn = activation_rnn\n",
        "        self.data = data\n",
        "        self.MLP_h_dim = MLP_h_dim  # The dimension of the hidden layer of the MLP used for the classification of Users \n",
        "        # Select features of the data\n",
        "        self.features = self.data[:,8:]\n",
        "        self.dim_features = self.features.shape[1]\n",
        "        # Number of users and number of items\n",
        "        num_users = len(torch.unique(data[:,0]))\n",
        "\n",
        "        num_items = len(torch.unique(data[:,1]))\n",
        "\n",
        "\n",
        "        print(\"Number of users of {} \\n Number of items {} \\n\".format(num_users,num_items))\n",
        "        print(\"Dataset size {}\".format(list(self.data.size())))\n",
        "        # Initialize static  embeddings\n",
        "        self.static_users_embedding = one_hot(torch.arange(0,num_users))\n",
        "        self.static_items_embedding = one_hot(torch.arange(0,num_items+1))\n",
        "        static_user_embedding_dim = self.static_users_embedding.shape[1]\n",
        "        static_item_embedding_dim = self.static_items_embedding.shape[1]\n",
        "        print(\"Initialisation of static embedding... Done !\")\n",
        "        print(\"Static Embedding shape : Users {}, \\t Items {}\".format(list(self.static_users_embedding.size()),list(self.static_items_embedding.size())))\n",
        "\n",
        "        # Initialize dynamic  embeddings\n",
        "        # In JODIE official implementation, authors decided to attribute the SAME initial dynamic embedding \n",
        "        \n",
        "\n",
        "\n",
        "\n",
        "        input_rnn_user_dim =  self.embedding_dim + self.dim_features + 1\n",
        "\n",
        "        input_rnn_item_dim =  self.embedding_dim + self.dim_features + 1\n",
        "\n",
        "        self.item_rnn = RNNCell(input_rnn_user_dim, self.embedding_dim, nonlinearity = self.activation_rnn)\n",
        "\n",
        "\n",
        "        self.user_rnn = RNNCell(input_rnn_item_dim,self.embedding_dim, nonlinearity = self.activation_rnn)\n",
        "\n",
        "        print(\"Initialisation of rnn's with {} activation function... Done !\".format(self.activation_rnn))\n",
        "\n",
        "        # Projection layer -> projection operation   \n",
        "        self.projection_layer = NormalLinear(1,self.embedding_dim, bias=False)\n",
        "        # Predict next item embedding layer\n",
        "        self.predictItem_layer = torch.nn.Sequential(\n",
        "            nn.Linear(static_item_embedding_dim + static_user_embedding_dim  + 2*self.embedding_dim, static_item_embedding_dim + self.embedding_dim),\n",
        "          #  torch.nn.Tanh()\n",
        "        )\n",
        "\n",
        "        self.predictStateUser_MLP = torch.nn.Sequential(\n",
        "            nn.Linear(self.embedding_dim,self.MLP_h_dim),\n",
        "            torch.nn.ReLU(),\n",
        "            nn.Linear(self.MLP_h_dim,2),\n",
        "            torch.nn.Softmax(dim=1)\n",
        "            )\n",
        "        print(\"Initialisation of MLP... Done !\")\n",
        "\n",
        "\n",
        "    ######## Predicting next item embedding  ########\n",
        "    def update_item_rnn(self,\n",
        "                          dynamic_item_embedding, # at t-1\n",
        "                          dynamic_user_embedding,# at t-1\n",
        "                          features,\n",
        "                          delta_i,\n",
        "):\n",
        "\n",
        "      concat_input = torch.concat([\n",
        "                                  dynamic_user_embedding,\n",
        "                                  delta_i.reshape(-1,1),\n",
        "                                  features,\n",
        "      ],axis=1)\n",
        "      return F.normalize(self.item_rnn(concat_input,dynamic_item_embedding))\n",
        "\n",
        "\n",
        "\n",
        "    ######## Predicting next user embedding  ########\n",
        "    def update_user_rnn(self,\n",
        "                        dynamic_user_embedding, # at t-1\n",
        "                        dynamic_item_embedding,# at t-1\n",
        "                        features,\n",
        "                        delta_u):\n",
        "      concat_input = torch.concat([\n",
        "                                  dynamic_item_embedding,\n",
        "                                  delta_u.reshape(-1,1),\n",
        "                                   features],\n",
        "                                  axis=1)\n",
        "      return F.normalize(self.user_rnn(concat_input,dynamic_user_embedding))\n",
        "\n",
        "    \n",
        "\n",
        "    ######## Projecting the embedding the new dynamic embedding of the user at a future time  ########\n",
        "    def projection_operation(self,\n",
        "                            dynamic_user_embedding,\n",
        "                            delta_u):\n",
        "        u_projection =  dynamic_user_embedding * (1 + self.projection_layer(delta_u.reshape(-1,1)))\n",
        "\n",
        "        return u_projection\n",
        "        \n",
        "    ######## Predicting next potential item, the specific user will interact with  ########\n",
        "    \n",
        "    def predict_item_embedding(self,\n",
        "        u_projection,\n",
        "        u_static,\n",
        "        i_dynamic,\n",
        "        i_static\n",
        "        ):\n",
        "        concatenated_input = torch.concat([u_projection,i_dynamic,i_static,u_static],axis=1)\n",
        "        j_tilde = self.predictItem_layer(concatenated_input)\n",
        "        return j_tilde\n",
        "\n",
        "    ######## Predicting next user state  ########\n",
        "\n",
        "    def predict_user_state(self,dynamic_user_embedding):\n",
        "        u_state = self.predictStateUser_MLP(dynamic_user_embedding)\n",
        "\n",
        "        return u_state\n",
        "\n",
        "    def forward(self,\n",
        "                actual_item_embedding,\n",
        "                actual_user_embedding,\n",
        "                u_static,\n",
        "                i_static,\n",
        "                f,\n",
        "                delta_u,\n",
        "                delta_i,\n",
        "                next_state_label,\n",
        "                past_item_dynamic_embedding,\n",
        "                past_item_static_embedding              \n",
        "                ):\n",
        "      ######## New  Dynamic Embeddings ########\n",
        "      # New dynamic embedding of the user\n",
        "      future_user_embedding= self.update_user_rnn(actual_user_embedding,actual_item_embedding,f,delta_u)\n",
        "      # New dynamic embedding of the item\n",
        "      future_item_embedding= self.update_item_rnn(actual_item_embedding,actual_user_embedding,f,delta_i)     \n",
        "\n",
        "\n",
        "      # Projection of the user\n",
        "      \n",
        "      projected_user_embedding = self.projection_operation(future_user_embedding,delta_u)\n",
        "\n",
        "      # Predict next item\n",
        "      j_tilde = self.predict_item_embedding(\n",
        "        projected_user_embedding,\n",
        "        past_item_dynamic_embedding,\n",
        "        u_static,\n",
        "        past_item_static_embedding)\n",
        "      \n",
        "      # The real next item embedding j_true, is the concatenation of the static and dynamic embedding of the next item \n",
        "      j_true = torch.concat([actual_item_embedding,i_static],axis=1).detach()\n",
        "        # Prediction of next state of the user using an MLP at the end\n",
        "      \n",
        "      U_pred_state = self.predict_user_state(actual_user_embedding)\n",
        "\n",
        "      return future_user_embedding, future_item_embedding, U_pred_state, j_tilde, j_true\n"
      ],
      "metadata": {
        "id": "um68Ognoizmd"
      },
      "execution_count": 109,
      "outputs": []
    },
    {
      "cell_type": "code",
      "source": [
        "\n",
        "from torch.nn import MSELoss, HuberLoss,L1Loss,CrossEntropyLoss\n",
        "from preprocessing import *\n",
        "import torch\n",
        "from  torch import nn\n",
        "from torch.nn import RNNCell\n",
        "from torch.nn.functional import one_hot\n",
        "import math\n",
        "from tqdm import tqdm\n",
        "from torch.nn import MSELoss, HuberLoss,L1Loss,CrossEntropyLoss\n",
        "from torch.nn import functional as F\n",
        "\n",
        "def regularizer(actual_user_embedding,future_user_embedding,lambda_u,\n",
        "                               actual_item_embedding,future_item_embedding,lambda_i\n",
        "                               ):\n",
        "    u_regularization_loss =  MSELoss()(actual_user_embedding,future_user_embedding)\n",
        "    i_regularization_loss =  MSELoss()(actual_item_embedding,future_item_embedding)\n",
        "    return lambda_u* u_regularization_loss + lambda_i* i_regularization_loss \n",
        "\n",
        "\n",
        "def train_rodie(t_batches,\n",
        "          data,\n",
        "          U,\n",
        "          I,\n",
        "          weight_ratio,\n",
        "          model,\n",
        "          optimizer,\n",
        "          learning_rate,\n",
        "          n_epochs,\n",
        "          lambda_u,\n",
        "          lambda_i,\n",
        "          device,\n",
        "\n",
        "          ):\n",
        "  print(\"Training...\")\n",
        " # U_copy = U.clone().detach()\n",
        " # I_copy = I.clone().detach()\n",
        "  #scheduler = torch.optim.lr_scheduler.ReduceLROnPlateau(optimizer, 'min')\n",
        "  for e in range(n_epochs):\n",
        "    l = 0\n",
        "    \n",
        "    for (_,rows),_ in zip(t_batches.items(),tqdm(range(len(t_batches)), position=0, leave=True)):\n",
        "      optimizer.zero_grad()\n",
        "      users_idx,items_idx = extractItemUserId(data,rows)\n",
        "\n",
        "      state_label,delta_u,delta_i,f = extractFeatures(data,rows)\n",
        "\n",
        "      next_state,next_item = extractNextStateItem(data,rows)\n",
        "\n",
        "      u_static, i_static = model.static_users_embedding[users_idx], model.static_items_embedding[items_idx]\n",
        "\n",
        "      user_embedding, item_embedding = U[users_idx], I[items_idx]\n",
        "      next_item_static_embedding, next_item_dynamic_embedding = model.static_items_embedding[[int(x) for x in next_item]], I[[int(x) for x in next_item]]\n",
        "\n",
        "     # next_state = next_state.type(torch.LongTensor).to(device)\n",
        "      item_embedding = item_embedding.to(device)\n",
        "      user_embedding  = user_embedding.to(device)\n",
        "      u_static = u_static.to(device)\n",
        "      i_static = i_static.to(device)\n",
        "      f = f.to(device)\n",
        "      delta_u = delta_u.to(device)\n",
        "      delta_i = delta_i.to(device)\n",
        "      next_state = next_state.type(torch.LongTensor).to(device)\n",
        "      next_item_dynamic_embedding = next_item_dynamic_embedding.to(device)\n",
        "      next_item_static_embedding = next_item_static_embedding.to(device)\n",
        "      \n",
        "      # The forward pass of the model : extract dynamic embeddings (user+item ), and predicted user state and predicted item embedding\n",
        "      future_user_embedding,future_item_embedding,U_pred_state,j_tilde,j_true = model(item_embedding,\n",
        "                user_embedding,\n",
        "                u_static,\n",
        "                i_static,\n",
        "                f,\n",
        "                delta_u,\n",
        "                delta_i,\n",
        "                next_state,\n",
        "                next_item_dynamic_embedding,\n",
        "                next_item_static_embedding)\n",
        "      # Add the new embedding to the placeholder U and I\n",
        "      U[users_idx] = future_user_embedding.detach().clone()\n",
        "      I[items_idx] = future_item_embedding.detach().clone() \n",
        "      \n",
        "      # Return loss value between the predicted embedding \"j_tilde\" and the real next item embedding j_true\n",
        "      \n",
        "      loss = MSELoss()(j_tilde,j_true)#.detach()\n",
        "      loss += regularizer(user_embedding,future_user_embedding,lambda_u,\n",
        "                            item_embedding,future_item_embedding,lambda_i\n",
        "                            )\n",
        "      \n",
        "      loss += CrossEntropyLoss(weight_ratio)(U_pred_state,next_state)\n",
        "\n",
        "      #print(I[0])\n",
        "      loss.backward()\n",
        "      l += loss.item()\n",
        "      torch.nn.utils.clip_grad_norm_(model.parameters(),max_norm=100.)\n",
        "      optimizer.step()\n",
        "    print(loss.grad)#print(I[0])\n",
        "\n",
        "    #scheduler.step(loss)\n",
        "    print(\"Epoch {} Loss {}\".format(e,l))\n",
        "\n",
        "  return model,U,I\n"
      ],
      "metadata": {
        "id": "zt6E9Mmzitaj"
      },
      "execution_count": 110,
      "outputs": []
    },
    {
      "cell_type": "code",
      "source": [
        "# Test le modèle sur peu de données\n",
        "import itertools\n",
        "t_batches_ = dict(itertools.islice(t_batches_train.items(), 5000))"
      ],
      "metadata": {
        "id": "iGpg_gLLMwoo"
      },
      "execution_count": 111,
      "outputs": []
    },
    {
      "cell_type": "code",
      "source": [
        "embedding_dim = 32\n",
        "data_torch = torch.from_numpy(df_train.values.astype(np.float32))\n",
        "data_torch2 = torch.from_numpy(data.values.astype(np.float32))\n",
        "U_dynamic,I_dynamic = dynamic_embedding(data_torch2,embedding_dim)  # Initial dynamic embedding\n",
        "    \n",
        "U_dynamic = U_dynamic.to(device)\n",
        "I_dynamic = I_dynamic.to(device)\n",
        "\n",
        "model = RODIE(embedding_dim,data_torch2,device=device,activation_rnn=\"tanh\").to(device)"
      ],
      "metadata": {
        "colab": {
          "base_uri": "https://localhost:8080/"
        },
        "id": "AJPXwwqWQrMs",
        "outputId": "ab6731a2-cc87-4ae8-e0e5-70bb52ecc536"
      },
      "execution_count": 112,
      "outputs": [
        {
          "output_type": "stream",
          "name": "stdout",
          "text": [
            "Initialisation of dynamic embedding... Done !\n",
            "Dynamic Embedding shape : Users [7047, 32], \t Items [97, 32]\n",
            "Number of users of 7047 \n",
            " Number of items 97 \n",
            "\n",
            "Dataset size [404702, 12]\n",
            "Initialisation of static embedding... Done !\n",
            "Static Embedding shape : Users [7047, 7047], \t Items [98, 98]\n",
            "Initialisation of rnn's with tanh activation function... Done !\n",
            "Initialisation of MLP... Done !\n"
          ]
        }
      ]
    },
    {
      "cell_type": "code",
      "source": [
        "\n",
        "from torch.nn import MSELoss, HuberLoss,L1Loss,CrossEntropyLoss\n",
        "from preprocessing import *\n",
        "import torch\n",
        "from  torch import nn\n",
        "from torch.nn import RNNCell\n",
        "from torch.nn.functional import one_hot\n",
        "import math\n",
        "from tqdm import tqdm\n",
        "from torch.nn import MSELoss, HuberLoss,L1Loss,CrossEntropyLoss\n",
        "from torch.nn import functional as F\n",
        "\n",
        "def regularizer(actual_user_embedding,future_user_embedding,lambda_u,\n",
        "                               actual_item_embedding,future_item_embedding,lambda_i\n",
        "                               ):\n",
        "    u_regularization_loss =  MSELoss()(actual_user_embedding,future_user_embedding)\n",
        "    i_regularization_loss =  MSELoss()(actual_item_embedding,future_item_embedding)\n",
        "    return lambda_u* u_regularization_loss + lambda_i* i_regularization_loss \n",
        "\n",
        "\n",
        "def train_rodie(t_batches,\n",
        "          data,\n",
        "          U,\n",
        "          I,\n",
        "          weight_ratio,\n",
        "          model,\n",
        "          optimizer,\n",
        "          learning_rate,\n",
        "          n_epochs,\n",
        "          lambda_u,\n",
        "          lambda_i,\n",
        "          device,\n",
        "\n",
        "          ):\n",
        "  print(\"Training...\")\n",
        " # U_copy = U.clone().detach()\n",
        " # I_copy = I.clone().detach()\n",
        "  #scheduler = torch.optim.lr_scheduler.ReduceLROnPlateau(optimizer, 'min')\n",
        "  for e in range(n_epochs):\n",
        "    l = 0\n",
        "    \n",
        "    for (_,rows),_ in zip(t_batches.items(),tqdm(range(len(t_batches)), position=0, leave=True)):\n",
        "      optimizer.zero_grad()\n",
        "      users_idx,items_idx = extractItemUserId(data,rows)\n",
        "\n",
        "      state_label,delta_u,delta_i,f = extractFeatures(data,rows)\n",
        "\n",
        "      next_state,next_item = extractNextStateItem(data,rows)\n",
        "\n",
        "      u_static, i_static = model.static_users_embedding[users_idx], model.static_items_embedding[items_idx]\n",
        "\n",
        "      user_embedding, item_embedding = U[users_idx], I[items_idx]\n",
        "      next_item_static_embedding, next_item_dynamic_embedding = model.static_items_embedding[[int(x) for x in next_item]], I[[int(x) for x in next_item]]\n",
        "\n",
        "     # next_state = next_state.type(torch.LongTensor).to(device)\n",
        "      item_embedding = item_embedding.to(device)\n",
        "      user_embedding  = user_embedding.to(device)\n",
        "      u_static = u_static.to(device)\n",
        "      i_static = i_static.to(device)\n",
        "      f = f.to(device)\n",
        "      delta_u = delta_u.to(device)\n",
        "      delta_i = delta_i.to(device)\n",
        "      next_state = next_state.type(torch.LongTensor).to(device)\n",
        "      next_item_dynamic_embedding = next_item_dynamic_embedding.to(device)\n",
        "      next_item_static_embedding = next_item_static_embedding.to(device)\n",
        "      \n",
        "      # The forward pass of the model : extract dynamic embeddings (user+item ), and predicted user state and predicted item embedding\n",
        "      future_user_embedding,future_item_embedding,U_pred_state,j_tilde,j_true = model(item_embedding,\n",
        "                user_embedding,\n",
        "                u_static,\n",
        "                i_static,\n",
        "                f,\n",
        "                delta_u,\n",
        "                delta_i,\n",
        "                next_state,\n",
        "                next_item_dynamic_embedding,\n",
        "                next_item_static_embedding)\n",
        "      # Add the new embedding to the placeholder U and I\n",
        "      U[users_idx] = future_user_embedding.detach().clone()\n",
        "      I[items_idx] = future_item_embedding.detach().clone() \n",
        "      print(rows)\n",
        "      break;\n",
        "\n",
        "    break;\n",
        "    print(rows)\n",
        "\n",
        "  return users_idx,items_idx,u_static, i_static,f,delta_u,delta_i,next_state,next_item,next_item_dynamic_embedding,next_item_static_embedding,f\n"
      ],
      "metadata": {
        "id": "l1k6I3wgdIzA"
      },
      "execution_count": 50,
      "outputs": []
    },
    {
      "cell_type": "code",
      "source": [
        "n_epochs = 10\n",
        "lambda_u = 1\n",
        "lambda_i = 1\n",
        "learning_rate=1e-3\n",
        "optimizer = torch.optim.Adam(model.parameters(),lr=learning_rate,weight_decay=1e-5)\n",
        "\n",
        "users_idx,items_idx,u_static, i_static,f,delta_u,delta_i,next_state,next_item,next_item_dynamic_embedding,next_item_static_embedding,f = train_rodie(t_batches_,\n",
        "          data_torch,\n",
        "          U_dynamic,\n",
        "          I_dynamic,\n",
        "          weight_ratio,\n",
        "          model,\n",
        "          optimizer,\n",
        "          learning_rate,\n",
        "          n_epochs,\n",
        "          lambda_u,\n",
        "          lambda_i,\n",
        "          device\n",
        "          )"
      ],
      "metadata": {
        "colab": {
          "base_uri": "https://localhost:8080/"
        },
        "id": "4729FzXOdjRe",
        "outputId": "1ccfdf14-3d5d-45b1-a3fe-e2cee8f7a68c"
      },
      "execution_count": 51,
      "outputs": [
        {
          "output_type": "stream",
          "name": "stdout",
          "text": [
            "Training...\n"
          ]
        },
        {
          "output_type": "stream",
          "name": "stderr",
          "text": [
            "  0%|          | 0/5000 [00:00<?, ?it/s]"
          ]
        },
        {
          "output_type": "stream",
          "name": "stdout",
          "text": [
            "[0, 193426]\n"
          ]
        },
        {
          "output_type": "stream",
          "name": "stderr",
          "text": [
            "\n"
          ]
        }
      ]
    },
    {
      "cell_type": "code",
      "source": [
        "f"
      ],
      "metadata": {
        "colab": {
          "base_uri": "https://localhost:8080/"
        },
        "id": "LJYipsRCCYhL",
        "outputId": "890cd3c8-a208-48bb-9d47-ead5baa5da26"
      },
      "execution_count": 71,
      "outputs": [
        {
          "output_type": "execute_result",
          "data": {
            "text/plain": [
              "tensor([[-0.3200, -0.4357,  0.1068, -0.0673],\n",
              "        [-0.3200, -0.4357,  0.1068, -0.0673]], device='cuda:0')"
            ]
          },
          "metadata": {},
          "execution_count": 71
        }
      ]
    },
    {
      "cell_type": "code",
      "source": [
        "len(list(next_item_static_embedding[0].cpu().detach().numpy()))"
      ],
      "metadata": {
        "colab": {
          "base_uri": "https://localhost:8080/"
        },
        "id": "PTnGY9jnBGCT",
        "outputId": "cd5ae8e2-3269-4c2c-fe8b-333fd2ed6969"
      },
      "execution_count": 67,
      "outputs": [
        {
          "output_type": "execute_result",
          "data": {
            "text/plain": [
              "98"
            ]
          },
          "metadata": {},
          "execution_count": 67
        }
      ]
    },
    {
      "cell_type": "code",
      "source": [
        "delta_u"
      ],
      "metadata": {
        "colab": {
          "base_uri": "https://localhost:8080/"
        },
        "id": "nuonujzNCmzX",
        "outputId": "bbe53c60-74a5-4dde-ce23-091f7385fdd5"
      },
      "execution_count": 69,
      "outputs": [
        {
          "output_type": "execute_result",
          "data": {
            "text/plain": [
              "tensor([0., 0.], device='cuda:0')"
            ]
          },
          "metadata": {},
          "execution_count": 69
        }
      ]
    },
    {
      "cell_type": "code",
      "source": [
        "df_train.loc[[0,193426],:]"
      ],
      "metadata": {
        "colab": {
          "base_uri": "https://localhost:8080/",
          "height": 112
        },
        "id": "1h2asIDUdw2x",
        "outputId": "a0be2342-f9d0-42cf-94c9-cdf979763e7f"
      },
      "execution_count": 42,
      "outputs": [
        {
          "output_type": "execute_result",
          "data": {
            "text/plain": [
              "        user_id  item_id  timestamp  state_label  delta_u  delta_i  \\\n",
              "0           0.0      0.0        0.0          0.0      0.0      0.0   \n",
              "193426   5904.0     56.0  1393745.0          0.0      0.0      0.0   \n",
              "\n",
              "        PreviousItemInteraction  next_state_user        f1        f2  \\\n",
              "0                          -1.0              0.0 -0.319991 -0.435701   \n",
              "193426                     -1.0              0.0 -0.319991 -0.435701   \n",
              "\n",
              "              f3        f4  \n",
              "0       0.106784 -0.067309  \n",
              "193426  0.106784 -0.067309  "
            ],
            "text/html": [
              "\n",
              "  <div id=\"df-a295664c-56e1-4aae-8d17-649767efffcc\">\n",
              "    <div class=\"colab-df-container\">\n",
              "      <div>\n",
              "<style scoped>\n",
              "    .dataframe tbody tr th:only-of-type {\n",
              "        vertical-align: middle;\n",
              "    }\n",
              "\n",
              "    .dataframe tbody tr th {\n",
              "        vertical-align: top;\n",
              "    }\n",
              "\n",
              "    .dataframe thead th {\n",
              "        text-align: right;\n",
              "    }\n",
              "</style>\n",
              "<table border=\"1\" class=\"dataframe\">\n",
              "  <thead>\n",
              "    <tr style=\"text-align: right;\">\n",
              "      <th></th>\n",
              "      <th>user_id</th>\n",
              "      <th>item_id</th>\n",
              "      <th>timestamp</th>\n",
              "      <th>state_label</th>\n",
              "      <th>delta_u</th>\n",
              "      <th>delta_i</th>\n",
              "      <th>PreviousItemInteraction</th>\n",
              "      <th>next_state_user</th>\n",
              "      <th>f1</th>\n",
              "      <th>f2</th>\n",
              "      <th>f3</th>\n",
              "      <th>f4</th>\n",
              "    </tr>\n",
              "  </thead>\n",
              "  <tbody>\n",
              "    <tr>\n",
              "      <th>0</th>\n",
              "      <td>0.0</td>\n",
              "      <td>0.0</td>\n",
              "      <td>0.0</td>\n",
              "      <td>0.0</td>\n",
              "      <td>0.0</td>\n",
              "      <td>0.0</td>\n",
              "      <td>-1.0</td>\n",
              "      <td>0.0</td>\n",
              "      <td>-0.319991</td>\n",
              "      <td>-0.435701</td>\n",
              "      <td>0.106784</td>\n",
              "      <td>-0.067309</td>\n",
              "    </tr>\n",
              "    <tr>\n",
              "      <th>193426</th>\n",
              "      <td>5904.0</td>\n",
              "      <td>56.0</td>\n",
              "      <td>1393745.0</td>\n",
              "      <td>0.0</td>\n",
              "      <td>0.0</td>\n",
              "      <td>0.0</td>\n",
              "      <td>-1.0</td>\n",
              "      <td>0.0</td>\n",
              "      <td>-0.319991</td>\n",
              "      <td>-0.435701</td>\n",
              "      <td>0.106784</td>\n",
              "      <td>-0.067309</td>\n",
              "    </tr>\n",
              "  </tbody>\n",
              "</table>\n",
              "</div>\n",
              "      <button class=\"colab-df-convert\" onclick=\"convertToInteractive('df-a295664c-56e1-4aae-8d17-649767efffcc')\"\n",
              "              title=\"Convert this dataframe to an interactive table.\"\n",
              "              style=\"display:none;\">\n",
              "        \n",
              "  <svg xmlns=\"http://www.w3.org/2000/svg\" height=\"24px\"viewBox=\"0 0 24 24\"\n",
              "       width=\"24px\">\n",
              "    <path d=\"M0 0h24v24H0V0z\" fill=\"none\"/>\n",
              "    <path d=\"M18.56 5.44l.94 2.06.94-2.06 2.06-.94-2.06-.94-.94-2.06-.94 2.06-2.06.94zm-11 1L8.5 8.5l.94-2.06 2.06-.94-2.06-.94L8.5 2.5l-.94 2.06-2.06.94zm10 10l.94 2.06.94-2.06 2.06-.94-2.06-.94-.94-2.06-.94 2.06-2.06.94z\"/><path d=\"M17.41 7.96l-1.37-1.37c-.4-.4-.92-.59-1.43-.59-.52 0-1.04.2-1.43.59L10.3 9.45l-7.72 7.72c-.78.78-.78 2.05 0 2.83L4 21.41c.39.39.9.59 1.41.59.51 0 1.02-.2 1.41-.59l7.78-7.78 2.81-2.81c.8-.78.8-2.07 0-2.86zM5.41 20L4 18.59l7.72-7.72 1.47 1.35L5.41 20z\"/>\n",
              "  </svg>\n",
              "      </button>\n",
              "      \n",
              "  <style>\n",
              "    .colab-df-container {\n",
              "      display:flex;\n",
              "      flex-wrap:wrap;\n",
              "      gap: 12px;\n",
              "    }\n",
              "\n",
              "    .colab-df-convert {\n",
              "      background-color: #E8F0FE;\n",
              "      border: none;\n",
              "      border-radius: 50%;\n",
              "      cursor: pointer;\n",
              "      display: none;\n",
              "      fill: #1967D2;\n",
              "      height: 32px;\n",
              "      padding: 0 0 0 0;\n",
              "      width: 32px;\n",
              "    }\n",
              "\n",
              "    .colab-df-convert:hover {\n",
              "      background-color: #E2EBFA;\n",
              "      box-shadow: 0px 1px 2px rgba(60, 64, 67, 0.3), 0px 1px 3px 1px rgba(60, 64, 67, 0.15);\n",
              "      fill: #174EA6;\n",
              "    }\n",
              "\n",
              "    [theme=dark] .colab-df-convert {\n",
              "      background-color: #3B4455;\n",
              "      fill: #D2E3FC;\n",
              "    }\n",
              "\n",
              "    [theme=dark] .colab-df-convert:hover {\n",
              "      background-color: #434B5C;\n",
              "      box-shadow: 0px 1px 3px 1px rgba(0, 0, 0, 0.15);\n",
              "      filter: drop-shadow(0px 1px 2px rgba(0, 0, 0, 0.3));\n",
              "      fill: #FFFFFF;\n",
              "    }\n",
              "  </style>\n",
              "\n",
              "      <script>\n",
              "        const buttonEl =\n",
              "          document.querySelector('#df-a295664c-56e1-4aae-8d17-649767efffcc button.colab-df-convert');\n",
              "        buttonEl.style.display =\n",
              "          google.colab.kernel.accessAllowed ? 'block' : 'none';\n",
              "\n",
              "        async function convertToInteractive(key) {\n",
              "          const element = document.querySelector('#df-a295664c-56e1-4aae-8d17-649767efffcc');\n",
              "          const dataTable =\n",
              "            await google.colab.kernel.invokeFunction('convertToInteractive',\n",
              "                                                     [key], {});\n",
              "          if (!dataTable) return;\n",
              "\n",
              "          const docLinkHtml = 'Like what you see? Visit the ' +\n",
              "            '<a target=\"_blank\" href=https://colab.research.google.com/notebooks/data_table.ipynb>data table notebook</a>'\n",
              "            + ' to learn more about interactive tables.';\n",
              "          element.innerHTML = '';\n",
              "          dataTable['output_type'] = 'display_data';\n",
              "          await google.colab.output.renderOutput(dataTable, element);\n",
              "          const docLink = document.createElement('div');\n",
              "          docLink.innerHTML = docLinkHtml;\n",
              "          element.appendChild(docLink);\n",
              "        }\n",
              "      </script>\n",
              "    </div>\n",
              "  </div>\n",
              "  "
            ]
          },
          "metadata": {},
          "execution_count": 42
        }
      ]
    },
    {
      "cell_type": "code",
      "source": [
        "pd.DataFrame(data_torch[[0, 193426],:].numpy(),columns=data.columns)"
      ],
      "metadata": {
        "colab": {
          "base_uri": "https://localhost:8080/",
          "height": 112
        },
        "id": "iJqh5bM2c0lP",
        "outputId": "499ff16a-e370-44c6-8376-656bb2412279"
      },
      "execution_count": null,
      "outputs": [
        {
          "output_type": "execute_result",
          "data": {
            "text/plain": [
              "   user_id  item_id  timestamp  state_label   delta_u   delta_i  \\\n",
              "0      0.0      0.0        0.0          0.0  0.000000  0.000000   \n",
              "1   3910.0     25.0  1393126.0          0.0  8.101007  0.001068   \n",
              "\n",
              "   PreviousItemInteraction  next_state_user        f1        f2        f3  \\\n",
              "0                     -1.0              0.0 -0.319991 -0.435701  0.106784   \n",
              "1                     25.0              0.0 -0.319991 -0.435701  0.106784   \n",
              "\n",
              "         f4  \n",
              "0 -0.067309  \n",
              "1 -0.067309  "
            ],
            "text/html": [
              "\n",
              "  <div id=\"df-e5b35cac-dc10-4577-856a-3e21317bcc94\">\n",
              "    <div class=\"colab-df-container\">\n",
              "      <div>\n",
              "<style scoped>\n",
              "    .dataframe tbody tr th:only-of-type {\n",
              "        vertical-align: middle;\n",
              "    }\n",
              "\n",
              "    .dataframe tbody tr th {\n",
              "        vertical-align: top;\n",
              "    }\n",
              "\n",
              "    .dataframe thead th {\n",
              "        text-align: right;\n",
              "    }\n",
              "</style>\n",
              "<table border=\"1\" class=\"dataframe\">\n",
              "  <thead>\n",
              "    <tr style=\"text-align: right;\">\n",
              "      <th></th>\n",
              "      <th>user_id</th>\n",
              "      <th>item_id</th>\n",
              "      <th>timestamp</th>\n",
              "      <th>state_label</th>\n",
              "      <th>delta_u</th>\n",
              "      <th>delta_i</th>\n",
              "      <th>PreviousItemInteraction</th>\n",
              "      <th>next_state_user</th>\n",
              "      <th>f1</th>\n",
              "      <th>f2</th>\n",
              "      <th>f3</th>\n",
              "      <th>f4</th>\n",
              "    </tr>\n",
              "  </thead>\n",
              "  <tbody>\n",
              "    <tr>\n",
              "      <th>0</th>\n",
              "      <td>0.0</td>\n",
              "      <td>0.0</td>\n",
              "      <td>0.0</td>\n",
              "      <td>0.0</td>\n",
              "      <td>0.000000</td>\n",
              "      <td>0.000000</td>\n",
              "      <td>-1.0</td>\n",
              "      <td>0.0</td>\n",
              "      <td>-0.319991</td>\n",
              "      <td>-0.435701</td>\n",
              "      <td>0.106784</td>\n",
              "      <td>-0.067309</td>\n",
              "    </tr>\n",
              "    <tr>\n",
              "      <th>1</th>\n",
              "      <td>3910.0</td>\n",
              "      <td>25.0</td>\n",
              "      <td>1393126.0</td>\n",
              "      <td>0.0</td>\n",
              "      <td>8.101007</td>\n",
              "      <td>0.001068</td>\n",
              "      <td>25.0</td>\n",
              "      <td>0.0</td>\n",
              "      <td>-0.319991</td>\n",
              "      <td>-0.435701</td>\n",
              "      <td>0.106784</td>\n",
              "      <td>-0.067309</td>\n",
              "    </tr>\n",
              "  </tbody>\n",
              "</table>\n",
              "</div>\n",
              "      <button class=\"colab-df-convert\" onclick=\"convertToInteractive('df-e5b35cac-dc10-4577-856a-3e21317bcc94')\"\n",
              "              title=\"Convert this dataframe to an interactive table.\"\n",
              "              style=\"display:none;\">\n",
              "        \n",
              "  <svg xmlns=\"http://www.w3.org/2000/svg\" height=\"24px\"viewBox=\"0 0 24 24\"\n",
              "       width=\"24px\">\n",
              "    <path d=\"M0 0h24v24H0V0z\" fill=\"none\"/>\n",
              "    <path d=\"M18.56 5.44l.94 2.06.94-2.06 2.06-.94-2.06-.94-.94-2.06-.94 2.06-2.06.94zm-11 1L8.5 8.5l.94-2.06 2.06-.94-2.06-.94L8.5 2.5l-.94 2.06-2.06.94zm10 10l.94 2.06.94-2.06 2.06-.94-2.06-.94-.94-2.06-.94 2.06-2.06.94z\"/><path d=\"M17.41 7.96l-1.37-1.37c-.4-.4-.92-.59-1.43-.59-.52 0-1.04.2-1.43.59L10.3 9.45l-7.72 7.72c-.78.78-.78 2.05 0 2.83L4 21.41c.39.39.9.59 1.41.59.51 0 1.02-.2 1.41-.59l7.78-7.78 2.81-2.81c.8-.78.8-2.07 0-2.86zM5.41 20L4 18.59l7.72-7.72 1.47 1.35L5.41 20z\"/>\n",
              "  </svg>\n",
              "      </button>\n",
              "      \n",
              "  <style>\n",
              "    .colab-df-container {\n",
              "      display:flex;\n",
              "      flex-wrap:wrap;\n",
              "      gap: 12px;\n",
              "    }\n",
              "\n",
              "    .colab-df-convert {\n",
              "      background-color: #E8F0FE;\n",
              "      border: none;\n",
              "      border-radius: 50%;\n",
              "      cursor: pointer;\n",
              "      display: none;\n",
              "      fill: #1967D2;\n",
              "      height: 32px;\n",
              "      padding: 0 0 0 0;\n",
              "      width: 32px;\n",
              "    }\n",
              "\n",
              "    .colab-df-convert:hover {\n",
              "      background-color: #E2EBFA;\n",
              "      box-shadow: 0px 1px 2px rgba(60, 64, 67, 0.3), 0px 1px 3px 1px rgba(60, 64, 67, 0.15);\n",
              "      fill: #174EA6;\n",
              "    }\n",
              "\n",
              "    [theme=dark] .colab-df-convert {\n",
              "      background-color: #3B4455;\n",
              "      fill: #D2E3FC;\n",
              "    }\n",
              "\n",
              "    [theme=dark] .colab-df-convert:hover {\n",
              "      background-color: #434B5C;\n",
              "      box-shadow: 0px 1px 3px 1px rgba(0, 0, 0, 0.15);\n",
              "      filter: drop-shadow(0px 1px 2px rgba(0, 0, 0, 0.3));\n",
              "      fill: #FFFFFF;\n",
              "    }\n",
              "  </style>\n",
              "\n",
              "      <script>\n",
              "        const buttonEl =\n",
              "          document.querySelector('#df-e5b35cac-dc10-4577-856a-3e21317bcc94 button.colab-df-convert');\n",
              "        buttonEl.style.display =\n",
              "          google.colab.kernel.accessAllowed ? 'block' : 'none';\n",
              "\n",
              "        async function convertToInteractive(key) {\n",
              "          const element = document.querySelector('#df-e5b35cac-dc10-4577-856a-3e21317bcc94');\n",
              "          const dataTable =\n",
              "            await google.colab.kernel.invokeFunction('convertToInteractive',\n",
              "                                                     [key], {});\n",
              "          if (!dataTable) return;\n",
              "\n",
              "          const docLinkHtml = 'Like what you see? Visit the ' +\n",
              "            '<a target=\"_blank\" href=https://colab.research.google.com/notebooks/data_table.ipynb>data table notebook</a>'\n",
              "            + ' to learn more about interactive tables.';\n",
              "          element.innerHTML = '';\n",
              "          dataTable['output_type'] = 'display_data';\n",
              "          await google.colab.output.renderOutput(dataTable, element);\n",
              "          const docLink = document.createElement('div');\n",
              "          docLink.innerHTML = docLinkHtml;\n",
              "          element.appendChild(docLink);\n",
              "        }\n",
              "      </script>\n",
              "    </div>\n",
              "  </div>\n",
              "  "
            ]
          },
          "metadata": {},
          "execution_count": 84
        }
      ]
    },
    {
      "cell_type": "code",
      "source": [
        "\n",
        "from torch.nn import MSELoss, HuberLoss,L1Loss,CrossEntropyLoss\n",
        "from preprocessing import *\n",
        "import torch\n",
        "from  torch import nn\n",
        "from torch.nn import RNNCell\n",
        "from torch.nn.functional import one_hot\n",
        "import math\n",
        "from tqdm import tqdm\n",
        "from torch.nn import MSELoss, HuberLoss,L1Loss,CrossEntropyLoss\n",
        "from torch.nn import functional as F\n",
        "\n",
        "def regularizer(actual_user_embedding,future_user_embedding,lambda_u,\n",
        "                               actual_item_embedding,future_item_embedding,lambda_i\n",
        "                               ):\n",
        "    u_regularization_loss =  MSELoss()(actual_user_embedding,future_user_embedding)\n",
        "    i_regularization_loss =  MSELoss()(actual_item_embedding,future_item_embedding)\n",
        "    return lambda_u* u_regularization_loss + lambda_i* i_regularization_loss \n",
        "\n",
        "\n",
        "def train_rodie(t_batches,\n",
        "          data,\n",
        "          U,\n",
        "          I,\n",
        "          weight_ratio,\n",
        "          model,\n",
        "          optimizer,\n",
        "          learning_rate,\n",
        "          n_epochs,\n",
        "          lambda_u,\n",
        "          lambda_i,\n",
        "          device,\n",
        "\n",
        "          ):\n",
        "  print(\"Training...\")\n",
        " # U_copy = U.clone().detach()\n",
        " # I_copy = I.clone().detach()\n",
        "  #scheduler = torch.optim.lr_scheduler.ReduceLROnPlateau(optimizer, 'min')\n",
        "  for e in range(n_epochs):\n",
        "    l = 0\n",
        "    \n",
        "    for (_,rows),_ in zip(t_batches.items(),tqdm(range(len(t_batches)), position=0, leave=True)):\n",
        "      optimizer.zero_grad()\n",
        "      users_idx,items_idx = extractItemUserId(data,rows)\n",
        "\n",
        "      state_label,delta_u,delta_i,f = extractFeatures(data,rows)\n",
        "\n",
        "      next_state,next_item = extractNextStateItem(data,rows)\n",
        "\n",
        "      u_static, i_static = model.static_users_embedding[users_idx], model.static_items_embedding[items_idx]\n",
        "\n",
        "      user_embedding, item_embedding = U[users_idx], I[items_idx]\n",
        "      next_item_static_embedding, next_item_dynamic_embedding = model.static_items_embedding[[int(x) for x in next_item]], I[[int(x) for x in next_item]]\n",
        "\n",
        "     # next_state = next_state.type(torch.LongTensor).to(device)\n",
        "      item_embedding = item_embedding.to(device)\n",
        "      user_embedding  = user_embedding.to(device)\n",
        "      u_static = u_static.to(device)\n",
        "      i_static = i_static.to(device)\n",
        "      f = f.to(device)\n",
        "      delta_u = delta_u.to(device)\n",
        "      delta_i = delta_i.to(device)\n",
        "      next_state = next_state.type(torch.LongTensor).to(device)\n",
        "      next_item_dynamic_embedding = next_item_dynamic_embedding.to(device)\n",
        "      next_item_static_embedding = next_item_static_embedding.to(device)\n",
        "      \n",
        "      # The forward pass of the model : extract dynamic embeddings (user+item ), and predicted user state and predicted item embedding\n",
        "      future_user_embedding,future_item_embedding,U_pred_state,j_tilde,j_true = model(item_embedding,\n",
        "                user_embedding,\n",
        "                u_static,\n",
        "                i_static,\n",
        "                f,\n",
        "                delta_u,\n",
        "                delta_i,\n",
        "                next_state,\n",
        "                next_item_dynamic_embedding,\n",
        "                next_item_static_embedding)\n",
        "      # Add the new embedding to the placeholder U and I\n",
        "      U[users_idx] = future_user_embedding.detach().clone()\n",
        "      I[items_idx] = future_item_embedding.detach().clone() \n",
        "      \n",
        "      # Return loss value between the predicted embedding \"j_tilde\" and the real next item embedding j_true\n",
        "      \n",
        "      loss = MSELoss()(j_tilde,j_true)#.detach()\n",
        "      loss += regularizer(user_embedding,future_user_embedding,lambda_u,\n",
        "                            item_embedding,future_item_embedding,lambda_i\n",
        "                            )\n",
        "      \n",
        "      loss += CrossEntropyLoss(weight_ratio)(U_pred_state,next_state)\n",
        "\n",
        "      #print(I[0])\n",
        "      loss.backward()\n",
        "      l += loss.item()\n",
        "     # torch.nn.utils.clip_grad_norm_(model.parameters(),max_norm=100.)\n",
        "      optimizer.step()\n",
        "\n",
        "    #scheduler.step(loss)\n",
        "    print(\"Epoch {} Loss {}\".format(e,l))\n",
        "\n",
        "  return model,U,I\n"
      ],
      "metadata": {
        "id": "29WeJnocAQP0"
      },
      "execution_count": 113,
      "outputs": []
    },
    {
      "cell_type": "code",
      "execution_count": 114,
      "metadata": {
        "colab": {
          "base_uri": "https://localhost:8080/"
        },
        "id": "Zytz5La7L8A3",
        "outputId": "bfb78b44-09e7-4aab-e3ad-ad8494eecf8c"
      },
      "outputs": [
        {
          "output_type": "stream",
          "name": "stdout",
          "text": [
            "Training...\n"
          ]
        },
        {
          "output_type": "stream",
          "name": "stderr",
          "text": [
            "100%|█████████▉| 4999/5000 [00:36<00:00, 138.02it/s]\n"
          ]
        },
        {
          "output_type": "stream",
          "name": "stdout",
          "text": [
            "Epoch 0 Loss 1868.3039564490318\n"
          ]
        },
        {
          "output_type": "stream",
          "name": "stderr",
          "text": [
            "100%|█████████▉| 4999/5000 [00:34<00:00, 144.43it/s]\n"
          ]
        },
        {
          "output_type": "stream",
          "name": "stdout",
          "text": [
            "Epoch 1 Loss 1826.1337192952633\n"
          ]
        },
        {
          "output_type": "stream",
          "name": "stderr",
          "text": [
            "100%|█████████▉| 4999/5000 [00:34<00:00, 144.65it/s]\n"
          ]
        },
        {
          "output_type": "stream",
          "name": "stdout",
          "text": [
            "Epoch 2 Loss 1825.666567593813\n"
          ]
        },
        {
          "output_type": "stream",
          "name": "stderr",
          "text": [
            "100%|█████████▉| 4999/5000 [00:34<00:00, 144.78it/s]\n"
          ]
        },
        {
          "output_type": "stream",
          "name": "stdout",
          "text": [
            "Epoch 3 Loss 1825.5429551899433\n"
          ]
        },
        {
          "output_type": "stream",
          "name": "stderr",
          "text": [
            "100%|█████████▉| 4999/5000 [00:34<00:00, 144.07it/s]\n"
          ]
        },
        {
          "output_type": "stream",
          "name": "stdout",
          "text": [
            "Epoch 4 Loss 1825.4918059408665\n"
          ]
        },
        {
          "output_type": "stream",
          "name": "stderr",
          "text": [
            "100%|█████████▉| 4999/5000 [00:34<00:00, 144.44it/s]\n"
          ]
        },
        {
          "output_type": "stream",
          "name": "stdout",
          "text": [
            "Epoch 5 Loss 1825.4254592955112\n"
          ]
        },
        {
          "output_type": "stream",
          "name": "stderr",
          "text": [
            "100%|█████████▉| 4999/5000 [00:34<00:00, 145.30it/s]\n"
          ]
        },
        {
          "output_type": "stream",
          "name": "stdout",
          "text": [
            "Epoch 6 Loss 1825.3150892555714\n"
          ]
        },
        {
          "output_type": "stream",
          "name": "stderr",
          "text": [
            "100%|█████████▉| 4999/5000 [00:35<00:00, 139.20it/s]\n"
          ]
        },
        {
          "output_type": "stream",
          "name": "stdout",
          "text": [
            "Epoch 7 Loss 1825.243612408638\n"
          ]
        },
        {
          "output_type": "stream",
          "name": "stderr",
          "text": [
            "100%|█████████▉| 4999/5000 [00:34<00:00, 145.58it/s]\n"
          ]
        },
        {
          "output_type": "stream",
          "name": "stdout",
          "text": [
            "Epoch 8 Loss 1825.1919063329697\n"
          ]
        },
        {
          "output_type": "stream",
          "name": "stderr",
          "text": [
            "100%|█████████▉| 4999/5000 [00:34<00:00, 144.85it/s]"
          ]
        },
        {
          "output_type": "stream",
          "name": "stdout",
          "text": [
            "Epoch 9 Loss 1825.1690669059753\n"
          ]
        },
        {
          "output_type": "stream",
          "name": "stderr",
          "text": [
            "\n"
          ]
        }
      ],
      "source": [
        "n_epochs = 10\n",
        "lambda_u = 1\n",
        "lambda_i = 1\n",
        "learning_rate=1e-3\n",
        "optimizer = torch.optim.Adam(model.parameters(),lr=learning_rate,weight_decay=1e-5)\n",
        "\n",
        "model_,U,I = train_rodie(t_batches_,\n",
        "          data_torch,\n",
        "          U_dynamic,\n",
        "          I_dynamic,\n",
        "          weight_ratio,\n",
        "          model,\n",
        "          optimizer,\n",
        "          learning_rate,\n",
        "          n_epochs,\n",
        "          lambda_u,\n",
        "          lambda_i,\n",
        "          device\n",
        "          )"
      ]
    },
    {
      "cell_type": "code",
      "source": [
        "U.shape"
      ],
      "metadata": {
        "colab": {
          "base_uri": "https://localhost:8080/"
        },
        "id": "1jUue7NsNeOo",
        "outputId": "c19b4a89-c949-44f1-84b1-09baf8307676"
      },
      "execution_count": 95,
      "outputs": [
        {
          "output_type": "execute_result",
          "data": {
            "text/plain": [
              "torch.Size([5959, 32])"
            ]
          },
          "metadata": {},
          "execution_count": 95
        }
      ]
    },
    {
      "cell_type": "markdown",
      "source": [
        "## TSNE"
      ],
      "metadata": {
        "id": "0TnL3bTCZp8P"
      }
    },
    {
      "cell_type": "code",
      "source": [
        "data_ = df_train.copy()"
      ],
      "metadata": {
        "id": "7V8tUbvOLNA4"
      },
      "execution_count": 90,
      "outputs": []
    },
    {
      "cell_type": "code",
      "source": [
        "l = []\n",
        "for x,y in t_batches_.items():\n",
        "  l.append(y)\n",
        "\n",
        "\n",
        "dd = sum(l, [])\n",
        "ff = data.iloc[dd,:].copy()\n",
        "list_of_change = ff[ff['next_state_user'] == 1]['user_id'].values\n",
        "\n",
        "\n",
        "data_  = (U.detach().cpu().clone()).numpy()\n",
        "\n",
        "list_of_change = ff[ff['next_state_user'] == 1]['user_id'].values"
      ],
      "metadata": {
        "id": "s6UpfGj9A11W"
      },
      "execution_count": 115,
      "outputs": []
    },
    {
      "cell_type": "code",
      "source": [
        "len(list_of_change)"
      ],
      "metadata": {
        "id": "0LSHqSRiTd3b",
        "colab": {
          "base_uri": "https://localhost:8080/"
        },
        "outputId": "9c303c80-f1b5-4d3c-aca8-db3b2a0307da"
      },
      "execution_count": 116,
      "outputs": [
        {
          "output_type": "execute_result",
          "data": {
            "text/plain": [
              "244"
            ]
          },
          "metadata": {},
          "execution_count": 116
        }
      ]
    },
    {
      "cell_type": "code",
      "source": [
        "df = pd.DataFrame(data_)\n",
        "df['label'] = np.zeros((7047,1))\n",
        "\n",
        "for index, row in df.iterrows():\n",
        "    for d in list_of_change:\n",
        "      if index == d:\n",
        "        df.iloc[index,-1] = 1\n"
      ],
      "metadata": {
        "id": "PF1JNM2LBBc5"
      },
      "execution_count": 117,
      "outputs": []
    },
    {
      "cell_type": "code",
      "source": [
        "from sklearn.decomposition import KernelPCA,PCA\n",
        "tsne = TSNE(2,learning_rate='auto')\n",
        "data_tsne = tsne.fit_transform(data_)"
      ],
      "metadata": {
        "id": "pb3fEAXsleGN",
        "colab": {
          "base_uri": "https://localhost:8080/"
        },
        "outputId": "7cc3d482-8eda-462f-f89d-97bab5c51e34"
      },
      "execution_count": 133,
      "outputs": [
        {
          "output_type": "stream",
          "name": "stderr",
          "text": [
            "/usr/local/lib/python3.7/dist-packages/sklearn/manifold/_t_sne.py:783: FutureWarning: The default initialization in TSNE will change from 'random' to 'pca' in 1.2.\n",
            "  FutureWarning,\n"
          ]
        }
      ]
    },
    {
      "cell_type": "code",
      "source": [
        "plt.scatter(data_tsne[:,0],data_tsne[:,1],c=df['label'],)"
      ],
      "metadata": {
        "id": "-PEghMfPSdLe",
        "colab": {
          "base_uri": "https://localhost:8080/",
          "height": 283
        },
        "outputId": "593a0e4c-07ce-411f-8134-cc73dafb5468"
      },
      "execution_count": 134,
      "outputs": [
        {
          "output_type": "execute_result",
          "data": {
            "text/plain": [
              "<matplotlib.collections.PathCollection at 0x7fe53e647890>"
            ]
          },
          "metadata": {},
          "execution_count": 134
        },
        {
          "output_type": "display_data",
          "data": {
            "text/plain": [
              "<Figure size 432x288 with 1 Axes>"
            ],
            "image/png": "[encoded data removed]"
          },
          "metadata": {
            "needs_background": "light"
          }
        }
      ]
    },
    {
      "cell_type": "code",
      "source": [
        "L = df[df['label'] == 1.0].index.values"
      ],
      "metadata": {
        "id": "0cTygGYJsSEk"
      },
      "execution_count": null,
      "outputs": []
    },
    {
      "cell_type": "code",
      "source": [
        "plt.scatter(data_tsne[L,0],data_tsne[L,1])"
      ],
      "metadata": {
        "colab": {
          "base_uri": "https://localhost:8080/",
          "height": 302
        },
        "id": "CVtp5M-GsWj5",
        "outputId": "31397356-108f-4f63-9015-481f041a0380"
      },
      "execution_count": null,
      "outputs": [
        {
          "output_type": "execute_result",
          "data": {
            "text/plain": [
              "<matplotlib.collections.PathCollection at 0x7f9e26678190>"
            ]
          },
          "metadata": {},
          "execution_count": 260
        },
        {
          "output_type": "display_data",
          "data": {
            "text/plain": [
              "<Figure size 432x288 with 1 Axes>"
            ],
            "image/png": "[encoded data removed]"
          },
          "metadata": {
            "needs_background": "light"
          }
        }
      ]
    },
    {
      "cell_type": "code",
      "source": [
        "np.sum(df['label'])"
      ],
      "metadata": {
        "colab": {
          "base_uri": "https://localhost:8080/"
        },
        "id": "_e8IcsONTXPR",
        "outputId": "6b25ab78-607c-49e2-f46a-86abadba2539"
      },
      "execution_count": null,
      "outputs": [
        {
          "output_type": "execute_result",
          "data": {
            "text/plain": [
              "2291.0"
            ]
          },
          "metadata": {},
          "execution_count": 113
        }
      ]
    },
    {
      "cell_type": "code",
      "source": [
        "l = df[df['label']==1.0].index.values"
      ],
      "metadata": {
        "id": "H9u2WJ-8Chfo"
      },
      "execution_count": null,
      "outputs": []
    },
    {
      "cell_type": "code",
      "source": [
        "plt.scatter(data_tsne[l,0],data_tsne[l,1])"
      ],
      "metadata": {
        "colab": {
          "base_uri": "https://localhost:8080/",
          "height": 302
        },
        "id": "WV5XDrGlCrGe",
        "outputId": "2c2f7fd4-e875-4b64-c0dd-2a30e9d06476"
      },
      "execution_count": null,
      "outputs": [
        {
          "output_type": "execute_result",
          "data": {
            "text/plain": [
              "<matplotlib.collections.PathCollection at 0x7f9e267ab8d0>"
            ]
          },
          "metadata": {},
          "execution_count": 74
        },
        {
          "output_type": "display_data",
          "data": {
            "text/plain": [
              "<Figure size 432x288 with 1 Axes>"
            ],
            "image/png": "[encoded data removed]"
          },
          "metadata": {
            "needs_background": "light"
          }
        }
      ]
    },
    {
      "cell_type": "code",
      "source": [
        "np.sum(df['label'])"
      ],
      "metadata": {
        "colab": {
          "base_uri": "https://localhost:8080/"
        },
        "id": "q9dkGHfWCGcf",
        "outputId": "4dce9568-0929-433e-ff7e-b4909b799362"
      },
      "execution_count": null,
      "outputs": [
        {
          "output_type": "execute_result",
          "data": {
            "text/plain": [
              "2291.0"
            ]
          },
          "metadata": {},
          "execution_count": 66
        }
      ]
    },
    {
      "cell_type": "code",
      "source": [
        ""
      ],
      "metadata": {
        "id": "G3L9vyoQcu7I"
      },
      "execution_count": null,
      "outputs": []
    }
  ],
  "metadata": {
    "interpreter": {
      "hash": "bef1584e9c6af06ba1c2e66d205bd6622ae056162fc057ef1acd3cc06b90e6ba"
    },
    "kernelspec": {
      "display_name": "Python 3.8.8 ('base')",
      "language": "python",
      "name": "python3"
    },
    "language_info": {
      "codemirror_mode": {
        "name": "ipython",
        "version": 3
      },
      "file_extension": ".py",
      "mimetype": "text/x-python",
      "name": "python",
      "nbconvert_exporter": "python",
      "pygments_lexer": "ipython3",
      "version": "3.8.8"
    },
    "orig_nbformat": 4,
    "colab": {
      "name": "testsUnitaires.ipynb",
      "provenance": [],
      "collapsed_sections": []
    },
    "accelerator": "GPU"
  },
  "nbformat": 4,
  "nbformat_minor": 0
}